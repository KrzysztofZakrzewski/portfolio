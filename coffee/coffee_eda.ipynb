{
 "cells": [
  {
   "cell_type": "code",
   "execution_count": null,
   "id": "1f52f5b2-beb3-4972-8e03-d5c991c6af14",
   "metadata": {},
   "outputs": [],
   "source": [
    "import pandas as pd\n",
    "import numpy as np\n",
    "import seaborn as sns\n",
    "import matplotlib.pyplot as plt\n",
    "import plotly.express as px\n",
    "# import kaggle\n",
    "import zipfile\n",
    "from IPython.display import Markdown"
   ]
  },
  {
   "cell_type": "code",
   "execution_count": 185,
   "id": "15352126-d5ee-4755-83d0-0625e267d447",
   "metadata": {},
   "outputs": [],
   "source": [
    "# !kaggle datasets download -d navjotkaushal/coffee-sales-dataset"
   ]
  },
  {
   "cell_type": "code",
   "execution_count": 186,
   "id": "ceebdc1e-9c56-40e4-9aa7-d99114bf398f",
   "metadata": {},
   "outputs": [],
   "source": [
    "# with zipfile.ZipFile('coffee-sales-dataset.zip', 'r') as zip_ref:\n",
    "#     zip_ref.extractall('data')"
   ]
  },
  {
   "cell_type": "code",
   "execution_count": 187,
   "id": "621da25c-0ca3-4d0b-8157-a1f2d16a361c",
   "metadata": {},
   "outputs": [],
   "source": [
    "coffee_df = pd.read_csv('data/Coffe_sales.csv')"
   ]
  },
  {
   "cell_type": "markdown",
   "id": "c2d9f69e",
   "metadata": {},
   "source": [
    "# ☕ Analysis goals"
   ]
  },
  {
   "cell_type": "markdown",
   "id": "19fded31",
   "metadata": {},
   "source": [
    "### Analysis Objectives\n",
    "\n",
    "1. **Explore sales patterns over time**  \n",
    "   - Examine coffee sales by hour, day of the week, and month.  \n",
    "   - Identify the busiest hours and sales distribution across the day.\n",
    "\n",
    "2. **Identify outliers in sales**  \n",
    "   - Detect unusual sales days or transactions (e.g., very high or low sales).  \n",
    "   - Investigate whether these outliers correspond to holidays or special events.\n",
    "\n",
    "3. **Analyze sales by coffee type and time of day**  \n",
    "   - Determine which coffee types sell the most during Morning, Afternoon, Evening, and Night.  \n",
    "   - Calculate percentage share of each coffee type per time of day.\n",
    "\n",
    "4. **Examine monthly revenue trends**  \n",
    "   - Aggregate revenue per month (considering the year) to detect seasonality.  \n",
    "   - Visualize trends and highlight months with exceptionally high or low revenue.\n",
    "\n",
    "5. **Investigate potential link to U.S. holidays**  \n",
    "   - Check if sales patterns align with major U.S. holidays (e.g., July 4th, Labor Day, Thanksgiving).  \n",
    "   - Assess whether the data could plausibly come from the U.S. based on holiday effects."
   ]
  },
  {
   "cell_type": "markdown",
   "id": "00b0b40e-8536-48bd-b8f8-414cb260c2b6",
   "metadata": {},
   "source": [
    "# ☕ 1: General Data Overview"
   ]
  },
  {
   "cell_type": "code",
   "execution_count": 188,
   "id": "e768b166-5201-4d98-8296-cf76443c373f",
   "metadata": {},
   "outputs": [
    {
     "data": {
      "text/html": [
       "<div>\n",
       "<style scoped>\n",
       "    .dataframe tbody tr th:only-of-type {\n",
       "        vertical-align: middle;\n",
       "    }\n",
       "\n",
       "    .dataframe tbody tr th {\n",
       "        vertical-align: top;\n",
       "    }\n",
       "\n",
       "    .dataframe thead th {\n",
       "        text-align: right;\n",
       "    }\n",
       "</style>\n",
       "<table border=\"1\" class=\"dataframe\">\n",
       "  <thead>\n",
       "    <tr style=\"text-align: right;\">\n",
       "      <th></th>\n",
       "      <th>hour_of_day</th>\n",
       "      <th>cash_type</th>\n",
       "      <th>money</th>\n",
       "      <th>coffee_name</th>\n",
       "      <th>Time_of_Day</th>\n",
       "      <th>Weekday</th>\n",
       "      <th>Month_name</th>\n",
       "      <th>Weekdaysort</th>\n",
       "      <th>Monthsort</th>\n",
       "      <th>Date</th>\n",
       "      <th>Time</th>\n",
       "    </tr>\n",
       "  </thead>\n",
       "  <tbody>\n",
       "    <tr>\n",
       "      <th>2269</th>\n",
       "      <td>7</td>\n",
       "      <td>card</td>\n",
       "      <td>35.76</td>\n",
       "      <td>Latte</td>\n",
       "      <td>Morning</td>\n",
       "      <td>Tue</td>\n",
       "      <td>Nov</td>\n",
       "      <td>2</td>\n",
       "      <td>11</td>\n",
       "      <td>2024-11-19</td>\n",
       "      <td>07:52:13.414000</td>\n",
       "    </tr>\n",
       "    <tr>\n",
       "      <th>518</th>\n",
       "      <td>17</td>\n",
       "      <td>card</td>\n",
       "      <td>37.72</td>\n",
       "      <td>Cappuccino</td>\n",
       "      <td>Night</td>\n",
       "      <td>Sun</td>\n",
       "      <td>May</td>\n",
       "      <td>7</td>\n",
       "      <td>5</td>\n",
       "      <td>2024-05-26</td>\n",
       "      <td>17:19:15.521000</td>\n",
       "    </tr>\n",
       "    <tr>\n",
       "      <th>1399</th>\n",
       "      <td>15</td>\n",
       "      <td>card</td>\n",
       "      <td>32.82</td>\n",
       "      <td>Latte</td>\n",
       "      <td>Afternoon</td>\n",
       "      <td>Sat</td>\n",
       "      <td>Sep</td>\n",
       "      <td>6</td>\n",
       "      <td>9</td>\n",
       "      <td>2024-09-07</td>\n",
       "      <td>15:55:08.533000</td>\n",
       "    </tr>\n",
       "    <tr>\n",
       "      <th>1419</th>\n",
       "      <td>9</td>\n",
       "      <td>card</td>\n",
       "      <td>32.82</td>\n",
       "      <td>Latte</td>\n",
       "      <td>Morning</td>\n",
       "      <td>Mon</td>\n",
       "      <td>Sep</td>\n",
       "      <td>1</td>\n",
       "      <td>9</td>\n",
       "      <td>2024-09-09</td>\n",
       "      <td>09:59:10.750000</td>\n",
       "    </tr>\n",
       "    <tr>\n",
       "      <th>309</th>\n",
       "      <td>15</td>\n",
       "      <td>card</td>\n",
       "      <td>37.72</td>\n",
       "      <td>Latte</td>\n",
       "      <td>Afternoon</td>\n",
       "      <td>Thu</td>\n",
       "      <td>Apr</td>\n",
       "      <td>4</td>\n",
       "      <td>4</td>\n",
       "      <td>2024-04-25</td>\n",
       "      <td>15:18:26.971000</td>\n",
       "    </tr>\n",
       "  </tbody>\n",
       "</table>\n",
       "</div>"
      ],
      "text/plain": [
       "      hour_of_day cash_type  money coffee_name Time_of_Day Weekday Month_name  \\\n",
       "2269            7      card  35.76       Latte     Morning     Tue        Nov   \n",
       "518            17      card  37.72  Cappuccino       Night     Sun        May   \n",
       "1399           15      card  32.82       Latte   Afternoon     Sat        Sep   \n",
       "1419            9      card  32.82       Latte     Morning     Mon        Sep   \n",
       "309            15      card  37.72       Latte   Afternoon     Thu        Apr   \n",
       "\n",
       "      Weekdaysort  Monthsort        Date             Time  \n",
       "2269            2         11  2024-11-19  07:52:13.414000  \n",
       "518             7          5  2024-05-26  17:19:15.521000  \n",
       "1399            6          9  2024-09-07  15:55:08.533000  \n",
       "1419            1          9  2024-09-09  09:59:10.750000  \n",
       "309             4          4  2024-04-25  15:18:26.971000  "
      ]
     },
     "execution_count": 188,
     "metadata": {},
     "output_type": "execute_result"
    }
   ],
   "source": [
    "coffee_df.sample(5)"
   ]
  },
  {
   "cell_type": "markdown",
   "id": "95de6af8",
   "metadata": {},
   "source": [
    "### Data Frame condition"
   ]
  },
  {
   "cell_type": "code",
   "execution_count": 189,
   "id": "2b572397-64c3-4344-b875-2d8104c6b0da",
   "metadata": {},
   "outputs": [
    {
     "data": {
      "text/html": [
       "<div>\n",
       "<style scoped>\n",
       "    .dataframe tbody tr th:only-of-type {\n",
       "        vertical-align: middle;\n",
       "    }\n",
       "\n",
       "    .dataframe tbody tr th {\n",
       "        vertical-align: top;\n",
       "    }\n",
       "\n",
       "    .dataframe thead th {\n",
       "        text-align: right;\n",
       "    }\n",
       "</style>\n",
       "<table border=\"1\" class=\"dataframe\">\n",
       "  <thead>\n",
       "    <tr style=\"text-align: right;\">\n",
       "      <th></th>\n",
       "      <th>Column</th>\n",
       "      <th>Data Type</th>\n",
       "      <th>Missing Values</th>\n",
       "      <th>Unique Values</th>\n",
       "    </tr>\n",
       "  </thead>\n",
       "  <tbody>\n",
       "    <tr>\n",
       "      <th>0</th>\n",
       "      <td>hour_of_day</td>\n",
       "      <td>int64</td>\n",
       "      <td>0</td>\n",
       "      <td>17</td>\n",
       "    </tr>\n",
       "    <tr>\n",
       "      <th>1</th>\n",
       "      <td>cash_type</td>\n",
       "      <td>object</td>\n",
       "      <td>0</td>\n",
       "      <td>1</td>\n",
       "    </tr>\n",
       "    <tr>\n",
       "      <th>2</th>\n",
       "      <td>money</td>\n",
       "      <td>float64</td>\n",
       "      <td>0</td>\n",
       "      <td>13</td>\n",
       "    </tr>\n",
       "    <tr>\n",
       "      <th>3</th>\n",
       "      <td>coffee_name</td>\n",
       "      <td>object</td>\n",
       "      <td>0</td>\n",
       "      <td>8</td>\n",
       "    </tr>\n",
       "    <tr>\n",
       "      <th>4</th>\n",
       "      <td>Time_of_Day</td>\n",
       "      <td>object</td>\n",
       "      <td>0</td>\n",
       "      <td>3</td>\n",
       "    </tr>\n",
       "    <tr>\n",
       "      <th>5</th>\n",
       "      <td>Weekday</td>\n",
       "      <td>object</td>\n",
       "      <td>0</td>\n",
       "      <td>7</td>\n",
       "    </tr>\n",
       "    <tr>\n",
       "      <th>6</th>\n",
       "      <td>Month_name</td>\n",
       "      <td>object</td>\n",
       "      <td>0</td>\n",
       "      <td>12</td>\n",
       "    </tr>\n",
       "    <tr>\n",
       "      <th>7</th>\n",
       "      <td>Weekdaysort</td>\n",
       "      <td>int64</td>\n",
       "      <td>0</td>\n",
       "      <td>7</td>\n",
       "    </tr>\n",
       "    <tr>\n",
       "      <th>8</th>\n",
       "      <td>Monthsort</td>\n",
       "      <td>int64</td>\n",
       "      <td>0</td>\n",
       "      <td>12</td>\n",
       "    </tr>\n",
       "    <tr>\n",
       "      <th>9</th>\n",
       "      <td>Date</td>\n",
       "      <td>object</td>\n",
       "      <td>0</td>\n",
       "      <td>381</td>\n",
       "    </tr>\n",
       "    <tr>\n",
       "      <th>10</th>\n",
       "      <td>Time</td>\n",
       "      <td>object</td>\n",
       "      <td>0</td>\n",
       "      <td>3547</td>\n",
       "    </tr>\n",
       "  </tbody>\n",
       "</table>\n",
       "</div>"
      ],
      "text/plain": [
       "         Column Data Type  Missing Values  Unique Values\n",
       "0   hour_of_day     int64               0             17\n",
       "1     cash_type    object               0              1\n",
       "2         money   float64               0             13\n",
       "3   coffee_name    object               0              8\n",
       "4   Time_of_Day    object               0              3\n",
       "5       Weekday    object               0              7\n",
       "6    Month_name    object               0             12\n",
       "7   Weekdaysort     int64               0              7\n",
       "8     Monthsort     int64               0             12\n",
       "9          Date    object               0            381\n",
       "10         Time    object               0           3547"
      ]
     },
     "execution_count": 189,
     "metadata": {},
     "output_type": "execute_result"
    }
   ],
   "source": [
    "info_df = pd.DataFrame({\n",
    "    'Column': coffee_df.columns,\n",
    "    'Data Type': coffee_df.dtypes.values,\n",
    "    'Missing Values': coffee_df.isna().sum().values,\n",
    "    'Unique Values': coffee_df.nunique().values\n",
    "})\n",
    "info_df"
   ]
  },
  {
   "cell_type": "code",
   "execution_count": 190,
   "id": "7869ef64-3b5e-46c2-99d0-f83562e021ee",
   "metadata": {},
   "outputs": [
    {
     "data": {
      "text/markdown": [
       " #### Total Unique Values: **4008**"
      ],
      "text/plain": [
       "<IPython.core.display.Markdown object>"
      ]
     },
     "execution_count": 190,
     "metadata": {},
     "output_type": "execute_result"
    }
   ],
   "source": [
    "Markdown(f' #### Total Unique Values: **{coffee_df.nunique().sum()}**')"
   ]
  },
  {
   "cell_type": "code",
   "execution_count": 191,
   "id": "a2d41e78-380f-44a9-8895-65632493f915",
   "metadata": {},
   "outputs": [
    {
     "data": {
      "text/markdown": [
       " #### Total Missing Values: 0"
      ],
      "text/plain": [
       "<IPython.core.display.Markdown object>"
      ]
     },
     "execution_count": 191,
     "metadata": {},
     "output_type": "execute_result"
    }
   ],
   "source": [
    "Markdown(f' #### Total Missing Values: {coffee_df.isna().sum().sum()}')"
   ]
  },
  {
   "cell_type": "code",
   "execution_count": 192,
   "id": "3214398b-4802-421b-91cb-1db34852585a",
   "metadata": {},
   "outputs": [
    {
     "data": {
      "text/markdown": [
       " #### Total Number of Duplicates: 0"
      ],
      "text/plain": [
       "<IPython.core.display.Markdown object>"
      ]
     },
     "execution_count": 192,
     "metadata": {},
     "output_type": "execute_result"
    }
   ],
   "source": [
    "Markdown(f' #### Total Number of Duplicates: {coffee_df.duplicated().sum()}')"
   ]
  },
  {
   "cell_type": "code",
   "execution_count": 193,
   "id": "82e11b24-d57b-45c5-8caf-6e62e55f625e",
   "metadata": {},
   "outputs": [
    {
     "data": {
      "text/markdown": [
       " #### As we can see, data preprocessing is needed for date and time fields."
      ],
      "text/plain": [
       "<IPython.core.display.Markdown object>"
      ]
     },
     "execution_count": 193,
     "metadata": {},
     "output_type": "execute_result"
    }
   ],
   "source": [
    "Markdown(f' #### As we can see, data preprocessing is needed for date and time fields.')"
   ]
  },
  {
   "cell_type": "markdown",
   "id": "8a43f402",
   "metadata": {},
   "source": [
    "Changes made to the DataFrame:\n",
    "\n",
    "Added a new time-of-day category: \"Evening\" to gain better insights into sales\n",
    "\n",
    "Added a DateTime column as a pandas datetime\n",
    "\n",
    "Converted the Time column format to Python datetime"
   ]
  },
  {
   "cell_type": "markdown",
   "id": "8e439eb2",
   "metadata": {},
   "source": [
    "### The data does not require any cleaning."
   ]
  },
  {
   "cell_type": "code",
   "execution_count": 194,
   "id": "85fc83c7-1659-48fd-ab7c-4b0f983a27b1",
   "metadata": {},
   "outputs": [],
   "source": [
    "# mask_evening = (coffee_df[\"hour_of_day\"] >= 18) & (coffee_df[\"hour_of_day\"] < 22)\n",
    "# coffee_df.loc[mask_evening, \"Time_of_Day\"] = \"Evening\"\n",
    "\n",
    "def get_time_of_day(hour):\n",
    "    if 5 <= hour < 12:\n",
    "        return \"Morning\"\n",
    "    elif 12 <= hour < 18:\n",
    "        return \"Afternoon\"\n",
    "    elif 18 <= hour < 21:\n",
    "        return \"Evening\"\n",
    "    else:\n",
    "        return \"Night\"\n",
    "\n",
    "coffee_df[\"Time_of_Day\"] = coffee_df[\"hour_of_day\"].map(get_time_of_day)"
   ]
  },
  {
   "cell_type": "code",
   "execution_count": 195,
   "id": "dd4766a9-29f3-4e8d-872e-6869e840bfd8",
   "metadata": {},
   "outputs": [],
   "source": [
    "coffee_df['Time'] = coffee_df['Time'].str[:8]\n",
    "coffee_df['Date Time'] = coffee_df['Date'].astype(str) + ' ' + coffee_df['Time']"
   ]
  },
  {
   "cell_type": "code",
   "execution_count": 196,
   "id": "af2daccc-4ecc-41b2-a942-b43167303bc1",
   "metadata": {},
   "outputs": [],
   "source": [
    "\n",
    "coffee_df['Date Time'] = pd.to_datetime(coffee_df['Date Time'])\n",
    "# coffee_df[\"Time\"] = pd.to_datetime(coffee_df[\"Time\"], format=\"%H:%M:%S\", errors=\"coerce\")\n",
    "# coffee_df[\"Time\"] = pd.to_datetime(coffee_df[\"Time\"], format=\"%H:%M:%S\").dt.time\n",
    "coffee_df[\"Time\"] = coffee_df[\"Date Time\"].dt.time"
   ]
  },
  {
   "cell_type": "code",
   "execution_count": 197,
   "id": "f80af5e8-7eaa-40bf-ba68-46518ffcb90e",
   "metadata": {},
   "outputs": [
    {
     "data": {
      "text/markdown": [
       " #### The data covers the period from 2024-03-01 do 2025-03-23"
      ],
      "text/plain": [
       "<IPython.core.display.Markdown object>"
      ]
     },
     "execution_count": 197,
     "metadata": {},
     "output_type": "execute_result"
    }
   ],
   "source": [
    "star_date = coffee_df['Date Time'].min().date()\n",
    "end_date = coffee_df['Date Time'].max().date()\n",
    "\n",
    "Markdown(f' #### The data covers the period from {star_date} do {end_date}')"
   ]
  },
  {
   "cell_type": "code",
   "execution_count": 198,
   "id": "d026dee2-d755-45e5-b10d-ad8bdd414716",
   "metadata": {},
   "outputs": [
    {
     "data": {
      "text/markdown": [
       " #### The earliest coffee purchase was at 06:50:04, and the latest coffee purchase was at 22:59:18"
      ],
      "text/plain": [
       "<IPython.core.display.Markdown object>"
      ]
     },
     "execution_count": 198,
     "metadata": {},
     "output_type": "execute_result"
    }
   ],
   "source": [
    "latest_time = coffee_df[\"Time\"].max()\n",
    "earliest_coffee = coffee_df[\"Time\"].min()\n",
    "Markdown(f' #### The earliest coffee purchase was at {earliest_coffee}, and the latest coffee purchase was at {latest_time}')"
   ]
  },
  {
   "cell_type": "markdown",
   "id": "a3ce11a7",
   "metadata": {},
   "source": [
    "###  Data Frame condition after the changes introduced"
   ]
  },
  {
   "cell_type": "code",
   "execution_count": 199,
   "id": "2ab8f959",
   "metadata": {},
   "outputs": [
    {
     "data": {
      "text/html": [
       "<style type=\"text/css\">\n",
       "#T_02f7d_row4_col0, #T_02f7d_row10_col0, #T_02f7d_row11_col0 {\n",
       "  font-weight: bold;\n",
       "  color: #C69C6D;\n",
       "}\n",
       "</style>\n",
       "<table id=\"T_02f7d\">\n",
       "  <thead>\n",
       "    <tr>\n",
       "      <th class=\"blank level0\" >&nbsp;</th>\n",
       "      <th id=\"T_02f7d_level0_col0\" class=\"col_heading level0 col0\" >Column</th>\n",
       "      <th id=\"T_02f7d_level0_col1\" class=\"col_heading level0 col1\" >Data Type</th>\n",
       "      <th id=\"T_02f7d_level0_col2\" class=\"col_heading level0 col2\" >Missing Values</th>\n",
       "      <th id=\"T_02f7d_level0_col3\" class=\"col_heading level0 col3\" >Unique Values</th>\n",
       "    </tr>\n",
       "  </thead>\n",
       "  <tbody>\n",
       "    <tr>\n",
       "      <th id=\"T_02f7d_level0_row0\" class=\"row_heading level0 row0\" >0</th>\n",
       "      <td id=\"T_02f7d_row0_col0\" class=\"data row0 col0\" >hour_of_day</td>\n",
       "      <td id=\"T_02f7d_row0_col1\" class=\"data row0 col1\" >int64</td>\n",
       "      <td id=\"T_02f7d_row0_col2\" class=\"data row0 col2\" >0</td>\n",
       "      <td id=\"T_02f7d_row0_col3\" class=\"data row0 col3\" >17</td>\n",
       "    </tr>\n",
       "    <tr>\n",
       "      <th id=\"T_02f7d_level0_row1\" class=\"row_heading level0 row1\" >1</th>\n",
       "      <td id=\"T_02f7d_row1_col0\" class=\"data row1 col0\" >cash_type</td>\n",
       "      <td id=\"T_02f7d_row1_col1\" class=\"data row1 col1\" >object</td>\n",
       "      <td id=\"T_02f7d_row1_col2\" class=\"data row1 col2\" >0</td>\n",
       "      <td id=\"T_02f7d_row1_col3\" class=\"data row1 col3\" >1</td>\n",
       "    </tr>\n",
       "    <tr>\n",
       "      <th id=\"T_02f7d_level0_row2\" class=\"row_heading level0 row2\" >2</th>\n",
       "      <td id=\"T_02f7d_row2_col0\" class=\"data row2 col0\" >money</td>\n",
       "      <td id=\"T_02f7d_row2_col1\" class=\"data row2 col1\" >float64</td>\n",
       "      <td id=\"T_02f7d_row2_col2\" class=\"data row2 col2\" >0</td>\n",
       "      <td id=\"T_02f7d_row2_col3\" class=\"data row2 col3\" >13</td>\n",
       "    </tr>\n",
       "    <tr>\n",
       "      <th id=\"T_02f7d_level0_row3\" class=\"row_heading level0 row3\" >3</th>\n",
       "      <td id=\"T_02f7d_row3_col0\" class=\"data row3 col0\" >coffee_name</td>\n",
       "      <td id=\"T_02f7d_row3_col1\" class=\"data row3 col1\" >object</td>\n",
       "      <td id=\"T_02f7d_row3_col2\" class=\"data row3 col2\" >0</td>\n",
       "      <td id=\"T_02f7d_row3_col3\" class=\"data row3 col3\" >8</td>\n",
       "    </tr>\n",
       "    <tr>\n",
       "      <th id=\"T_02f7d_level0_row4\" class=\"row_heading level0 row4\" >4</th>\n",
       "      <td id=\"T_02f7d_row4_col0\" class=\"data row4 col0\" >Time_of_Day</td>\n",
       "      <td id=\"T_02f7d_row4_col1\" class=\"data row4 col1\" >object</td>\n",
       "      <td id=\"T_02f7d_row4_col2\" class=\"data row4 col2\" >0</td>\n",
       "      <td id=\"T_02f7d_row4_col3\" class=\"data row4 col3\" >4</td>\n",
       "    </tr>\n",
       "    <tr>\n",
       "      <th id=\"T_02f7d_level0_row5\" class=\"row_heading level0 row5\" >5</th>\n",
       "      <td id=\"T_02f7d_row5_col0\" class=\"data row5 col0\" >Weekday</td>\n",
       "      <td id=\"T_02f7d_row5_col1\" class=\"data row5 col1\" >object</td>\n",
       "      <td id=\"T_02f7d_row5_col2\" class=\"data row5 col2\" >0</td>\n",
       "      <td id=\"T_02f7d_row5_col3\" class=\"data row5 col3\" >7</td>\n",
       "    </tr>\n",
       "    <tr>\n",
       "      <th id=\"T_02f7d_level0_row6\" class=\"row_heading level0 row6\" >6</th>\n",
       "      <td id=\"T_02f7d_row6_col0\" class=\"data row6 col0\" >Month_name</td>\n",
       "      <td id=\"T_02f7d_row6_col1\" class=\"data row6 col1\" >object</td>\n",
       "      <td id=\"T_02f7d_row6_col2\" class=\"data row6 col2\" >0</td>\n",
       "      <td id=\"T_02f7d_row6_col3\" class=\"data row6 col3\" >12</td>\n",
       "    </tr>\n",
       "    <tr>\n",
       "      <th id=\"T_02f7d_level0_row7\" class=\"row_heading level0 row7\" >7</th>\n",
       "      <td id=\"T_02f7d_row7_col0\" class=\"data row7 col0\" >Weekdaysort</td>\n",
       "      <td id=\"T_02f7d_row7_col1\" class=\"data row7 col1\" >int64</td>\n",
       "      <td id=\"T_02f7d_row7_col2\" class=\"data row7 col2\" >0</td>\n",
       "      <td id=\"T_02f7d_row7_col3\" class=\"data row7 col3\" >7</td>\n",
       "    </tr>\n",
       "    <tr>\n",
       "      <th id=\"T_02f7d_level0_row8\" class=\"row_heading level0 row8\" >8</th>\n",
       "      <td id=\"T_02f7d_row8_col0\" class=\"data row8 col0\" >Monthsort</td>\n",
       "      <td id=\"T_02f7d_row8_col1\" class=\"data row8 col1\" >int64</td>\n",
       "      <td id=\"T_02f7d_row8_col2\" class=\"data row8 col2\" >0</td>\n",
       "      <td id=\"T_02f7d_row8_col3\" class=\"data row8 col3\" >12</td>\n",
       "    </tr>\n",
       "    <tr>\n",
       "      <th id=\"T_02f7d_level0_row9\" class=\"row_heading level0 row9\" >9</th>\n",
       "      <td id=\"T_02f7d_row9_col0\" class=\"data row9 col0\" >Date</td>\n",
       "      <td id=\"T_02f7d_row9_col1\" class=\"data row9 col1\" >object</td>\n",
       "      <td id=\"T_02f7d_row9_col2\" class=\"data row9 col2\" >0</td>\n",
       "      <td id=\"T_02f7d_row9_col3\" class=\"data row9 col3\" >381</td>\n",
       "    </tr>\n",
       "    <tr>\n",
       "      <th id=\"T_02f7d_level0_row10\" class=\"row_heading level0 row10\" >10</th>\n",
       "      <td id=\"T_02f7d_row10_col0\" class=\"data row10 col0\" >Time</td>\n",
       "      <td id=\"T_02f7d_row10_col1\" class=\"data row10 col1\" >object</td>\n",
       "      <td id=\"T_02f7d_row10_col2\" class=\"data row10 col2\" >0</td>\n",
       "      <td id=\"T_02f7d_row10_col3\" class=\"data row10 col3\" >3428</td>\n",
       "    </tr>\n",
       "    <tr>\n",
       "      <th id=\"T_02f7d_level0_row11\" class=\"row_heading level0 row11\" >11</th>\n",
       "      <td id=\"T_02f7d_row11_col0\" class=\"data row11 col0\" >Date Time</td>\n",
       "      <td id=\"T_02f7d_row11_col1\" class=\"data row11 col1\" >datetime64[ns]</td>\n",
       "      <td id=\"T_02f7d_row11_col2\" class=\"data row11 col2\" >0</td>\n",
       "      <td id=\"T_02f7d_row11_col3\" class=\"data row11 col3\" >3547</td>\n",
       "    </tr>\n",
       "  </tbody>\n",
       "</table>\n"
      ],
      "text/plain": [
       "<pandas.io.formats.style.Styler at 0x246dd99cb90>"
      ]
     },
     "execution_count": 199,
     "metadata": {},
     "output_type": "execute_result"
    }
   ],
   "source": [
    "highlight_cols = ['Date Time', 'Time', 'Time_of_Day']\n",
    "\n",
    "def highlight_column(val):\n",
    "    if val in highlight_cols:\n",
    "        return 'font-weight: bold; color: #C69C6D'\n",
    "    return ''\n",
    "\n",
    "info_df = pd.DataFrame({\n",
    "    'Column': coffee_df.columns,\n",
    "    'Data Type': coffee_df.dtypes.values,\n",
    "    'Missing Values': coffee_df.isna().sum().values,\n",
    "    'Unique Values': coffee_df.nunique().values\n",
    "})\n",
    "\n",
    "info_df.style.map(highlight_column, subset=['Column'])\n"
   ]
  },
  {
   "cell_type": "markdown",
   "id": "71cdf25b",
   "metadata": {},
   "source": [
    "Statistical summary of the dataset:"
   ]
  },
  {
   "cell_type": "code",
   "execution_count": 200,
   "id": "ff1d3edf",
   "metadata": {},
   "outputs": [
    {
     "data": {
      "text/html": [
       "<div>\n",
       "<style scoped>\n",
       "    .dataframe tbody tr th:only-of-type {\n",
       "        vertical-align: middle;\n",
       "    }\n",
       "\n",
       "    .dataframe tbody tr th {\n",
       "        vertical-align: top;\n",
       "    }\n",
       "\n",
       "    .dataframe thead th {\n",
       "        text-align: right;\n",
       "    }\n",
       "</style>\n",
       "<table border=\"1\" class=\"dataframe\">\n",
       "  <thead>\n",
       "    <tr style=\"text-align: right;\">\n",
       "      <th></th>\n",
       "      <th>count</th>\n",
       "      <th>mean</th>\n",
       "      <th>min</th>\n",
       "      <th>25%</th>\n",
       "      <th>50%</th>\n",
       "      <th>75%</th>\n",
       "      <th>max</th>\n",
       "      <th>std</th>\n",
       "    </tr>\n",
       "  </thead>\n",
       "  <tbody>\n",
       "    <tr>\n",
       "      <th>hour_of_day</th>\n",
       "      <td>3547.0</td>\n",
       "      <td>14.185791</td>\n",
       "      <td>6.0</td>\n",
       "      <td>10.0</td>\n",
       "      <td>14.0</td>\n",
       "      <td>18.0</td>\n",
       "      <td>22.0</td>\n",
       "      <td>4.23401</td>\n",
       "    </tr>\n",
       "    <tr>\n",
       "      <th>money</th>\n",
       "      <td>3547.0</td>\n",
       "      <td>31.645216</td>\n",
       "      <td>18.12</td>\n",
       "      <td>27.92</td>\n",
       "      <td>32.82</td>\n",
       "      <td>35.76</td>\n",
       "      <td>38.7</td>\n",
       "      <td>4.877754</td>\n",
       "    </tr>\n",
       "    <tr>\n",
       "      <th>Weekdaysort</th>\n",
       "      <td>3547.0</td>\n",
       "      <td>3.845785</td>\n",
       "      <td>1.0</td>\n",
       "      <td>2.0</td>\n",
       "      <td>4.0</td>\n",
       "      <td>6.0</td>\n",
       "      <td>7.0</td>\n",
       "      <td>1.971501</td>\n",
       "    </tr>\n",
       "    <tr>\n",
       "      <th>Monthsort</th>\n",
       "      <td>3547.0</td>\n",
       "      <td>6.453905</td>\n",
       "      <td>1.0</td>\n",
       "      <td>3.0</td>\n",
       "      <td>7.0</td>\n",
       "      <td>10.0</td>\n",
       "      <td>12.0</td>\n",
       "      <td>3.500754</td>\n",
       "    </tr>\n",
       "    <tr>\n",
       "      <th>Date Time</th>\n",
       "      <td>3547</td>\n",
       "      <td>2024-10-05 08:15:19.208062976</td>\n",
       "      <td>2024-03-01 10:15:50</td>\n",
       "      <td>2024-07-18 00:07:36</td>\n",
       "      <td>2024-10-10 09:51:44</td>\n",
       "      <td>2025-01-11 11:46:11.500000</td>\n",
       "      <td>2025-03-23 18:11:38</td>\n",
       "      <td>NaN</td>\n",
       "    </tr>\n",
       "  </tbody>\n",
       "</table>\n",
       "</div>"
      ],
      "text/plain": [
       "              count                           mean                  min  \\\n",
       "hour_of_day  3547.0                      14.185791                  6.0   \n",
       "money        3547.0                      31.645216                18.12   \n",
       "Weekdaysort  3547.0                       3.845785                  1.0   \n",
       "Monthsort    3547.0                       6.453905                  1.0   \n",
       "Date Time      3547  2024-10-05 08:15:19.208062976  2024-03-01 10:15:50   \n",
       "\n",
       "                             25%                  50%  \\\n",
       "hour_of_day                 10.0                 14.0   \n",
       "money                      27.92                32.82   \n",
       "Weekdaysort                  2.0                  4.0   \n",
       "Monthsort                    3.0                  7.0   \n",
       "Date Time    2024-07-18 00:07:36  2024-10-10 09:51:44   \n",
       "\n",
       "                                    75%                  max       std  \n",
       "hour_of_day                        18.0                 22.0   4.23401  \n",
       "money                             35.76                 38.7  4.877754  \n",
       "Weekdaysort                         6.0                  7.0  1.971501  \n",
       "Monthsort                          10.0                 12.0  3.500754  \n",
       "Date Time    2025-01-11 11:46:11.500000  2025-03-23 18:11:38       NaN  "
      ]
     },
     "execution_count": 200,
     "metadata": {},
     "output_type": "execute_result"
    }
   ],
   "source": [
    "coffee_df.describe().T"
   ]
  },
  {
   "cell_type": "markdown",
   "id": "e2697d74-3cc9-41c1-bf60-a7924d1bda17",
   "metadata": {},
   "source": [
    "# ☕ 2: Analysis of Individual Variables"
   ]
  },
  {
   "cell_type": "markdown",
   "id": "401c615f-f970-4ee4-b10f-830a55e60db7",
   "metadata": {},
   "source": [
    "### Total Sales of Each Coffee Type Over the Entire Period"
   ]
  },
  {
   "cell_type": "code",
   "execution_count": 201,
   "id": "aaccb5e2-1569-4872-9d8c-b24f93a29207",
   "metadata": {},
   "outputs": [
    {
     "data": {
      "text/html": [
       "<style type=\"text/css\">\n",
       "#T_d659f_row0_col1 {\n",
       "  width: 10em;\n",
       "  background: linear-gradient(90deg, #C69C6D 100.0%, transparent 100.0%);\n",
       "}\n",
       "#T_d659f_row1_col1 {\n",
       "  width: 10em;\n",
       "  background: linear-gradient(90deg, #C69C6D 93.6%, transparent 93.6%);\n",
       "}\n",
       "#T_d659f_row2_col1 {\n",
       "  width: 10em;\n",
       "  background: linear-gradient(90deg, #C69C6D 69.7%, transparent 69.7%);\n",
       "}\n",
       "#T_d659f_row3_col1 {\n",
       "  width: 10em;\n",
       "  background: linear-gradient(90deg, #C69C6D 60.1%, transparent 60.1%);\n",
       "}\n",
       "#T_d659f_row4_col1 {\n",
       "  width: 10em;\n",
       "  background: linear-gradient(90deg, #C69C6D 35.5%, transparent 35.5%);\n",
       "}\n",
       "#T_d659f_row5_col1 {\n",
       "  width: 10em;\n",
       "  background: linear-gradient(90deg, #C69C6D 34.1%, transparent 34.1%);\n",
       "}\n",
       "#T_d659f_row6_col1 {\n",
       "  width: 10em;\n",
       "  background: linear-gradient(90deg, #C69C6D 29.5%, transparent 29.5%);\n",
       "}\n",
       "#T_d659f_row7_col1 {\n",
       "  width: 10em;\n",
       "  background: linear-gradient(90deg, #C69C6D 15.9%, transparent 15.9%);\n",
       "}\n",
       "</style>\n",
       "<table id=\"T_d659f\">\n",
       "  <thead>\n",
       "    <tr>\n",
       "      <th class=\"blank level0\" >&nbsp;</th>\n",
       "      <th id=\"T_d659f_level0_col0\" class=\"col_heading level0 col0\" >Coffee Type</th>\n",
       "      <th id=\"T_d659f_level0_col1\" class=\"col_heading level0 col1\" >Quantity Sold</th>\n",
       "    </tr>\n",
       "  </thead>\n",
       "  <tbody>\n",
       "    <tr>\n",
       "      <th id=\"T_d659f_level0_row0\" class=\"row_heading level0 row0\" >0</th>\n",
       "      <td id=\"T_d659f_row0_col0\" class=\"data row0 col0\" >Americano with Milk</td>\n",
       "      <td id=\"T_d659f_row0_col1\" class=\"data row0 col1\" >809</td>\n",
       "    </tr>\n",
       "    <tr>\n",
       "      <th id=\"T_d659f_level0_row1\" class=\"row_heading level0 row1\" >1</th>\n",
       "      <td id=\"T_d659f_row1_col0\" class=\"data row1 col0\" >Latte</td>\n",
       "      <td id=\"T_d659f_row1_col1\" class=\"data row1 col1\" >757</td>\n",
       "    </tr>\n",
       "    <tr>\n",
       "      <th id=\"T_d659f_level0_row2\" class=\"row_heading level0 row2\" >2</th>\n",
       "      <td id=\"T_d659f_row2_col0\" class=\"data row2 col0\" >Americano</td>\n",
       "      <td id=\"T_d659f_row2_col1\" class=\"data row2 col1\" >564</td>\n",
       "    </tr>\n",
       "    <tr>\n",
       "      <th id=\"T_d659f_level0_row3\" class=\"row_heading level0 row3\" >3</th>\n",
       "      <td id=\"T_d659f_row3_col0\" class=\"data row3 col0\" >Cappuccino</td>\n",
       "      <td id=\"T_d659f_row3_col1\" class=\"data row3 col1\" >486</td>\n",
       "    </tr>\n",
       "    <tr>\n",
       "      <th id=\"T_d659f_level0_row4\" class=\"row_heading level0 row4\" >4</th>\n",
       "      <td id=\"T_d659f_row4_col0\" class=\"data row4 col0\" >Cortado</td>\n",
       "      <td id=\"T_d659f_row4_col1\" class=\"data row4 col1\" >287</td>\n",
       "    </tr>\n",
       "    <tr>\n",
       "      <th id=\"T_d659f_level0_row5\" class=\"row_heading level0 row5\" >5</th>\n",
       "      <td id=\"T_d659f_row5_col0\" class=\"data row5 col0\" >Hot Chocolate</td>\n",
       "      <td id=\"T_d659f_row5_col1\" class=\"data row5 col1\" >276</td>\n",
       "    </tr>\n",
       "    <tr>\n",
       "      <th id=\"T_d659f_level0_row6\" class=\"row_heading level0 row6\" >6</th>\n",
       "      <td id=\"T_d659f_row6_col0\" class=\"data row6 col0\" >Cocoa</td>\n",
       "      <td id=\"T_d659f_row6_col1\" class=\"data row6 col1\" >239</td>\n",
       "    </tr>\n",
       "    <tr>\n",
       "      <th id=\"T_d659f_level0_row7\" class=\"row_heading level0 row7\" >7</th>\n",
       "      <td id=\"T_d659f_row7_col0\" class=\"data row7 col0\" >Espresso</td>\n",
       "      <td id=\"T_d659f_row7_col1\" class=\"data row7 col1\" >129</td>\n",
       "    </tr>\n",
       "  </tbody>\n",
       "</table>\n"
      ],
      "text/plain": [
       "<pandas.io.formats.style.Styler at 0x246de3d8350>"
      ]
     },
     "execution_count": 201,
     "metadata": {},
     "output_type": "execute_result"
    }
   ],
   "source": [
    "coffee_counts = coffee_df['coffee_name'].value_counts().reset_index()\n",
    "\n",
    "# change columns names\n",
    "coffee_counts.columns = ['Coffee Type', 'Quantity Sold']\n",
    "coffee_counts.to_string(index=False)\n",
    "coffee_counts.style.bar(subset=['Quantity Sold'], color='#C69C6D')"
   ]
  },
  {
   "cell_type": "markdown",
   "id": "e9167b9f-f758-49ce-bff3-05bd8f8f07d0",
   "metadata": {},
   "source": [
    "### Profit from Each Coffee Type Over the Entire Period"
   ]
  },
  {
   "cell_type": "code",
   "execution_count": 202,
   "id": "64b77a5a-88c5-4467-af29-6514045e22db",
   "metadata": {},
   "outputs": [
    {
     "data": {
      "text/html": [
       "<style type=\"text/css\">\n",
       "#T_d1835_row0_col1 {\n",
       "  width: 10em;\n",
       "  background: linear-gradient(90deg, #4CAF50 100.0%, transparent 100.0%);\n",
       "}\n",
       "#T_d1835_row1_col1 {\n",
       "  width: 10em;\n",
       "  background: linear-gradient(90deg, #4CAF50 92.1%, transparent 92.1%);\n",
       "}\n",
       "#T_d1835_row2_col1 {\n",
       "  width: 10em;\n",
       "  background: linear-gradient(90deg, #4CAF50 64.9%, transparent 64.9%);\n",
       "}\n",
       "#T_d1835_row3_col1 {\n",
       "  width: 10em;\n",
       "  background: linear-gradient(90deg, #4CAF50 54.5%, transparent 54.5%);\n",
       "}\n",
       "#T_d1835_row4_col1 {\n",
       "  width: 10em;\n",
       "  background: linear-gradient(90deg, #4CAF50 37.0%, transparent 37.0%);\n",
       "}\n",
       "#T_d1835_row5_col1 {\n",
       "  width: 10em;\n",
       "  background: linear-gradient(90deg, #4CAF50 31.7%, transparent 31.7%);\n",
       "}\n",
       "#T_d1835_row6_col1 {\n",
       "  width: 10em;\n",
       "  background: linear-gradient(90deg, #4CAF50 27.5%, transparent 27.5%);\n",
       "}\n",
       "#T_d1835_row7_col1 {\n",
       "  width: 10em;\n",
       "  background: linear-gradient(90deg, #4CAF50 10.0%, transparent 10.0%);\n",
       "}\n",
       "</style>\n",
       "<table id=\"T_d1835\">\n",
       "  <thead>\n",
       "    <tr>\n",
       "      <th class=\"blank level0\" >&nbsp;</th>\n",
       "      <th id=\"T_d1835_level0_col0\" class=\"col_heading level0 col0\" >Coffee Type</th>\n",
       "      <th id=\"T_d1835_level0_col1\" class=\"col_heading level0 col1\" >Total Profit</th>\n",
       "    </tr>\n",
       "  </thead>\n",
       "  <tbody>\n",
       "    <tr>\n",
       "      <th id=\"T_d1835_level0_row0\" class=\"row_heading level0 row0\" >7</th>\n",
       "      <td id=\"T_d1835_row0_col0\" class=\"data row0 col0\" >Latte</td>\n",
       "      <td id=\"T_d1835_row0_col1\" class=\"data row0 col1\" >26875.300000</td>\n",
       "    </tr>\n",
       "    <tr>\n",
       "      <th id=\"T_d1835_level0_row1\" class=\"row_heading level0 row1\" >1</th>\n",
       "      <td id=\"T_d1835_row1_col0\" class=\"data row1 col0\" >Americano with Milk</td>\n",
       "      <td id=\"T_d1835_row1_col1\" class=\"data row1 col1\" >24751.120000</td>\n",
       "    </tr>\n",
       "    <tr>\n",
       "      <th id=\"T_d1835_level0_row2\" class=\"row_heading level0 row2\" >2</th>\n",
       "      <td id=\"T_d1835_row2_col0\" class=\"data row2 col0\" >Cappuccino</td>\n",
       "      <td id=\"T_d1835_row2_col1\" class=\"data row2 col1\" >17439.140000</td>\n",
       "    </tr>\n",
       "    <tr>\n",
       "      <th id=\"T_d1835_level0_row3\" class=\"row_heading level0 row3\" >0</th>\n",
       "      <td id=\"T_d1835_row3_col0\" class=\"data row3 col0\" >Americano</td>\n",
       "      <td id=\"T_d1835_row3_col1\" class=\"data row3 col1\" >14650.260000</td>\n",
       "    </tr>\n",
       "    <tr>\n",
       "      <th id=\"T_d1835_level0_row4\" class=\"row_heading level0 row4\" >6</th>\n",
       "      <td id=\"T_d1835_row4_col0\" class=\"data row4 col0\" >Hot Chocolate</td>\n",
       "      <td id=\"T_d1835_row4_col1\" class=\"data row4 col1\" >9933.460000</td>\n",
       "    </tr>\n",
       "    <tr>\n",
       "      <th id=\"T_d1835_level0_row5\" class=\"row_heading level0 row5\" >3</th>\n",
       "      <td id=\"T_d1835_row5_col0\" class=\"data row5 col0\" >Cocoa</td>\n",
       "      <td id=\"T_d1835_row5_col1\" class=\"data row5 col1\" >8521.160000</td>\n",
       "    </tr>\n",
       "    <tr>\n",
       "      <th id=\"T_d1835_level0_row6\" class=\"row_heading level0 row6\" >4</th>\n",
       "      <td id=\"T_d1835_row6_col0\" class=\"data row6 col0\" >Cortado</td>\n",
       "      <td id=\"T_d1835_row6_col1\" class=\"data row6 col1\" >7384.860000</td>\n",
       "    </tr>\n",
       "    <tr>\n",
       "      <th id=\"T_d1835_level0_row7\" class=\"row_heading level0 row7\" >5</th>\n",
       "      <td id=\"T_d1835_row7_col0\" class=\"data row7 col0\" >Espresso</td>\n",
       "      <td id=\"T_d1835_row7_col1\" class=\"data row7 col1\" >2690.280000</td>\n",
       "    </tr>\n",
       "  </tbody>\n",
       "</table>\n"
      ],
      "text/plain": [
       "<pandas.io.formats.style.Styler at 0x246de8d2010>"
      ]
     },
     "execution_count": 202,
     "metadata": {},
     "output_type": "execute_result"
    }
   ],
   "source": [
    "coffee_counts_money = coffee_df.groupby('coffee_name')['money'].sum().reset_index()\n",
    "\n",
    "coffee_counts_money.columns = ['Coffee Type', 'Total Profit']\n",
    "coffee_counts_money['Total Profit'] = coffee_counts_money['Total Profit']\n",
    "coffee_counts_money = coffee_counts_money.sort_values(by='Total Profit', ascending=False)\n",
    "\n",
    "coffee_counts_money.style.bar(subset=['Total Profit'], color='#4CAF50').format({'Łączny zysk': '{:.2f}'})"
   ]
  },
  {
   "cell_type": "markdown",
   "id": "4624b307-072e-446e-bd09-38b99eaf85e1",
   "metadata": {},
   "source": [
    "### Total Coffee Sales per Month"
   ]
  },
  {
   "cell_type": "code",
   "execution_count": 203,
   "id": "25575559-5197-47ce-9224-c95fbec68edd",
   "metadata": {},
   "outputs": [
    {
     "data": {
      "image/png": "[encoded data removed]",
      "text/plain": [
       "<Figure size 1000x600 with 1 Axes>"
      ]
     },
     "metadata": {},
     "output_type": "display_data"
    }
   ],
   "source": [
    "# Filter data between March 1, 2024 and March 23, 2025\n",
    "mask = (coffee_df['Date Time'] >= '2024-03-01') & (coffee_df['Date Time'] <= '2025-03-23')\n",
    "filtered_data = coffee_df.loc[mask].copy()\n",
    "\n",
    "# Add a column for Year and Month\n",
    "filtered_data['YearMonth'] = filtered_data['Date Time'].dt.to_period('M')\n",
    "\n",
    "# Group data by month and count the number of coffees sold\n",
    "monthly_sales = filtered_data.groupby('YearMonth')['coffee_name'].count().reset_index()\n",
    "\n",
    "# Rename columns\n",
    "monthly_sales.columns = ['Month', 'Number of Coffees Sold']\n",
    "monthly_sales.style.bar(subset=['Number of Coffees Sold'], color='#4CAF50')\n",
    "\n",
    "# Plot the monthly coffee sales\n",
    "plt.figure(figsize=(10, 6))\n",
    "bars = plt.bar(monthly_sales['Month'].astype(str), monthly_sales['Number of Coffees Sold'], color='#C69C6D')\n",
    "plt.title('Coffee Sales by Month')\n",
    "plt.xlabel('Month')\n",
    "plt.ylabel('Number of Coffees Sold')\n",
    "plt.xticks(rotation=45)\n",
    "\n",
    "# Add labels on top of each bar with the number of coffees sold\n",
    "for bar in bars:\n",
    "    yval = bar.get_height()\n",
    "    plt.text(bar.get_x() + bar.get_width() / 2, yval, int(yval), ha='center', va='bottom')\n",
    "\n",
    "plt.tight_layout()  # Adjusts the plot to fit nicely\n",
    "plt.show()\n"
   ]
  },
  {
   "cell_type": "code",
   "execution_count": 204,
   "id": "f2aba3e3-0ee4-4800-b1cf-11630fef8cbb",
   "metadata": {},
   "outputs": [
    {
     "data": {
      "text/markdown": [
       "#### We can only see that March 2025 has the highest coffee consumption rate, even though the data for March 2025 does not include the last 8 days.  \n",
       "#### In March 2025, 313 coffees were sold, while in March 2024, 175 were sold, which is 138 more.  \n",
       "#### Based on the data, one could conclude that the overall trend in consumption might have been increasing, but the data is incomplete.  \n",
       "#### We also do not have data for January and February 2025."
      ],
      "text/plain": [
       "<IPython.core.display.Markdown object>"
      ]
     },
     "execution_count": 204,
     "metadata": {},
     "output_type": "execute_result"
    }
   ],
   "source": [
    "march_24_coffee_sells_mask = (coffee_df['Date Time'] >= '2024-03-01') & (coffee_df['Date Time'] < '2024-04-01')\n",
    "march_24_coffees = coffee_df.loc[march_24_coffee_sells_mask]\n",
    "march_24_coffee_sells = march_24_coffees['coffee_name'].value_counts().sum()\n",
    "march_24_coffee_sells\n",
    "\n",
    "\n",
    "march_25_coffee_sells_mask = (coffee_df['Date Time'] >= '2025-03-01') & (coffee_df['Date Time'] <= '2025-03-23')\n",
    "march_25_coffees = coffee_df.loc[march_25_coffee_sells_mask]\n",
    "march_25_coffee_sells = march_25_coffees['coffee_name'].value_counts().sum()\n",
    "march_25_coffee_sells\n",
    "\n",
    "marchs_difference = march_25_coffee_sells - march_24_coffee_sells\n",
    "\n",
    "Markdown(f'''#### We can only see that March 2025 has the highest coffee consumption rate, even though the data for March 2025 does not include the last 8 days.  \n",
    "#### In March 2025, {march_25_coffee_sells} coffees were sold, while in March 2024, {march_24_coffee_sells} were sold, which is {marchs_difference} more.  \n",
    "#### Based on the data, one could conclude that the overall trend in consumption might have been increasing, but the data is incomplete.  \n",
    "#### We also do not have data for January and February 2025.''')\n"
   ]
  },
  {
   "cell_type": "markdown",
   "id": "16d2a5ec-e60f-405f-a519-fee9e687c13e",
   "metadata": {},
   "source": [
    "# Total Coffee Sales by Day of the Week"
   ]
  },
  {
   "cell_type": "code",
   "execution_count": 205,
   "id": "3ab47a1a-b223-4b0c-a747-d286dbd5f5eb",
   "metadata": {},
   "outputs": [
    {
     "data": {
      "text/html": [
       "<style type=\"text/css\">\n",
       "#T_70586_row0_col1 {\n",
       "  width: 10em;\n",
       "  background: linear-gradient(90deg, #C69C6D 95.1%, transparent 95.1%);\n",
       "}\n",
       "#T_70586_row1_col1 {\n",
       "  width: 10em;\n",
       "  background: linear-gradient(90deg, #C69C6D 100.0%, transparent 100.0%);\n",
       "}\n",
       "#T_70586_row2_col1 {\n",
       "  width: 10em;\n",
       "  background: linear-gradient(90deg, #C69C6D 87.4%, transparent 87.4%);\n",
       "}\n",
       "#T_70586_row3_col1 {\n",
       "  width: 10em;\n",
       "  background: linear-gradient(90deg, #C69C6D 89.2%, transparent 89.2%);\n",
       "}\n",
       "#T_70586_row4_col1 {\n",
       "  width: 10em;\n",
       "  background: linear-gradient(90deg, #C69C6D 93.0%, transparent 93.0%);\n",
       "}\n",
       "#T_70586_row5_col1 {\n",
       "  width: 10em;\n",
       "  background: linear-gradient(90deg, #C69C6D 82.2%, transparent 82.2%);\n",
       "}\n",
       "#T_70586_row6_col1 {\n",
       "  width: 10em;\n",
       "  background: linear-gradient(90deg, #C69C6D 73.3%, transparent 73.3%);\n",
       "}\n",
       "</style>\n",
       "<table id=\"T_70586\">\n",
       "  <thead>\n",
       "    <tr>\n",
       "      <th class=\"blank level0\" >&nbsp;</th>\n",
       "      <th id=\"T_70586_level0_col0\" class=\"col_heading level0 col0\" >Weekdaysort</th>\n",
       "      <th id=\"T_70586_level0_col1\" class=\"col_heading level0 col1\" >Number of Coffees Sold</th>\n",
       "    </tr>\n",
       "  </thead>\n",
       "  <tbody>\n",
       "    <tr>\n",
       "      <th id=\"T_70586_level0_row0\" class=\"row_heading level0 row0\" >0</th>\n",
       "      <td id=\"T_70586_row0_col0\" class=\"data row0 col0\" >1</td>\n",
       "      <td id=\"T_70586_row0_col1\" class=\"data row0 col1\" >544</td>\n",
       "    </tr>\n",
       "    <tr>\n",
       "      <th id=\"T_70586_level0_row1\" class=\"row_heading level0 row1\" >1</th>\n",
       "      <td id=\"T_70586_row1_col0\" class=\"data row1 col0\" >2</td>\n",
       "      <td id=\"T_70586_row1_col1\" class=\"data row1 col1\" >572</td>\n",
       "    </tr>\n",
       "    <tr>\n",
       "      <th id=\"T_70586_level0_row2\" class=\"row_heading level0 row2\" >2</th>\n",
       "      <td id=\"T_70586_row2_col0\" class=\"data row2 col0\" >3</td>\n",
       "      <td id=\"T_70586_row2_col1\" class=\"data row2 col1\" >500</td>\n",
       "    </tr>\n",
       "    <tr>\n",
       "      <th id=\"T_70586_level0_row3\" class=\"row_heading level0 row3\" >3</th>\n",
       "      <td id=\"T_70586_row3_col0\" class=\"data row3 col0\" >4</td>\n",
       "      <td id=\"T_70586_row3_col1\" class=\"data row3 col1\" >510</td>\n",
       "    </tr>\n",
       "    <tr>\n",
       "      <th id=\"T_70586_level0_row4\" class=\"row_heading level0 row4\" >4</th>\n",
       "      <td id=\"T_70586_row4_col0\" class=\"data row4 col0\" >5</td>\n",
       "      <td id=\"T_70586_row4_col1\" class=\"data row4 col1\" >532</td>\n",
       "    </tr>\n",
       "    <tr>\n",
       "      <th id=\"T_70586_level0_row5\" class=\"row_heading level0 row5\" >5</th>\n",
       "      <td id=\"T_70586_row5_col0\" class=\"data row5 col0\" >6</td>\n",
       "      <td id=\"T_70586_row5_col1\" class=\"data row5 col1\" >470</td>\n",
       "    </tr>\n",
       "    <tr>\n",
       "      <th id=\"T_70586_level0_row6\" class=\"row_heading level0 row6\" >6</th>\n",
       "      <td id=\"T_70586_row6_col0\" class=\"data row6 col0\" >7</td>\n",
       "      <td id=\"T_70586_row6_col1\" class=\"data row6 col1\" >419</td>\n",
       "    </tr>\n",
       "  </tbody>\n",
       "</table>\n"
      ],
      "text/plain": [
       "<pandas.io.formats.style.Styler at 0x246df182510>"
      ]
     },
     "execution_count": 205,
     "metadata": {},
     "output_type": "execute_result"
    }
   ],
   "source": [
    "daily_coffee_counts = coffee_df.groupby('Weekdaysort')['coffee_name'].count().reset_index()\n",
    "\n",
    "# Setting column names for readability\n",
    "daily_coffee_counts.columns = ['Weekdaysort', 'Number of Coffees Sold']\n",
    "daily_coffee_counts = daily_coffee_counts.sort_values(by='Weekdaysort', ascending=True)\n",
    "daily_coffee_counts.style.bar(subset=['Number of Coffees Sold'], color='#C69C6D')"
   ]
  },
  {
   "cell_type": "markdown",
   "id": "0169e1d9-a981-4d43-ae45-771e8582a5f2",
   "metadata": {},
   "source": [
    "#### As we can see, the largest drop in coffee purchases occurs on Saturday and Sunday, followed by an increase on Monday and Tuesday at the start of the week. After that, there is a slight decline, with an upward trend toward Friday."
   ]
  },
  {
   "cell_type": "markdown",
   "id": "45ac05d3-26c1-4afb-8688-71839e288904",
   "metadata": {},
   "source": [
    "### Coffee sales by time of day"
   ]
  },
  {
   "cell_type": "code",
   "execution_count": 206,
   "id": "d8a4f56a-3042-4c35-9b06-d43eae52a703",
   "metadata": {},
   "outputs": [
    {
     "data": {
      "text/html": [
       "<style type=\"text/css\">\n",
       "#T_d7c5e_row0_col1 {\n",
       "  width: 10em;\n",
       "  background: linear-gradient(90deg, #C69C6D 100.0%, transparent 100.0%);\n",
       "}\n",
       "#T_d7c5e_row1_col1 {\n",
       "  width: 10em;\n",
       "  background: linear-gradient(90deg, #C69C6D 42.7%, transparent 42.7%);\n",
       "}\n",
       "#T_d7c5e_row2_col1 {\n",
       "  width: 10em;\n",
       "  background: linear-gradient(90deg, #C69C6D 81.9%, transparent 81.9%);\n",
       "}\n",
       "#T_d7c5e_row3_col1 {\n",
       "  width: 10em;\n",
       "  background: linear-gradient(90deg, #C69C6D 21.4%, transparent 21.4%);\n",
       "}\n",
       "</style>\n",
       "<table id=\"T_d7c5e\">\n",
       "  <thead>\n",
       "    <tr>\n",
       "      <th class=\"blank level0\" >&nbsp;</th>\n",
       "      <th id=\"T_d7c5e_level0_col0\" class=\"col_heading level0 col0\" >Time_of_Day</th>\n",
       "      <th id=\"T_d7c5e_level0_col1\" class=\"col_heading level0 col1\" >Coffee Sales by Time of Day</th>\n",
       "    </tr>\n",
       "  </thead>\n",
       "  <tbody>\n",
       "    <tr>\n",
       "      <th id=\"T_d7c5e_level0_row0\" class=\"row_heading level0 row0\" >0</th>\n",
       "      <td id=\"T_d7c5e_row0_col0\" class=\"data row0 col0\" >Afternoon</td>\n",
       "      <td id=\"T_d7c5e_row0_col1\" class=\"data row0 col1\" >1442</td>\n",
       "    </tr>\n",
       "    <tr>\n",
       "      <th id=\"T_d7c5e_level0_row1\" class=\"row_heading level0 row1\" >1</th>\n",
       "      <td id=\"T_d7c5e_row1_col0\" class=\"data row1 col0\" >Evening</td>\n",
       "      <td id=\"T_d7c5e_row1_col1\" class=\"data row1 col1\" >616</td>\n",
       "    </tr>\n",
       "    <tr>\n",
       "      <th id=\"T_d7c5e_level0_row2\" class=\"row_heading level0 row2\" >2</th>\n",
       "      <td id=\"T_d7c5e_row2_col0\" class=\"data row2 col0\" >Morning</td>\n",
       "      <td id=\"T_d7c5e_row2_col1\" class=\"data row2 col1\" >1181</td>\n",
       "    </tr>\n",
       "    <tr>\n",
       "      <th id=\"T_d7c5e_level0_row3\" class=\"row_heading level0 row3\" >3</th>\n",
       "      <td id=\"T_d7c5e_row3_col0\" class=\"data row3 col0\" >Night</td>\n",
       "      <td id=\"T_d7c5e_row3_col1\" class=\"data row3 col1\" >308</td>\n",
       "    </tr>\n",
       "  </tbody>\n",
       "</table>\n"
      ],
      "text/plain": [
       "<pandas.io.formats.style.Styler at 0x246da838f50>"
      ]
     },
     "execution_count": 206,
     "metadata": {},
     "output_type": "execute_result"
    }
   ],
   "source": [
    "daily_coffee_counts = coffee_df.groupby('Time_of_Day')['coffee_name'].count().reset_index()\n",
    "\n",
    "# Setting column names for readability\n",
    "daily_coffee_counts.columns = ['Time_of_Day', 'Coffee Sales by Time of Day']\n",
    "daily_coffee_counts = daily_coffee_counts.sort_values(by='Time_of_Day', ascending=True)\n",
    "daily_coffee_counts.style.bar(subset=['Coffee Sales by Time of Day'], color='#C69C6D')"
   ]
  },
  {
   "cell_type": "code",
   "execution_count": 207,
   "id": "f68bd3e5-f426-48d4-a9fc-565b759f4e8e",
   "metadata": {},
   "outputs": [
    {
     "data": {
      "text/markdown": [
       "#### The highest sales occurred at 10:00 (328 transactions)."
      ],
      "text/plain": [
       "<IPython.core.display.Markdown object>"
      ]
     },
     "execution_count": 207,
     "metadata": {},
     "output_type": "execute_result"
    }
   ],
   "source": [
    "sales_per_hour = coffee_df[\"hour_of_day\"].value_counts().sort_index()\n",
    "\n",
    "# hour with max sels\n",
    "busiest_hour = sales_per_hour.idxmax()\n",
    "max_sales = sales_per_hour.max()\n",
    "\n",
    "Markdown(f\"#### The highest sales occurred at {busiest_hour}:00 ({max_sales} transactions).\")"
   ]
  },
  {
   "cell_type": "code",
   "execution_count": 208,
   "id": "6ab91cb0",
   "metadata": {},
   "outputs": [
    {
     "data": {
      "image/png": "[encoded data removed]",
      "text/plain": [
       "<Figure size 1200x600 with 1 Axes>"
      ]
     },
     "metadata": {},
     "output_type": "display_data"
    }
   ],
   "source": [
    "# Define a color map for different times of day\n",
    "colors_map = {\n",
    "    \"Morning\": \"#FFD580\",    # Light orange\n",
    "    \"Afternoon\": \"#C69C6D\",  # Coffee with milk\n",
    "    \"Evening\": \"#8B5E3C\",    # Darker brown\n",
    "    \"Night\": \"#3E2723\"        # Very dark brown\n",
    "}\n",
    "\n",
    "# 3️⃣ Assign a color to each hour based on Time_of_Day\n",
    "hour_to_period = coffee_df.drop_duplicates(\"hour_of_day\")[[\"hour_of_day\", \"Time_of_Day\"]].set_index(\"hour_of_day\")[\"Time_of_Day\"]\n",
    "bar_colors = [colors_map[hour_to_period.loc[h]] for h in sales_per_hour.index]\n",
    "\n",
    "# 4️⃣ Plot the bar chart\n",
    "plt.figure(figsize=(12,6))\n",
    "bars = plt.bar(sales_per_hour.index, sales_per_hour.values, color=bar_colors)\n",
    "\n",
    "# 5️⃣ Add values on top of each bar\n",
    "for bar in bars:\n",
    "    height = bar.get_height()\n",
    "    plt.text(bar.get_x() + bar.get_width()/2, height + 0.5, str(height),\n",
    "             ha='center', va='bottom', fontsize=8)\n",
    "\n",
    "plt.xlabel(\"Hour of the Day\")\n",
    "plt.ylabel(\"Number of Sales\")\n",
    "plt.title(\"Coffee Sales Throughout the Day by Time of Day\")\n",
    "plt.xticks(sales_per_hour.index)\n",
    "\n",
    "# 6️⃣ Add a legend\n",
    "from matplotlib.patches import Patch\n",
    "legend_elements = [Patch(facecolor=color, label=label) for label, color in colors_map.items()]\n",
    "plt.legend(handles=legend_elements, title=\"Time of Day\")\n",
    "\n",
    "plt.show()\n"
   ]
  },
  {
   "cell_type": "markdown",
   "id": "27e4aa23-6dfe-4bd5-8263-2dd55ca8c576",
   "metadata": {},
   "source": [
    "### Average Sales Distribution During Morning Hours"
   ]
  },
  {
   "cell_type": "markdown",
   "id": "c4fb0734-ffcf-40c9-9a20-4993aa88fc39",
   "metadata": {},
   "source": [
    "### Turnover by coffee type by time of day"
   ]
  },
  {
   "cell_type": "code",
   "execution_count": 209,
   "id": "f38747dd",
   "metadata": {},
   "outputs": [
    {
     "data": {
      "image/png": "[encoded data removed]",
      "text/plain": [
       "<Figure size 1200x600 with 1 Axes>"
      ]
     },
     "metadata": {},
     "output_type": "display_data"
    }
   ],
   "source": [
    "# 1️⃣ Aggregate: sum of revenue by time of day and coffee type\n",
    "revenue_dist = coffee_df.groupby([\"Time_of_Day\", \"coffee_name\"])[\"money\"].sum().reset_index()\n",
    "\n",
    "# Calculate percentage share within each time of day\n",
    "revenue_dist[\"percentage\"] = revenue_dist.groupby(\"Time_of_Day\")[\"money\"].transform(\n",
    "    lambda x: 100 * x / x.sum()\n",
    ")\n",
    "\n",
    "# 3️⃣ Set the order of time-of-day categories\n",
    "order = [\"Morning\", \"Afternoon\", \"Evening\", \"Night\"]\n",
    "revenue_dist[\"Time_of_Day\"] = pd.Categorical(revenue_dist[\"Time_of_Day\"], categories=order, ordered=True)\n",
    "\n",
    "# 4️⃣ Plot the bar chart\n",
    "plt.figure(figsize=(12,6))\n",
    "ax = sns.barplot(\n",
    "    data=revenue_dist,\n",
    "    x=\"Time_of_Day\",\n",
    "    y=\"percentage\",\n",
    "    hue=\"coffee_name\",\n",
    "    palette=\"muted\"\n",
    ")\n",
    "\n",
    "plt.title(\"Percentage Share of Coffee Sales by Time of Day\")\n",
    "plt.xlabel(\"Time of Day\")\n",
    "plt.ylabel(\"Share [%]\")\n",
    "plt.xticks(rotation=0)\n",
    "\n",
    "# 5️⃣ Add percentage labels on top of the bars\n",
    "for container in ax.containers:\n",
    "    ax.bar_label(container, fmt=\"%.1f%%\", label_type=\"edge\", fontsize=10, color=\"black\")\n",
    "\n",
    "plt.legend(title=\"Coffee Type\", bbox_to_anchor=(1.05, 1), loc=\"upper left\")\n",
    "plt.tight_layout()\n",
    "plt.show()\n"
   ]
  },
  {
   "cell_type": "markdown",
   "id": "7833d5f8",
   "metadata": {},
   "source": [
    "The most popular coffee is \"Latte,\" except in the mornings, where \"Americano with Milk\" takes the lead. Meanwhile, \"Cappuccino\" is the second most popular coffee during evening hours. The least popular is plain \"Espresso.\""
   ]
  },
  {
   "cell_type": "markdown",
   "id": "f8575bec",
   "metadata": {},
   "source": [
    "###  Brief Analysis of Revenue by Month"
   ]
  },
  {
   "cell_type": "code",
   "execution_count": 210,
   "id": "b2d49f78",
   "metadata": {},
   "outputs": [
    {
     "data": {
      "image/png": "[encoded data removed]",
      "text/plain": [
       "<Figure size 1400x600 with 1 Axes>"
      ]
     },
     "metadata": {},
     "output_type": "display_data"
    }
   ],
   "source": [
    "import matplotlib.pyplot as plt\n",
    "\n",
    "# 1️⃣ Creted col Year-Month\n",
    "coffee_df[\"YearMonth\"] = coffee_df[\"Date Time\"].dt.to_period(\"M\")  # np. 2024-03, 2024-04, ...\n",
    "\n",
    "# 2️⃣ Grup YearMonth\n",
    "monthly_revenue = coffee_df.groupby(\"YearMonth\")[\"money\"].sum().reset_index()\n",
    "\n",
    "# 3️⃣ Created barplot\n",
    "plt.figure(figsize=(14,6))\n",
    "bars = plt.bar(monthly_revenue[\"YearMonth\"].astype(str), monthly_revenue[\"money\"], color=\"#8B5E3C\")\n",
    "\n",
    "plt.title(\"Monthly Coffee Sales Revenue\")\n",
    "plt.xlabel(\"Month\")\n",
    "plt.ylabel(\"Revenue (money)\")\n",
    "plt.xticks(rotation=45)\n",
    "\n",
    "# 4️⃣ Adding values on top of the bars\n",
    "for bar in bars:\n",
    "    height = bar.get_height()\n",
    "    plt.text(bar.get_x() + bar.get_width()/2, height + 50, f'{height:.0f}', \n",
    "             ha='center', va='bottom', fontsize=9)\n",
    "\n",
    "plt.tight_layout()\n",
    "plt.show()\n"
   ]
  },
  {
   "cell_type": "markdown",
   "id": "2d62c7c8",
   "metadata": {},
   "source": [
    "### The most profitable months are March and October 2024 and February 2025"
   ]
  },
  {
   "cell_type": "markdown",
   "id": "0dbfa887",
   "metadata": {},
   "source": [
    "# ☕ 3: Corelation Matrx"
   ]
  },
  {
   "cell_type": "code",
   "execution_count": 211,
   "id": "8c438484",
   "metadata": {},
   "outputs": [
    {
     "data": {
      "image/png": "[encoded data removed]",
      "text/plain": [
       "<Figure size 1000x800 with 2 Axes>"
      ]
     },
     "metadata": {},
     "output_type": "display_data"
    }
   ],
   "source": [
    "numeric_cols = coffee_df.select_dtypes(include=[\"int64\", \"float64\"])\n",
    "corr_matrix = numeric_cols.corr()\n",
    "corr_matrix\n",
    "plt.figure(figsize=(10,8))\n",
    "sns.heatmap(corr_matrix, annot=True, fmt=\".2f\", cmap=\"coolwarm\", square=True)\n",
    "plt.title(\"Correlation matrix of numerical variables\")\n",
    "plt.show()"
   ]
  },
  {
   "cell_type": "markdown",
   "id": "39da8dde",
   "metadata": {},
   "source": [
    "### There is no significant correlation in the data"
   ]
  },
  {
   "cell_type": "markdown",
   "id": "839888ea",
   "metadata": {},
   "source": [
    "# ☕ 4: Outlier analysis will help us answer whether the data comes from the USA, or rather whether it matches what I would expect from US data\n"
   ]
  },
  {
   "cell_type": "code",
   "execution_count": 212,
   "id": "6bd35353",
   "metadata": {},
   "outputs": [
    {
     "name": "stdout",
     "output_type": "stream",
     "text": [
      "Outliers (days and number of coffees sold):\n",
      "          Date  coffee_name\n",
      "148 2024-07-30           24\n",
      "197 2024-09-17           23\n",
      "202 2024-09-22           24\n",
      "221 2024-10-11           26\n",
      "332 2025-02-03           25\n",
      "334 2025-02-05           24\n",
      "350 2025-02-21           23\n",
      "371 2025-03-14           23\n"
     ]
    },
    {
     "data": {
      "image/png": "[encoded data removed]",
      "text/plain": [
       "<Figure size 800x500 with 1 Axes>"
      ]
     },
     "metadata": {},
     "output_type": "display_data"
    }
   ],
   "source": [
    "import seaborn as sns\n",
    "import matplotlib.pyplot as plt\n",
    "import pandas as pd\n",
    "\n",
    "# 1️⃣ day sells of all coffees\n",
    "daily_sales = coffee_df.groupby(\"Date\")[\"coffee_name\"].count().reset_index()\n",
    "daily_sales[\"Date\"] = pd.to_datetime(daily_sales[\"Date\"])\n",
    "daily_sales = daily_sales.sort_values(\"Date\")\n",
    "\n",
    "# 2️⃣ Calculating outliers using the IQR method\n",
    "Q1 = daily_sales[\"coffee_name\"].quantile(0.25)\n",
    "Q3 = daily_sales[\"coffee_name\"].quantile(0.75)\n",
    "IQR = Q3 - Q1\n",
    "\n",
    "lower_bound = Q1 - 1.5 * IQR\n",
    "upper_bound = Q3 + 1.5 * IQR\n",
    "\n",
    "outliers = daily_sales[\n",
    "    (daily_sales[\"coffee_name\"] < lower_bound) |\n",
    "    (daily_sales[\"coffee_name\"] > upper_bound)\n",
    "]\n",
    "\n",
    "print(\"Outliers (days and number of coffees sold):\")\n",
    "print(outliers)\n",
    "\n",
    "# 3️⃣ Boxplot\n",
    "plt.figure(figsize=(8,5))\n",
    "sns.boxplot(x=daily_sales[\"coffee_name\"], color=\"#8B5E3C\")\n",
    "plt.title(\"Outliers in daily sales of all coffees\")\n",
    "plt.xlabel(\"Number of coffees sold\")\n",
    "plt.show()\n"
   ]
  },
  {
   "cell_type": "markdown",
   "id": "1f8aa9cc",
   "metadata": {},
   "source": [
    "American holidays / important days in this period\n",
    "\n",
    "1. July 4, 2024 – Independence Day\n",
    "→ Not present in outliers (July 4 = 2 coffees earlier), so holiday sales are not high in the data.\n",
    "\n",
    "2. Labor Day 2024 – September 2 (first Monday of September)\n",
    "→ September 17 and September 22 → do not match.\n",
    "\n",
    "3. Columbus Day 2024 – October 14 (second Monday of October)\n",
    "→ October 11 → somewhat close, but not exact.\n",
    "\n",
    "4. Thanksgiving 2024 – November 28 (fourth Thursday of November)\n",
    "→ Not present in outliers.\n",
    "\n",
    "5. New Year – January 1, 2025\n",
    "→ Not present in outliers.\n",
    "\n",
    "6. Super Bowl 2025 – February 2, 2025\n",
    "→ February 3 → close, but depends on the exact date of the game in 2025."
   ]
  },
  {
   "cell_type": "markdown",
   "id": "9b2f6a71",
   "metadata": {},
   "source": [
    "### The data does not match the typical pattern expected from the USA.\n",
    "### Conclusion: The sales data likely does not originate from the USA."
   ]
  },
  {
   "cell_type": "markdown",
   "id": "ecbe3b4f",
   "metadata": {},
   "source": []
  }
 ],
 "metadata": {
  "kernelspec": {
   "display_name": "final",
   "language": "python",
   "name": "python3"
  },
  "language_info": {
   "codemirror_mode": {
    "name": "ipython",
    "version": 3
   },
   "file_extension": ".py",
   "mimetype": "text/x-python",
   "name": "python",
   "nbconvert_exporter": "python",
   "pygments_lexer": "ipython3",
   "version": "3.11.11"
  }
 },
 "nbformat": 4,
 "nbformat_minor": 5
}
