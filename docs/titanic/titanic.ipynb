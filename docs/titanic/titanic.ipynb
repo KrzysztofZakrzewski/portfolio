{
 "cells": [
  {
   "cell_type": "markdown",
   "metadata": {},
   "source": [
    "# 🗒️ O Danych\n",
    "\n",
    "Dane o pasażerach Titanica\n",
    "\n",
    "Zbiór danych zawiera informacje o pasażerach RMS Titanic, który zatonął 15 kwietnia 1912 roku po zderzeniu z górą\n",
    "lodową. Dane obejmują takie atrybuty jak klasa podróży, wiek, płeć, liczba rodzeństwa/małżonków na pokładzie,\n",
    "liczba rodziców/dzieci na pokładzie, cena biletu oraz miejsce zaokrętowania.\n",
    "\n",
    "Zbiór zawiera także informację o tym, czy pasażer przeżył katastrofę.\n",
    "\n",
    "Titanic przewoził ponad 2,200 osób, z czego ponad 1,500 zginęło, co czyni tę katastrofę jedną z najbardziej\n",
    "tragicznych w historii morskiej."
   ]
  },
  {
   "cell_type": "markdown",
   "metadata": {},
   "source": [
    "Kolumny:\n",
    "\n",
    "* **pclass** - Klasa biletu\n",
    "* **survived** - Czy pasażer przeżył katastrofę\n",
    "* **name** - Imię i nazwisko pasażera\n",
    "* **sex** - Płeć pasażera\n",
    "* **age** - Wiek pasażera\n",
    "* **sibsp** - Liczba rodzeństwa/małżonków na pokładzie\n",
    "* **parch** - Liczba rodziców/dzieci na pokładzie\n",
    "* **ticket** - Numer biletu\n",
    "* **fare** - Cena biletu\n",
    "* **cabin** - Numer kabiny\n",
    "* **embarked** - Port, w którym pasażer wszedł na pokład (C = Cherbourg, Q = Queenstown, S = Southampton)\n",
    "* **boat** - Numer łodzi ratunkowej\n",
    "* **body** - Numer ciała (jeśli pasażer nie przeżył i ciało zostało odnalezione)\n",
    "* **home.dest** - Miejsce docelowe"
   ]
  },
  {
   "cell_type": "markdown",
   "metadata": {},
   "source": [
    "# 🎯 Cel analizy:\n",
    "\n",
    "Celem analizy było lepsze zrozumienie czynników, które mogły mieć wpływ na przeżywalność pasażerów Titanica. Skupiono się na ogólnym poziomie śmiertelności oraz jego zróżnicowaniu w zależności od takich cech jak:\n",
    "- płeć,\n",
    "- wiek, \n",
    "- klasa biletu\n",
    "- obecność członków rodziny na pokładzie.  \n",
    "\n",
    "Analiza miała na celu uchwycenie ewentualnych zależności i wzorców, które mogły zwiększać lub zmniejszać szanse przetrwania w czasie katastrofy."
   ]
  },
  {
   "cell_type": "code",
   "execution_count": 1,
   "metadata": {},
   "outputs": [],
   "source": [
    "import pandas as pd\n",
    "import matplotlib.pyplot as plt\n",
    "import numpy as np\n",
    "import seaborn as sns\n",
    "\n",
    "from scipy.stats import norm\n",
    "pd.options.display.max_columns = None\n",
    "\n",
    "from IPython.display import Markdown"
   ]
  },
  {
   "cell_type": "code",
   "execution_count": 2,
   "metadata": {},
   "outputs": [],
   "source": [
    "df = pd.read_csv('26__titanic.csv', sep=\",\")\n",
    "# df"
   ]
  },
  {
   "cell_type": "markdown",
   "metadata": {},
   "source": [
    "# 🔍 KROK 1: Ogólny przegląd danych"
   ]
  },
  {
   "cell_type": "markdown",
   "metadata": {},
   "source": [
    "### Podstawowe informacje o DataFrame"
   ]
  },
  {
   "cell_type": "code",
   "execution_count": 3,
   "metadata": {},
   "outputs": [
    {
     "data": {
      "text/html": [
       "<div>\n",
       "<style scoped>\n",
       "    .dataframe tbody tr th:only-of-type {\n",
       "        vertical-align: middle;\n",
       "    }\n",
       "\n",
       "    .dataframe tbody tr th {\n",
       "        vertical-align: top;\n",
       "    }\n",
       "\n",
       "    .dataframe thead th {\n",
       "        text-align: right;\n",
       "    }\n",
       "</style>\n",
       "<table border=\"1\" class=\"dataframe\">\n",
       "  <thead>\n",
       "    <tr style=\"text-align: right;\">\n",
       "      <th></th>\n",
       "      <th>Kolumna</th>\n",
       "      <th>Typ danych</th>\n",
       "      <th>Wartości brakujące</th>\n",
       "      <th>Unikalne</th>\n",
       "    </tr>\n",
       "  </thead>\n",
       "  <tbody>\n",
       "    <tr>\n",
       "      <th>0</th>\n",
       "      <td>pclass</td>\n",
       "      <td>float64</td>\n",
       "      <td>1</td>\n",
       "      <td>3</td>\n",
       "    </tr>\n",
       "    <tr>\n",
       "      <th>1</th>\n",
       "      <td>survived</td>\n",
       "      <td>float64</td>\n",
       "      <td>1</td>\n",
       "      <td>2</td>\n",
       "    </tr>\n",
       "    <tr>\n",
       "      <th>2</th>\n",
       "      <td>name</td>\n",
       "      <td>object</td>\n",
       "      <td>1</td>\n",
       "      <td>1307</td>\n",
       "    </tr>\n",
       "    <tr>\n",
       "      <th>3</th>\n",
       "      <td>sex</td>\n",
       "      <td>object</td>\n",
       "      <td>1</td>\n",
       "      <td>2</td>\n",
       "    </tr>\n",
       "    <tr>\n",
       "      <th>4</th>\n",
       "      <td>age</td>\n",
       "      <td>float64</td>\n",
       "      <td>264</td>\n",
       "      <td>98</td>\n",
       "    </tr>\n",
       "    <tr>\n",
       "      <th>5</th>\n",
       "      <td>sibsp</td>\n",
       "      <td>float64</td>\n",
       "      <td>1</td>\n",
       "      <td>7</td>\n",
       "    </tr>\n",
       "    <tr>\n",
       "      <th>6</th>\n",
       "      <td>parch</td>\n",
       "      <td>float64</td>\n",
       "      <td>1</td>\n",
       "      <td>8</td>\n",
       "    </tr>\n",
       "    <tr>\n",
       "      <th>7</th>\n",
       "      <td>ticket</td>\n",
       "      <td>object</td>\n",
       "      <td>1</td>\n",
       "      <td>929</td>\n",
       "    </tr>\n",
       "    <tr>\n",
       "      <th>8</th>\n",
       "      <td>fare</td>\n",
       "      <td>float64</td>\n",
       "      <td>2</td>\n",
       "      <td>281</td>\n",
       "    </tr>\n",
       "    <tr>\n",
       "      <th>9</th>\n",
       "      <td>cabin</td>\n",
       "      <td>object</td>\n",
       "      <td>1015</td>\n",
       "      <td>186</td>\n",
       "    </tr>\n",
       "    <tr>\n",
       "      <th>10</th>\n",
       "      <td>embarked</td>\n",
       "      <td>object</td>\n",
       "      <td>3</td>\n",
       "      <td>3</td>\n",
       "    </tr>\n",
       "    <tr>\n",
       "      <th>11</th>\n",
       "      <td>boat</td>\n",
       "      <td>object</td>\n",
       "      <td>824</td>\n",
       "      <td>27</td>\n",
       "    </tr>\n",
       "    <tr>\n",
       "      <th>12</th>\n",
       "      <td>body</td>\n",
       "      <td>float64</td>\n",
       "      <td>1189</td>\n",
       "      <td>121</td>\n",
       "    </tr>\n",
       "    <tr>\n",
       "      <th>13</th>\n",
       "      <td>home.dest</td>\n",
       "      <td>object</td>\n",
       "      <td>565</td>\n",
       "      <td>369</td>\n",
       "    </tr>\n",
       "  </tbody>\n",
       "</table>\n",
       "</div>"
      ],
      "text/plain": [
       "      Kolumna Typ danych  Wartości brakujące  Unikalne\n",
       "0      pclass    float64                   1         3\n",
       "1    survived    float64                   1         2\n",
       "2        name     object                   1      1307\n",
       "3         sex     object                   1         2\n",
       "4         age    float64                 264        98\n",
       "5       sibsp    float64                   1         7\n",
       "6       parch    float64                   1         8\n",
       "7      ticket     object                   1       929\n",
       "8        fare    float64                   2       281\n",
       "9       cabin     object                1015       186\n",
       "10   embarked     object                   3         3\n",
       "11       boat     object                 824        27\n",
       "12       body    float64                1189       121\n",
       "13  home.dest     object                 565       369"
      ]
     },
     "execution_count": 3,
     "metadata": {},
     "output_type": "execute_result"
    }
   ],
   "source": [
    "info_df = pd.DataFrame({\n",
    "    'Kolumna': df.columns,\n",
    "    'Typ danych': df.dtypes.values,\n",
    "    'Wartości brakujące': df.isna().sum().values,\n",
    "    'Unikalne': df.nunique().values\n",
    "})\n",
    "\n",
    "\n",
    "info_df"
   ]
  },
  {
   "cell_type": "code",
   "execution_count": 4,
   "metadata": {},
   "outputs": [
    {
     "data": {
      "text/markdown": [
       "#### Number of columns: 14 \n",
       "#### Numbers of rows: 1310"
      ],
      "text/plain": [
       "<IPython.core.display.Markdown object>"
      ]
     },
     "execution_count": 4,
     "metadata": {},
     "output_type": "execute_result"
    }
   ],
   "source": [
    "num_columns = df.shape[1]\n",
    "num_rows = df.shape[0]\n",
    "Markdown(f\"#### Number of columns: {num_columns} \\n#### Numbers of rows: {num_rows}\")"
   ]
  },
  {
   "cell_type": "markdown",
   "metadata": {},
   "source": [
    "#### 10 samples"
   ]
  },
  {
   "cell_type": "code",
   "execution_count": 5,
   "metadata": {},
   "outputs": [
    {
     "data": {
      "text/html": [
       "<div>\n",
       "<style scoped>\n",
       "    .dataframe tbody tr th:only-of-type {\n",
       "        vertical-align: middle;\n",
       "    }\n",
       "\n",
       "    .dataframe tbody tr th {\n",
       "        vertical-align: top;\n",
       "    }\n",
       "\n",
       "    .dataframe thead th {\n",
       "        text-align: right;\n",
       "    }\n",
       "</style>\n",
       "<table border=\"1\" class=\"dataframe\">\n",
       "  <thead>\n",
       "    <tr style=\"text-align: right;\">\n",
       "      <th></th>\n",
       "      <th>pclass</th>\n",
       "      <th>survived</th>\n",
       "      <th>name</th>\n",
       "      <th>sex</th>\n",
       "      <th>age</th>\n",
       "      <th>sibsp</th>\n",
       "      <th>parch</th>\n",
       "      <th>ticket</th>\n",
       "      <th>fare</th>\n",
       "      <th>cabin</th>\n",
       "      <th>embarked</th>\n",
       "      <th>boat</th>\n",
       "      <th>body</th>\n",
       "      <th>home.dest</th>\n",
       "    </tr>\n",
       "  </thead>\n",
       "  <tbody>\n",
       "    <tr>\n",
       "      <th>198</th>\n",
       "      <td>1.0</td>\n",
       "      <td>1.0</td>\n",
       "      <td>Marvin, Mrs. Daniel Warner (Mary Graham Carmic...</td>\n",
       "      <td>female</td>\n",
       "      <td>18.0</td>\n",
       "      <td>1.0</td>\n",
       "      <td>0.0</td>\n",
       "      <td>113773</td>\n",
       "      <td>53.1000</td>\n",
       "      <td>D30</td>\n",
       "      <td>S</td>\n",
       "      <td>10</td>\n",
       "      <td>NaN</td>\n",
       "      <td>New York, NY</td>\n",
       "    </tr>\n",
       "    <tr>\n",
       "      <th>196</th>\n",
       "      <td>1.0</td>\n",
       "      <td>1.0</td>\n",
       "      <td>Marechal, Mr. Pierre</td>\n",
       "      <td>male</td>\n",
       "      <td>NaN</td>\n",
       "      <td>0.0</td>\n",
       "      <td>0.0</td>\n",
       "      <td>11774</td>\n",
       "      <td>29.7000</td>\n",
       "      <td>C47</td>\n",
       "      <td>C</td>\n",
       "      <td>7</td>\n",
       "      <td>NaN</td>\n",
       "      <td>Paris, France</td>\n",
       "    </tr>\n",
       "    <tr>\n",
       "      <th>1207</th>\n",
       "      <td>3.0</td>\n",
       "      <td>0.0</td>\n",
       "      <td>Skoog, Master. Karl Thorsten</td>\n",
       "      <td>male</td>\n",
       "      <td>10.0</td>\n",
       "      <td>3.0</td>\n",
       "      <td>2.0</td>\n",
       "      <td>347088</td>\n",
       "      <td>27.9000</td>\n",
       "      <td>NaN</td>\n",
       "      <td>S</td>\n",
       "      <td>NaN</td>\n",
       "      <td>NaN</td>\n",
       "      <td>NaN</td>\n",
       "    </tr>\n",
       "    <tr>\n",
       "      <th>213</th>\n",
       "      <td>1.0</td>\n",
       "      <td>1.0</td>\n",
       "      <td>Newell, Miss. Madeleine</td>\n",
       "      <td>female</td>\n",
       "      <td>31.0</td>\n",
       "      <td>1.0</td>\n",
       "      <td>0.0</td>\n",
       "      <td>35273</td>\n",
       "      <td>113.2750</td>\n",
       "      <td>D36</td>\n",
       "      <td>C</td>\n",
       "      <td>6</td>\n",
       "      <td>NaN</td>\n",
       "      <td>Lexington, MA</td>\n",
       "    </tr>\n",
       "    <tr>\n",
       "      <th>855</th>\n",
       "      <td>3.0</td>\n",
       "      <td>0.0</td>\n",
       "      <td>Hassan, Mr. Houssein G N</td>\n",
       "      <td>male</td>\n",
       "      <td>11.0</td>\n",
       "      <td>0.0</td>\n",
       "      <td>0.0</td>\n",
       "      <td>2699</td>\n",
       "      <td>18.7875</td>\n",
       "      <td>NaN</td>\n",
       "      <td>C</td>\n",
       "      <td>NaN</td>\n",
       "      <td>NaN</td>\n",
       "      <td>NaN</td>\n",
       "    </tr>\n",
       "    <tr>\n",
       "      <th>864</th>\n",
       "      <td>3.0</td>\n",
       "      <td>0.0</td>\n",
       "      <td>Henriksson, Miss. Jenny Lovisa</td>\n",
       "      <td>female</td>\n",
       "      <td>28.0</td>\n",
       "      <td>0.0</td>\n",
       "      <td>0.0</td>\n",
       "      <td>347086</td>\n",
       "      <td>7.7750</td>\n",
       "      <td>NaN</td>\n",
       "      <td>S</td>\n",
       "      <td>NaN</td>\n",
       "      <td>NaN</td>\n",
       "      <td>NaN</td>\n",
       "    </tr>\n",
       "    <tr>\n",
       "      <th>604</th>\n",
       "      <td>3.0</td>\n",
       "      <td>1.0</td>\n",
       "      <td>Abelseth, Miss. Karen Marie</td>\n",
       "      <td>female</td>\n",
       "      <td>16.0</td>\n",
       "      <td>0.0</td>\n",
       "      <td>0.0</td>\n",
       "      <td>348125</td>\n",
       "      <td>7.6500</td>\n",
       "      <td>NaN</td>\n",
       "      <td>S</td>\n",
       "      <td>16</td>\n",
       "      <td>NaN</td>\n",
       "      <td>Norway Los Angeles, CA</td>\n",
       "    </tr>\n",
       "    <tr>\n",
       "      <th>161</th>\n",
       "      <td>1.0</td>\n",
       "      <td>1.0</td>\n",
       "      <td>Hogeboom, Mrs. John C (Anna Andrews)</td>\n",
       "      <td>female</td>\n",
       "      <td>51.0</td>\n",
       "      <td>1.0</td>\n",
       "      <td>0.0</td>\n",
       "      <td>13502</td>\n",
       "      <td>77.9583</td>\n",
       "      <td>D11</td>\n",
       "      <td>S</td>\n",
       "      <td>10</td>\n",
       "      <td>NaN</td>\n",
       "      <td>Hudson, NY</td>\n",
       "    </tr>\n",
       "    <tr>\n",
       "      <th>353</th>\n",
       "      <td>2.0</td>\n",
       "      <td>1.0</td>\n",
       "      <td>Bryhl, Miss. Dagmar Jenny Ingeborg</td>\n",
       "      <td>female</td>\n",
       "      <td>20.0</td>\n",
       "      <td>1.0</td>\n",
       "      <td>0.0</td>\n",
       "      <td>236853</td>\n",
       "      <td>26.0000</td>\n",
       "      <td>NaN</td>\n",
       "      <td>S</td>\n",
       "      <td>12</td>\n",
       "      <td>NaN</td>\n",
       "      <td>Skara, Sweden / Rockford, IL</td>\n",
       "    </tr>\n",
       "    <tr>\n",
       "      <th>406</th>\n",
       "      <td>2.0</td>\n",
       "      <td>0.0</td>\n",
       "      <td>Faunthorpe, Mr. Harry</td>\n",
       "      <td>male</td>\n",
       "      <td>40.0</td>\n",
       "      <td>1.0</td>\n",
       "      <td>0.0</td>\n",
       "      <td>2926</td>\n",
       "      <td>26.0000</td>\n",
       "      <td>NaN</td>\n",
       "      <td>S</td>\n",
       "      <td>NaN</td>\n",
       "      <td>286.0</td>\n",
       "      <td>England / Philadelphia, PA</td>\n",
       "    </tr>\n",
       "  </tbody>\n",
       "</table>\n",
       "</div>"
      ],
      "text/plain": [
       "      pclass  survived                                               name  \\\n",
       "198      1.0       1.0  Marvin, Mrs. Daniel Warner (Mary Graham Carmic...   \n",
       "196      1.0       1.0                               Marechal, Mr. Pierre   \n",
       "1207     3.0       0.0                       Skoog, Master. Karl Thorsten   \n",
       "213      1.0       1.0                            Newell, Miss. Madeleine   \n",
       "855      3.0       0.0                           Hassan, Mr. Houssein G N   \n",
       "864      3.0       0.0                     Henriksson, Miss. Jenny Lovisa   \n",
       "604      3.0       1.0                        Abelseth, Miss. Karen Marie   \n",
       "161      1.0       1.0               Hogeboom, Mrs. John C (Anna Andrews)   \n",
       "353      2.0       1.0                Bryhl, Miss. Dagmar Jenny Ingeborg    \n",
       "406      2.0       0.0                              Faunthorpe, Mr. Harry   \n",
       "\n",
       "         sex   age  sibsp  parch  ticket      fare cabin embarked boat   body  \\\n",
       "198   female  18.0    1.0    0.0  113773   53.1000   D30        S   10    NaN   \n",
       "196     male   NaN    0.0    0.0   11774   29.7000   C47        C    7    NaN   \n",
       "1207    male  10.0    3.0    2.0  347088   27.9000   NaN        S  NaN    NaN   \n",
       "213   female  31.0    1.0    0.0   35273  113.2750   D36        C    6    NaN   \n",
       "855     male  11.0    0.0    0.0    2699   18.7875   NaN        C  NaN    NaN   \n",
       "864   female  28.0    0.0    0.0  347086    7.7750   NaN        S  NaN    NaN   \n",
       "604   female  16.0    0.0    0.0  348125    7.6500   NaN        S   16    NaN   \n",
       "161   female  51.0    1.0    0.0   13502   77.9583   D11        S   10    NaN   \n",
       "353   female  20.0    1.0    0.0  236853   26.0000   NaN        S   12    NaN   \n",
       "406     male  40.0    1.0    0.0    2926   26.0000   NaN        S  NaN  286.0   \n",
       "\n",
       "                         home.dest  \n",
       "198                   New York, NY  \n",
       "196                  Paris, France  \n",
       "1207                           NaN  \n",
       "213                  Lexington, MA  \n",
       "855                            NaN  \n",
       "864                            NaN  \n",
       "604         Norway Los Angeles, CA  \n",
       "161                     Hudson, NY  \n",
       "353   Skara, Sweden / Rockford, IL  \n",
       "406     England / Philadelphia, PA  "
      ]
     },
     "execution_count": 5,
     "metadata": {},
     "output_type": "execute_result"
    }
   ],
   "source": [
    "df.sample(10)"
   ]
  },
  {
   "cell_type": "markdown",
   "metadata": {},
   "source": [
    "### Wartości unkatowe"
   ]
  },
  {
   "cell_type": "code",
   "execution_count": 6,
   "metadata": {},
   "outputs": [
    {
     "data": {
      "text/html": [
       "<div>\n",
       "<style scoped>\n",
       "    .dataframe tbody tr th:only-of-type {\n",
       "        vertical-align: middle;\n",
       "    }\n",
       "\n",
       "    .dataframe tbody tr th {\n",
       "        vertical-align: top;\n",
       "    }\n",
       "\n",
       "    .dataframe thead th {\n",
       "        text-align: right;\n",
       "    }\n",
       "</style>\n",
       "<table border=\"1\" class=\"dataframe\">\n",
       "  <thead>\n",
       "    <tr style=\"text-align: right;\">\n",
       "      <th></th>\n",
       "      <th>Kolumna</th>\n",
       "      <th>Typ danych</th>\n",
       "      <th>Nie-null</th>\n",
       "      <th>Unikalne</th>\n",
       "    </tr>\n",
       "  </thead>\n",
       "  <tbody>\n",
       "    <tr>\n",
       "      <th>0</th>\n",
       "      <td>pclass</td>\n",
       "      <td>float64</td>\n",
       "      <td>1309</td>\n",
       "      <td>3</td>\n",
       "    </tr>\n",
       "    <tr>\n",
       "      <th>1</th>\n",
       "      <td>survived</td>\n",
       "      <td>float64</td>\n",
       "      <td>1309</td>\n",
       "      <td>2</td>\n",
       "    </tr>\n",
       "    <tr>\n",
       "      <th>2</th>\n",
       "      <td>name</td>\n",
       "      <td>object</td>\n",
       "      <td>1309</td>\n",
       "      <td>1307</td>\n",
       "    </tr>\n",
       "    <tr>\n",
       "      <th>3</th>\n",
       "      <td>sex</td>\n",
       "      <td>object</td>\n",
       "      <td>1309</td>\n",
       "      <td>2</td>\n",
       "    </tr>\n",
       "    <tr>\n",
       "      <th>4</th>\n",
       "      <td>age</td>\n",
       "      <td>float64</td>\n",
       "      <td>1046</td>\n",
       "      <td>98</td>\n",
       "    </tr>\n",
       "    <tr>\n",
       "      <th>5</th>\n",
       "      <td>sibsp</td>\n",
       "      <td>float64</td>\n",
       "      <td>1309</td>\n",
       "      <td>7</td>\n",
       "    </tr>\n",
       "    <tr>\n",
       "      <th>6</th>\n",
       "      <td>parch</td>\n",
       "      <td>float64</td>\n",
       "      <td>1309</td>\n",
       "      <td>8</td>\n",
       "    </tr>\n",
       "    <tr>\n",
       "      <th>7</th>\n",
       "      <td>ticket</td>\n",
       "      <td>object</td>\n",
       "      <td>1309</td>\n",
       "      <td>929</td>\n",
       "    </tr>\n",
       "    <tr>\n",
       "      <th>8</th>\n",
       "      <td>fare</td>\n",
       "      <td>float64</td>\n",
       "      <td>1308</td>\n",
       "      <td>281</td>\n",
       "    </tr>\n",
       "    <tr>\n",
       "      <th>9</th>\n",
       "      <td>cabin</td>\n",
       "      <td>object</td>\n",
       "      <td>295</td>\n",
       "      <td>186</td>\n",
       "    </tr>\n",
       "    <tr>\n",
       "      <th>10</th>\n",
       "      <td>embarked</td>\n",
       "      <td>object</td>\n",
       "      <td>1307</td>\n",
       "      <td>3</td>\n",
       "    </tr>\n",
       "    <tr>\n",
       "      <th>11</th>\n",
       "      <td>boat</td>\n",
       "      <td>object</td>\n",
       "      <td>486</td>\n",
       "      <td>27</td>\n",
       "    </tr>\n",
       "    <tr>\n",
       "      <th>12</th>\n",
       "      <td>body</td>\n",
       "      <td>float64</td>\n",
       "      <td>121</td>\n",
       "      <td>121</td>\n",
       "    </tr>\n",
       "    <tr>\n",
       "      <th>13</th>\n",
       "      <td>home.dest</td>\n",
       "      <td>object</td>\n",
       "      <td>745</td>\n",
       "      <td>369</td>\n",
       "    </tr>\n",
       "  </tbody>\n",
       "</table>\n",
       "</div>"
      ],
      "text/plain": [
       "      Kolumna Typ danych  Nie-null  Unikalne\n",
       "0      pclass    float64      1309         3\n",
       "1    survived    float64      1309         2\n",
       "2        name     object      1309      1307\n",
       "3         sex     object      1309         2\n",
       "4         age    float64      1046        98\n",
       "5       sibsp    float64      1309         7\n",
       "6       parch    float64      1309         8\n",
       "7      ticket     object      1309       929\n",
       "8        fare    float64      1308       281\n",
       "9       cabin     object       295       186\n",
       "10   embarked     object      1307         3\n",
       "11       boat     object       486        27\n",
       "12       body    float64       121       121\n",
       "13  home.dest     object       745       369"
      ]
     },
     "execution_count": 6,
     "metadata": {},
     "output_type": "execute_result"
    }
   ],
   "source": [
    "info_df = pd.DataFrame({\n",
    "    'Kolumna': df.columns,\n",
    "    'Typ danych': df.dtypes.values,\n",
    "    'Nie-null': df.notnull().sum().values,\n",
    "    'Unikalne': df.nunique().values\n",
    "})\n",
    "\n",
    "info_df"
   ]
  },
  {
   "cell_type": "code",
   "execution_count": 7,
   "metadata": {},
   "outputs": [
    {
     "data": {
      "text/markdown": [
       " #### Wartościi unikatowe łącznie **3343**"
      ],
      "text/plain": [
       "<IPython.core.display.Markdown object>"
      ]
     },
     "execution_count": 7,
     "metadata": {},
     "output_type": "execute_result"
    }
   ],
   "source": [
    "Markdown(f' #### Wartościi unikatowe łącznie **{df.nunique().sum()}**')"
   ]
  },
  {
   "cell_type": "code",
   "execution_count": 8,
   "metadata": {},
   "outputs": [
    {
     "data": {
      "text/markdown": [
       " #### Istnieją **3** klasy biletów \n",
       " Klasy biletów to: **[ 1.  2.  3. nan]**. \n",
       "\"nan\" jako wartości brakujące"
      ],
      "text/plain": [
       "<IPython.core.display.Markdown object>"
      ]
     },
     "execution_count": 8,
     "metadata": {},
     "output_type": "execute_result"
    }
   ],
   "source": [
    "### Klasy biletów\n",
    "n_unique_value_of_pclass = df['pclass'].nunique()\n",
    "\n",
    "unique_value_of_pclass =  df['pclass'].unique()\n",
    "\n",
    "Markdown(f' #### Istnieją **{n_unique_value_of_pclass}** klasy biletów \\n Klasy biletów to: **{unique_value_of_pclass}**. \\n\"nan\" jako wartości brakujące')"
   ]
  },
  {
   "cell_type": "markdown",
   "metadata": {},
   "source": [
    "### Juz na tym etapie widzimy że istnieją barakujące dane"
   ]
  },
  {
   "cell_type": "markdown",
   "metadata": {},
   "source": [
    "### ⚓ Porty w których dosiadali się pasa"
   ]
  },
  {
   "cell_type": "code",
   "execution_count": 9,
   "metadata": {},
   "outputs": [
    {
     "data": {
      "text/markdown": [
       "#### Istniały 3 porty, w których dosiadli się pasażerowie.\n",
       "#### Są to miasta portowe: ['S' 'C' nan 'Q']C = Cherbourg, Q = Queenstown, S = Southampton\n",
       "#### \"nan\" to wartość brakująca"
      ],
      "text/plain": [
       "<IPython.core.display.Markdown object>"
      ]
     },
     "execution_count": 9,
     "metadata": {},
     "output_type": "execute_result"
    }
   ],
   "source": [
    "n_unique_value_of_pclass = df['embarked'].nunique()\n",
    "\n",
    "unique_value_of_embarked  =  df['embarked'].unique()\n",
    "\n",
    "Markdown(f'#### Istniały {n_unique_value_of_pclass} porty, w których dosiadli się pasażerowie.\\n#### Są to miasta portowe: {unique_value_of_embarked}C = Cherbourg, Q = Queenstown, S = Southampton\\n#### \"nan\" to wartość brakująca')\n"
   ]
  },
  {
   "cell_type": "markdown",
   "metadata": {},
   "source": [
    "#### Już na tym etapie widzimy że dane będzie należało przetworzyć dane"
   ]
  },
  {
   "cell_type": "code",
   "execution_count": 10,
   "metadata": {},
   "outputs": [
    {
     "data": {
      "text/markdown": [
       "### 🔍 Unikalne wartości w kolumnie `survived`:\n",
       "\n",
       "Istnieją wartości: [1.0, 0.0, nan] oznaczające czy pasażer przeżył katastrofę.\n",
       "\n",
       "- Wartość **1** oznacza **przeżył**.\n",
       "- Wartość **0** oznacza **nie przeżył**.\n",
       "- Wartość **NaN** oznacza **brak danych**.\n"
      ],
      "text/plain": [
       "<IPython.core.display.Markdown object>"
      ]
     },
     "execution_count": 10,
     "metadata": {},
     "output_type": "execute_result"
    }
   ],
   "source": [
    "unique_values = df['survived'].unique()\n",
    "\n",
    "text = f\"### 🔍 Unikalne wartości w kolumnie `survived`:\\n\\n\"\n",
    "text += f\"Istnieją wartości: {list(unique_values)} oznaczające czy pasażer przeżył katastrofę.\\n\\n\"\n",
    "\n",
    "for value in unique_values:\n",
    "    if value == 0:\n",
    "        text += f\"- Wartość **{int(value)}** oznacza **nie przeżył**.\\n\"\n",
    "    elif value == 1:\n",
    "        text += f\"- Wartość **{int(value)}** oznacza **przeżył**.\\n\"\n",
    "    elif pd.isna(value):\n",
    "        text += f\"- Wartość **NaN** oznacza **brak danych**.\\n\"\n",
    "\n",
    "Markdown(text)"
   ]
  },
  {
   "cell_type": "markdown",
   "metadata": {},
   "source": [
    "### Podstawowe statystyki opisowe"
   ]
  },
  {
   "cell_type": "code",
   "execution_count": 11,
   "metadata": {},
   "outputs": [
    {
     "data": {
      "text/html": [
       "<div>\n",
       "<style scoped>\n",
       "    .dataframe tbody tr th:only-of-type {\n",
       "        vertical-align: middle;\n",
       "    }\n",
       "\n",
       "    .dataframe tbody tr th {\n",
       "        vertical-align: top;\n",
       "    }\n",
       "\n",
       "    .dataframe thead th {\n",
       "        text-align: right;\n",
       "    }\n",
       "</style>\n",
       "<table border=\"1\" class=\"dataframe\">\n",
       "  <thead>\n",
       "    <tr style=\"text-align: right;\">\n",
       "      <th></th>\n",
       "      <th>count</th>\n",
       "      <th>mean</th>\n",
       "      <th>std</th>\n",
       "      <th>min</th>\n",
       "      <th>25%</th>\n",
       "      <th>50%</th>\n",
       "      <th>75%</th>\n",
       "      <th>max</th>\n",
       "    </tr>\n",
       "  </thead>\n",
       "  <tbody>\n",
       "    <tr>\n",
       "      <th>pclass</th>\n",
       "      <td>1309.0</td>\n",
       "      <td>2.294882</td>\n",
       "      <td>0.837836</td>\n",
       "      <td>1.0000</td>\n",
       "      <td>2.0000</td>\n",
       "      <td>3.0000</td>\n",
       "      <td>3.000</td>\n",
       "      <td>3.0000</td>\n",
       "    </tr>\n",
       "    <tr>\n",
       "      <th>survived</th>\n",
       "      <td>1309.0</td>\n",
       "      <td>0.381971</td>\n",
       "      <td>0.486055</td>\n",
       "      <td>0.0000</td>\n",
       "      <td>0.0000</td>\n",
       "      <td>0.0000</td>\n",
       "      <td>1.000</td>\n",
       "      <td>1.0000</td>\n",
       "    </tr>\n",
       "    <tr>\n",
       "      <th>age</th>\n",
       "      <td>1046.0</td>\n",
       "      <td>29.881135</td>\n",
       "      <td>14.413500</td>\n",
       "      <td>0.1667</td>\n",
       "      <td>21.0000</td>\n",
       "      <td>28.0000</td>\n",
       "      <td>39.000</td>\n",
       "      <td>80.0000</td>\n",
       "    </tr>\n",
       "    <tr>\n",
       "      <th>sibsp</th>\n",
       "      <td>1309.0</td>\n",
       "      <td>0.498854</td>\n",
       "      <td>1.041658</td>\n",
       "      <td>0.0000</td>\n",
       "      <td>0.0000</td>\n",
       "      <td>0.0000</td>\n",
       "      <td>1.000</td>\n",
       "      <td>8.0000</td>\n",
       "    </tr>\n",
       "    <tr>\n",
       "      <th>parch</th>\n",
       "      <td>1309.0</td>\n",
       "      <td>0.385027</td>\n",
       "      <td>0.865560</td>\n",
       "      <td>0.0000</td>\n",
       "      <td>0.0000</td>\n",
       "      <td>0.0000</td>\n",
       "      <td>0.000</td>\n",
       "      <td>9.0000</td>\n",
       "    </tr>\n",
       "    <tr>\n",
       "      <th>fare</th>\n",
       "      <td>1308.0</td>\n",
       "      <td>33.295479</td>\n",
       "      <td>51.758668</td>\n",
       "      <td>0.0000</td>\n",
       "      <td>7.8958</td>\n",
       "      <td>14.4542</td>\n",
       "      <td>31.275</td>\n",
       "      <td>512.3292</td>\n",
       "    </tr>\n",
       "    <tr>\n",
       "      <th>body</th>\n",
       "      <td>121.0</td>\n",
       "      <td>160.809917</td>\n",
       "      <td>97.696922</td>\n",
       "      <td>1.0000</td>\n",
       "      <td>72.0000</td>\n",
       "      <td>155.0000</td>\n",
       "      <td>256.000</td>\n",
       "      <td>328.0000</td>\n",
       "    </tr>\n",
       "  </tbody>\n",
       "</table>\n",
       "</div>"
      ],
      "text/plain": [
       "           count        mean        std     min      25%       50%      75%  \\\n",
       "pclass    1309.0    2.294882   0.837836  1.0000   2.0000    3.0000    3.000   \n",
       "survived  1309.0    0.381971   0.486055  0.0000   0.0000    0.0000    1.000   \n",
       "age       1046.0   29.881135  14.413500  0.1667  21.0000   28.0000   39.000   \n",
       "sibsp     1309.0    0.498854   1.041658  0.0000   0.0000    0.0000    1.000   \n",
       "parch     1309.0    0.385027   0.865560  0.0000   0.0000    0.0000    0.000   \n",
       "fare      1308.0   33.295479  51.758668  0.0000   7.8958   14.4542   31.275   \n",
       "body       121.0  160.809917  97.696922  1.0000  72.0000  155.0000  256.000   \n",
       "\n",
       "               max  \n",
       "pclass      3.0000  \n",
       "survived    1.0000  \n",
       "age        80.0000  \n",
       "sibsp       8.0000  \n",
       "parch       9.0000  \n",
       "fare      512.3292  \n",
       "body      328.0000  "
      ]
     },
     "execution_count": 11,
     "metadata": {},
     "output_type": "execute_result"
    }
   ],
   "source": [
    "df.describe().T"
   ]
  },
  {
   "cell_type": "markdown",
   "metadata": {},
   "source": [
    "Już na tym etapie widzimy że:\n",
    "- wśród klasy biletu przeważa 3 klasa biletu.\n",
    "- większość osób jest tóż przed 30 rokiem zycia."
   ]
  },
  {
   "cell_type": "markdown",
   "metadata": {
    "editable": true,
    "slideshow": {
     "slide_type": ""
    },
    "tags": []
   },
   "source": [
    "## ✅ Podsumowanie ogólnego przeglądu danych o pasażerach Titanica"
   ]
  },
  {
   "cell_type": "markdown",
   "metadata": {
    "editable": true,
    "slideshow": {
     "slide_type": ""
    },
    "tags": []
   },
   "source": [
    "### Dane posiadają:"
   ]
  },
  {
   "cell_type": "markdown",
   "metadata": {},
   "source": [
    "1310 wierszy"
   ]
  },
  {
   "cell_type": "markdown",
   "metadata": {},
   "source": [
    "14 kolumn:\n",
    "- 7 z danymi tekstowymi (object)\n",
    "- 7 z danymi zmiennoprzecinkowymi (float64)\n"
   ]
  },
  {
   "cell_type": "markdown",
   "metadata": {},
   "source": [
    "- 3343 wartości unikatowych.\n",
    "- 3869 wartości brakujących.\n",
    "- Każda kolumna zawiera przynajmniej jedną brakującą wartość."
   ]
  },
  {
   "cell_type": "markdown",
   "metadata": {},
   "source": [
    "# ❓ KROK 2: Analiza brakujących wartości."
   ]
  },
  {
   "cell_type": "markdown",
   "metadata": {},
   "source": [
    "### Wartości brakujące"
   ]
  },
  {
   "cell_type": "code",
   "execution_count": 12,
   "metadata": {
    "editable": true,
    "slideshow": {
     "slide_type": ""
    },
    "tags": []
   },
   "outputs": [
    {
     "data": {
      "text/html": [
       "<div>\n",
       "<style scoped>\n",
       "    .dataframe tbody tr th:only-of-type {\n",
       "        vertical-align: middle;\n",
       "    }\n",
       "\n",
       "    .dataframe tbody tr th {\n",
       "        vertical-align: top;\n",
       "    }\n",
       "\n",
       "    .dataframe thead th {\n",
       "        text-align: right;\n",
       "    }\n",
       "</style>\n",
       "<table border=\"1\" class=\"dataframe\">\n",
       "  <thead>\n",
       "    <tr style=\"text-align: right;\">\n",
       "      <th></th>\n",
       "      <th>Column</th>\n",
       "      <th>Missing Values</th>\n",
       "    </tr>\n",
       "  </thead>\n",
       "  <tbody>\n",
       "    <tr>\n",
       "      <th>0</th>\n",
       "      <td>pclass</td>\n",
       "      <td>1</td>\n",
       "    </tr>\n",
       "    <tr>\n",
       "      <th>1</th>\n",
       "      <td>survived</td>\n",
       "      <td>1</td>\n",
       "    </tr>\n",
       "    <tr>\n",
       "      <th>2</th>\n",
       "      <td>name</td>\n",
       "      <td>1</td>\n",
       "    </tr>\n",
       "    <tr>\n",
       "      <th>3</th>\n",
       "      <td>sex</td>\n",
       "      <td>1</td>\n",
       "    </tr>\n",
       "    <tr>\n",
       "      <th>4</th>\n",
       "      <td>age</td>\n",
       "      <td>264</td>\n",
       "    </tr>\n",
       "    <tr>\n",
       "      <th>5</th>\n",
       "      <td>sibsp</td>\n",
       "      <td>1</td>\n",
       "    </tr>\n",
       "    <tr>\n",
       "      <th>6</th>\n",
       "      <td>parch</td>\n",
       "      <td>1</td>\n",
       "    </tr>\n",
       "    <tr>\n",
       "      <th>7</th>\n",
       "      <td>ticket</td>\n",
       "      <td>1</td>\n",
       "    </tr>\n",
       "    <tr>\n",
       "      <th>8</th>\n",
       "      <td>fare</td>\n",
       "      <td>2</td>\n",
       "    </tr>\n",
       "    <tr>\n",
       "      <th>9</th>\n",
       "      <td>cabin</td>\n",
       "      <td>1015</td>\n",
       "    </tr>\n",
       "    <tr>\n",
       "      <th>10</th>\n",
       "      <td>embarked</td>\n",
       "      <td>3</td>\n",
       "    </tr>\n",
       "    <tr>\n",
       "      <th>11</th>\n",
       "      <td>boat</td>\n",
       "      <td>824</td>\n",
       "    </tr>\n",
       "    <tr>\n",
       "      <th>12</th>\n",
       "      <td>body</td>\n",
       "      <td>1189</td>\n",
       "    </tr>\n",
       "    <tr>\n",
       "      <th>13</th>\n",
       "      <td>home.dest</td>\n",
       "      <td>565</td>\n",
       "    </tr>\n",
       "  </tbody>\n",
       "</table>\n",
       "</div>"
      ],
      "text/plain": [
       "       Column  Missing Values\n",
       "0      pclass               1\n",
       "1    survived               1\n",
       "2        name               1\n",
       "3         sex               1\n",
       "4         age             264\n",
       "5       sibsp               1\n",
       "6       parch               1\n",
       "7      ticket               1\n",
       "8        fare               2\n",
       "9       cabin            1015\n",
       "10   embarked               3\n",
       "11       boat             824\n",
       "12       body            1189\n",
       "13  home.dest             565"
      ]
     },
     "execution_count": 12,
     "metadata": {},
     "output_type": "execute_result"
    }
   ],
   "source": [
    "missing_values = df.isnull().sum()\n",
    "\n",
    "missing_df = pd.DataFrame({\n",
    "    'Column': missing_values.index,\n",
    "    'Missing Values': missing_values.values\n",
    "})\n",
    "\n",
    "missing_df"
   ]
  },
  {
   "cell_type": "code",
   "execution_count": 13,
   "metadata": {},
   "outputs": [
    {
     "data": {
      "text/markdown": [
       "#### Liczba wszystkich brakujących wartości: 3869"
      ],
      "text/plain": [
       "<IPython.core.display.Markdown object>"
      ]
     },
     "execution_count": 13,
     "metadata": {},
     "output_type": "execute_result"
    }
   ],
   "source": [
    "Markdown(f'#### Liczba wszystkich brakujących wartości: {df.isnull().sum().sum()}')"
   ]
  },
  {
   "cell_type": "markdown",
   "metadata": {},
   "source": [
    "### Skopiowanie DataFrame w celu bezpiecznej naprawy danych"
   ]
  },
  {
   "cell_type": "code",
   "execution_count": 14,
   "metadata": {},
   "outputs": [],
   "source": [
    "df_copy = df.copy()"
   ]
  },
  {
   "cell_type": "markdown",
   "metadata": {},
   "source": [
    "## Analiza poszczególnych kolumn w celu szukania poszególnych brakujących wartości"
   ]
  },
  {
   "cell_type": "markdown",
   "metadata": {},
   "source": [
    "### Poszukiwanie duplikatów"
   ]
  },
  {
   "cell_type": "code",
   "execution_count": 15,
   "metadata": {},
   "outputs": [
    {
     "data": {
      "text/plain": [
       "0       False\n",
       "1       False\n",
       "2       False\n",
       "3       False\n",
       "4       False\n",
       "        ...  \n",
       "1305    False\n",
       "1306    False\n",
       "1307    False\n",
       "1308    False\n",
       "1309    False\n",
       "Length: 1310, dtype: bool"
      ]
     },
     "execution_count": 15,
     "metadata": {},
     "output_type": "execute_result"
    }
   ],
   "source": [
    "df_copy.duplicated()"
   ]
  },
  {
   "cell_type": "markdown",
   "metadata": {},
   "source": [
    "### Szukanie brakującej danej w pclass - Klasa biletu"
   ]
  },
  {
   "cell_type": "code",
   "execution_count": 16,
   "metadata": {},
   "outputs": [
    {
     "data": {
      "text/html": [
       "<div>\n",
       "<style scoped>\n",
       "    .dataframe tbody tr th:only-of-type {\n",
       "        vertical-align: middle;\n",
       "    }\n",
       "\n",
       "    .dataframe tbody tr th {\n",
       "        vertical-align: top;\n",
       "    }\n",
       "\n",
       "    .dataframe thead th {\n",
       "        text-align: right;\n",
       "    }\n",
       "</style>\n",
       "<table border=\"1\" class=\"dataframe\">\n",
       "  <thead>\n",
       "    <tr style=\"text-align: right;\">\n",
       "      <th></th>\n",
       "      <th>pclass</th>\n",
       "      <th>survived</th>\n",
       "      <th>name</th>\n",
       "      <th>sex</th>\n",
       "      <th>age</th>\n",
       "      <th>sibsp</th>\n",
       "      <th>parch</th>\n",
       "      <th>ticket</th>\n",
       "      <th>fare</th>\n",
       "      <th>cabin</th>\n",
       "      <th>embarked</th>\n",
       "      <th>boat</th>\n",
       "      <th>body</th>\n",
       "      <th>home.dest</th>\n",
       "    </tr>\n",
       "  </thead>\n",
       "  <tbody>\n",
       "    <tr>\n",
       "      <th>1309</th>\n",
       "      <td>NaN</td>\n",
       "      <td>NaN</td>\n",
       "      <td>NaN</td>\n",
       "      <td>NaN</td>\n",
       "      <td>NaN</td>\n",
       "      <td>NaN</td>\n",
       "      <td>NaN</td>\n",
       "      <td>NaN</td>\n",
       "      <td>NaN</td>\n",
       "      <td>NaN</td>\n",
       "      <td>NaN</td>\n",
       "      <td>NaN</td>\n",
       "      <td>NaN</td>\n",
       "      <td>NaN</td>\n",
       "    </tr>\n",
       "  </tbody>\n",
       "</table>\n",
       "</div>"
      ],
      "text/plain": [
       "      pclass  survived name  sex  age  sibsp  parch ticket  fare cabin  \\\n",
       "1309     NaN       NaN  NaN  NaN  NaN    NaN    NaN    NaN   NaN   NaN   \n",
       "\n",
       "     embarked boat  body home.dest  \n",
       "1309      NaN  NaN   NaN       NaN  "
      ]
     },
     "execution_count": 16,
     "metadata": {},
     "output_type": "execute_result"
    }
   ],
   "source": [
    "nan_row_in_pclass = df_copy[df_copy['pclass'].isna()]\n",
    "nan_row_in_pclass"
   ]
  },
  {
   "cell_type": "markdown",
   "metadata": {},
   "source": [
    "Cały wiersz zawiera danych - **do usunięcia**"
   ]
  },
  {
   "cell_type": "code",
   "execution_count": 17,
   "metadata": {},
   "outputs": [],
   "source": [
    "df_copy.dropna(subset=['pclass'],inplace=True)"
   ]
  },
  {
   "cell_type": "code",
   "execution_count": 18,
   "metadata": {},
   "outputs": [
    {
     "data": {
      "text/html": [
       "<div>\n",
       "<style scoped>\n",
       "    .dataframe tbody tr th:only-of-type {\n",
       "        vertical-align: middle;\n",
       "    }\n",
       "\n",
       "    .dataframe tbody tr th {\n",
       "        vertical-align: top;\n",
       "    }\n",
       "\n",
       "    .dataframe thead th {\n",
       "        text-align: right;\n",
       "    }\n",
       "</style>\n",
       "<table border=\"1\" class=\"dataframe\">\n",
       "  <thead>\n",
       "    <tr style=\"text-align: right;\">\n",
       "      <th></th>\n",
       "      <th>Column</th>\n",
       "      <th>Missing Values</th>\n",
       "    </tr>\n",
       "  </thead>\n",
       "  <tbody>\n",
       "    <tr>\n",
       "      <th>0</th>\n",
       "      <td>pclass</td>\n",
       "      <td>0</td>\n",
       "    </tr>\n",
       "    <tr>\n",
       "      <th>1</th>\n",
       "      <td>survived</td>\n",
       "      <td>0</td>\n",
       "    </tr>\n",
       "    <tr>\n",
       "      <th>2</th>\n",
       "      <td>name</td>\n",
       "      <td>0</td>\n",
       "    </tr>\n",
       "    <tr>\n",
       "      <th>3</th>\n",
       "      <td>sex</td>\n",
       "      <td>0</td>\n",
       "    </tr>\n",
       "    <tr>\n",
       "      <th>4</th>\n",
       "      <td>age</td>\n",
       "      <td>263</td>\n",
       "    </tr>\n",
       "    <tr>\n",
       "      <th>5</th>\n",
       "      <td>sibsp</td>\n",
       "      <td>0</td>\n",
       "    </tr>\n",
       "    <tr>\n",
       "      <th>6</th>\n",
       "      <td>parch</td>\n",
       "      <td>0</td>\n",
       "    </tr>\n",
       "    <tr>\n",
       "      <th>7</th>\n",
       "      <td>ticket</td>\n",
       "      <td>0</td>\n",
       "    </tr>\n",
       "    <tr>\n",
       "      <th>8</th>\n",
       "      <td>fare</td>\n",
       "      <td>1</td>\n",
       "    </tr>\n",
       "    <tr>\n",
       "      <th>9</th>\n",
       "      <td>cabin</td>\n",
       "      <td>1014</td>\n",
       "    </tr>\n",
       "    <tr>\n",
       "      <th>10</th>\n",
       "      <td>embarked</td>\n",
       "      <td>2</td>\n",
       "    </tr>\n",
       "    <tr>\n",
       "      <th>11</th>\n",
       "      <td>boat</td>\n",
       "      <td>823</td>\n",
       "    </tr>\n",
       "    <tr>\n",
       "      <th>12</th>\n",
       "      <td>body</td>\n",
       "      <td>1188</td>\n",
       "    </tr>\n",
       "    <tr>\n",
       "      <th>13</th>\n",
       "      <td>home.dest</td>\n",
       "      <td>564</td>\n",
       "    </tr>\n",
       "  </tbody>\n",
       "</table>\n",
       "</div>"
      ],
      "text/plain": [
       "       Column  Missing Values\n",
       "0      pclass               0\n",
       "1    survived               0\n",
       "2        name               0\n",
       "3         sex               0\n",
       "4         age             263\n",
       "5       sibsp               0\n",
       "6       parch               0\n",
       "7      ticket               0\n",
       "8        fare               1\n",
       "9       cabin            1014\n",
       "10   embarked               2\n",
       "11       boat             823\n",
       "12       body            1188\n",
       "13  home.dest             564"
      ]
     },
     "execution_count": 18,
     "metadata": {},
     "output_type": "execute_result"
    }
   ],
   "source": [
    "missing_values_copy = df_copy.isnull().sum()\n",
    "\n",
    "missing_df_copy = pd.DataFrame({\n",
    "    'Column': missing_values_copy.index,\n",
    "    'Missing Values': missing_values_copy.values\n",
    "})\n",
    "\n",
    "missing_df_copy"
   ]
  },
  {
   "cell_type": "markdown",
   "metadata": {},
   "source": [
    "### Szukanie brakujących danych w 'age' - wiek pasażerów"
   ]
  },
  {
   "cell_type": "code",
   "execution_count": 19,
   "metadata": {
    "scrolled": true
   },
   "outputs": [
    {
     "data": {
      "text/markdown": [
       "Brakujące wartości w kolumnie \"age\": 263"
      ],
      "text/plain": [
       "<IPython.core.display.Markdown object>"
      ]
     },
     "execution_count": 19,
     "metadata": {},
     "output_type": "execute_result"
    }
   ],
   "source": [
    "missing_values_in_age_column = df_copy['age'].isnull().sum()\n",
    "Markdown(f'Brakujące wartości w kolumnie \"age\": {missing_values_in_age_column}')"
   ]
  },
  {
   "cell_type": "markdown",
   "metadata": {},
   "source": [
    "#### Wypełnienie **śrdnią wartością** brakujących wartości w kolumnie **\"age\"**."
   ]
  },
  {
   "cell_type": "code",
   "execution_count": 20,
   "metadata": {},
   "outputs": [],
   "source": [
    "df_copy.fillna({ 'age': df_copy['age'].mean()}, inplace = True )"
   ]
  },
  {
   "cell_type": "code",
   "execution_count": 21,
   "metadata": {},
   "outputs": [],
   "source": [
    "# missing_values_copy = df_copy.isnull().sum()\n",
    "\n",
    "# missing_df_copy = pd.DataFrame({\n",
    "#     'Column': missing_values_copy.index,\n",
    "#     'Missing Values': missing_values_copy.values\n",
    "# })\n",
    "\n",
    "# missing_df_copy"
   ]
  },
  {
   "cell_type": "markdown",
   "metadata": {},
   "source": [
    "### Szukanie brakującej danej w **fare** - Cena biletu"
   ]
  },
  {
   "cell_type": "code",
   "execution_count": 22,
   "metadata": {},
   "outputs": [
    {
     "data": {
      "text/html": [
       "<div>\n",
       "<style scoped>\n",
       "    .dataframe tbody tr th:only-of-type {\n",
       "        vertical-align: middle;\n",
       "    }\n",
       "\n",
       "    .dataframe tbody tr th {\n",
       "        vertical-align: top;\n",
       "    }\n",
       "\n",
       "    .dataframe thead th {\n",
       "        text-align: right;\n",
       "    }\n",
       "</style>\n",
       "<table border=\"1\" class=\"dataframe\">\n",
       "  <thead>\n",
       "    <tr style=\"text-align: right;\">\n",
       "      <th></th>\n",
       "      <th>pclass</th>\n",
       "      <th>survived</th>\n",
       "      <th>name</th>\n",
       "      <th>sex</th>\n",
       "      <th>age</th>\n",
       "      <th>sibsp</th>\n",
       "      <th>parch</th>\n",
       "      <th>ticket</th>\n",
       "      <th>fare</th>\n",
       "      <th>cabin</th>\n",
       "      <th>embarked</th>\n",
       "      <th>boat</th>\n",
       "      <th>body</th>\n",
       "      <th>home.dest</th>\n",
       "    </tr>\n",
       "  </thead>\n",
       "  <tbody>\n",
       "    <tr>\n",
       "      <th>1225</th>\n",
       "      <td>3.0</td>\n",
       "      <td>0.0</td>\n",
       "      <td>Storey, Mr. Thomas</td>\n",
       "      <td>male</td>\n",
       "      <td>60.5</td>\n",
       "      <td>0.0</td>\n",
       "      <td>0.0</td>\n",
       "      <td>3701</td>\n",
       "      <td>NaN</td>\n",
       "      <td>NaN</td>\n",
       "      <td>S</td>\n",
       "      <td>NaN</td>\n",
       "      <td>261.0</td>\n",
       "      <td>NaN</td>\n",
       "    </tr>\n",
       "  </tbody>\n",
       "</table>\n",
       "</div>"
      ],
      "text/plain": [
       "      pclass  survived                name   sex   age  sibsp  parch ticket  \\\n",
       "1225     3.0       0.0  Storey, Mr. Thomas  male  60.5    0.0    0.0   3701   \n",
       "\n",
       "      fare cabin embarked boat   body home.dest  \n",
       "1225   NaN   NaN        S  NaN  261.0       NaN  "
      ]
     },
     "execution_count": 22,
     "metadata": {},
     "output_type": "execute_result"
    }
   ],
   "source": [
    "nan_row_in_fare = df_copy[df_copy['fare'].isna()]\n",
    "\n",
    "nan_row_in_fare"
   ]
  },
  {
   "cell_type": "markdown",
   "metadata": {},
   "source": [
    "Widzimy że brakująca wartość 'fare' dotyczy jednego rekordu, posiadacza biletu 3 klasy.\n",
    "\n",
    "Można uzupełnić wartość brakującą średnią wartością cen biletów 3-klasy"
   ]
  },
  {
   "cell_type": "code",
   "execution_count": 23,
   "metadata": {},
   "outputs": [],
   "source": [
    "# Krok 1: Obliczenie średniej ceny biletu dla klasy 3 (pclass = 3)\n",
    "mean_for_fare_pclass_3 = df_copy[df_copy['pclass'] == 3]['fare'].mean()\n",
    "mean_for_fare_pclass_3\n",
    "\n",
    "# Krok 2: Zastąpienie brakującego NAN \n",
    "# loc - bezpośrenia zmiana w df_copy\n",
    "# (df_copy['pclass'] == 3 - warunek który bierze pod uwagę jedynie 3 klasę biletu\n",
    "# (df_copy['fare'].isna()), 'fare' - zastąp NAN średnią ceną biletu\n",
    "df_copy.loc[(df_copy['pclass'] == 3) & (df_copy['fare'].isna()), 'fare'] = mean_for_fare_pclass_3\n"
   ]
  },
  {
   "cell_type": "code",
   "execution_count": 24,
   "metadata": {},
   "outputs": [],
   "source": [
    "# df_copy.isnull().sum()"
   ]
  },
  {
   "cell_type": "markdown",
   "metadata": {},
   "source": [
    "### Analiza brakujących danej w **cabin** - numer kabiny."
   ]
  },
  {
   "cell_type": "code",
   "execution_count": 25,
   "metadata": {},
   "outputs": [
    {
     "name": "stdout",
     "output_type": "stream",
     "text": [
      "<class 'pandas.core.series.Series'>\n",
      "Index: 1309 entries, 0 to 1308\n",
      "Series name: cabin\n",
      "Non-Null Count  Dtype \n",
      "--------------  ----- \n",
      "295 non-null    object\n",
      "dtypes: object(1)\n",
      "memory usage: 20.5+ KB\n"
     ]
    }
   ],
   "source": [
    "df_copy['cabin'].info()"
   ]
  },
  {
   "cell_type": "markdown",
   "metadata": {},
   "source": [
    "#### W kolumnie znajdują się jedynie wartości **tekstowe**"
   ]
  },
  {
   "cell_type": "code",
   "execution_count": 26,
   "metadata": {},
   "outputs": [
    {
     "data": {
      "text/markdown": [
       "\n",
       "#### Istnieje 1014 brakujących wartości w kolumnie *cabin*  \n",
       "#### Istnieje wszystkich 1309 rekordów  \n",
       "#### Pozostaje 295 wartości kabin  \n",
       "#### Procent zaginionych danych dotyczących kabiny to 77.46%\n"
      ],
      "text/plain": [
       "<IPython.core.display.Markdown object>"
      ]
     },
     "execution_count": 26,
     "metadata": {},
     "output_type": "execute_result"
    }
   ],
   "source": [
    "# Ilość brakujących danych dotyczących kabin\n",
    "cabin_mising_values = df_copy['cabin'].isnull().sum()\n",
    "# Ilość wszystkich wierszy\n",
    "num_rows_in_df_copy = len(df_copy.index)\n",
    "# Różnica ilości wierszy z brakującymi danymi 'cabin' od wszyskich wierszy\n",
    "num_of_cabins_data_left = num_rows_in_df_copy - cabin_mising_values\n",
    "# % jaki mają wiersze z brakującymi danymi\n",
    "percent_of_mining_cabin_data = ((cabin_mising_values*100)/num_rows_in_df_copy).round(2)\n",
    "\n",
    "Markdown(f\"\"\"\n",
    "#### Istnieje {cabin_mising_values} brakujących wartości w kolumnie *cabin*  \n",
    "#### Istnieje wszystkich {num_rows_in_df_copy} rekordów  \n",
    "#### Pozostaje {num_of_cabins_data_left} wartości kabin  \n",
    "#### Procent zaginionych danych dotyczących kabiny to {percent_of_mining_cabin_data}%\n",
    "\"\"\")\n"
   ]
  },
  {
   "cell_type": "markdown",
   "metadata": {},
   "source": [
    "#### Procent zaginionych rekordów dotyczących kabiny przekracza 75% można przyjąć że dane są utracone na zawsze i zaspąpić je wartością 'Unknow'"
   ]
  },
  {
   "cell_type": "code",
   "execution_count": 27,
   "metadata": {},
   "outputs": [],
   "source": [
    "df_copy['cabin'] = df_copy['cabin'].fillna('Unknown')"
   ]
  },
  {
   "cell_type": "code",
   "execution_count": 28,
   "metadata": {},
   "outputs": [],
   "source": [
    "# df_copy.isnull().sum()"
   ]
  },
  {
   "cell_type": "markdown",
   "metadata": {},
   "source": [
    "### Analiza brakujących danej w **embarked** - Port, w którym pasażer wszedł na pokład"
   ]
  },
  {
   "cell_type": "code",
   "execution_count": 29,
   "metadata": {},
   "outputs": [
    {
     "data": {
      "text/html": [
       "<div>\n",
       "<style scoped>\n",
       "    .dataframe tbody tr th:only-of-type {\n",
       "        vertical-align: middle;\n",
       "    }\n",
       "\n",
       "    .dataframe tbody tr th {\n",
       "        vertical-align: top;\n",
       "    }\n",
       "\n",
       "    .dataframe thead th {\n",
       "        text-align: right;\n",
       "    }\n",
       "</style>\n",
       "<table border=\"1\" class=\"dataframe\">\n",
       "  <thead>\n",
       "    <tr style=\"text-align: right;\">\n",
       "      <th></th>\n",
       "      <th>pclass</th>\n",
       "      <th>survived</th>\n",
       "      <th>name</th>\n",
       "      <th>sex</th>\n",
       "      <th>age</th>\n",
       "      <th>sibsp</th>\n",
       "      <th>parch</th>\n",
       "      <th>ticket</th>\n",
       "      <th>fare</th>\n",
       "      <th>cabin</th>\n",
       "      <th>embarked</th>\n",
       "      <th>boat</th>\n",
       "      <th>body</th>\n",
       "      <th>home.dest</th>\n",
       "    </tr>\n",
       "  </thead>\n",
       "  <tbody>\n",
       "    <tr>\n",
       "      <th>168</th>\n",
       "      <td>1.0</td>\n",
       "      <td>1.0</td>\n",
       "      <td>Icard, Miss. Amelie</td>\n",
       "      <td>female</td>\n",
       "      <td>38.0</td>\n",
       "      <td>0.0</td>\n",
       "      <td>0.0</td>\n",
       "      <td>113572</td>\n",
       "      <td>80.0</td>\n",
       "      <td>B28</td>\n",
       "      <td>NaN</td>\n",
       "      <td>6</td>\n",
       "      <td>NaN</td>\n",
       "      <td>NaN</td>\n",
       "    </tr>\n",
       "    <tr>\n",
       "      <th>284</th>\n",
       "      <td>1.0</td>\n",
       "      <td>1.0</td>\n",
       "      <td>Stone, Mrs. George Nelson (Martha Evelyn)</td>\n",
       "      <td>female</td>\n",
       "      <td>62.0</td>\n",
       "      <td>0.0</td>\n",
       "      <td>0.0</td>\n",
       "      <td>113572</td>\n",
       "      <td>80.0</td>\n",
       "      <td>B28</td>\n",
       "      <td>NaN</td>\n",
       "      <td>6</td>\n",
       "      <td>NaN</td>\n",
       "      <td>Cincinatti, OH</td>\n",
       "    </tr>\n",
       "  </tbody>\n",
       "</table>\n",
       "</div>"
      ],
      "text/plain": [
       "     pclass  survived                                       name     sex  \\\n",
       "168     1.0       1.0                        Icard, Miss. Amelie  female   \n",
       "284     1.0       1.0  Stone, Mrs. George Nelson (Martha Evelyn)  female   \n",
       "\n",
       "      age  sibsp  parch  ticket  fare cabin embarked boat  body  \\\n",
       "168  38.0    0.0    0.0  113572  80.0   B28      NaN    6   NaN   \n",
       "284  62.0    0.0    0.0  113572  80.0   B28      NaN    6   NaN   \n",
       "\n",
       "          home.dest  \n",
       "168             NaN  \n",
       "284  Cincinatti, OH  "
      ]
     },
     "execution_count": 29,
     "metadata": {},
     "output_type": "execute_result"
    }
   ],
   "source": [
    "nan_row_in_embarked = df_copy[df_copy['embarked'].isna()]\n",
    "nan_row_in_embarked"
   ]
  },
  {
   "cell_type": "markdown",
   "metadata": {},
   "source": [
    "Sprawdzenie, w którym porcie wsiadło najwięcej osób"
   ]
  },
  {
   "cell_type": "code",
   "execution_count": 30,
   "metadata": {},
   "outputs": [
    {
     "data": {
      "text/markdown": [
       "\n",
       "### ⚓ Analiza portów zaokrętowania (wszyscy pasażerowie)\n",
       "\n",
       "Liczba pasażerów zaokrętowanych w poszczególnych portach:\n",
       "\n",
       "| embarked   |   count |\n",
       "|:-----------|--------:|\n",
       "| S          |     914 |\n",
       "| C          |     270 |\n",
       "| Q          |     123 |\n",
       "\n",
       "**Najczęściej występujący port:** `S`\n"
      ],
      "text/plain": [
       "<IPython.core.display.Markdown object>"
      ]
     },
     "execution_count": 30,
     "metadata": {},
     "output_type": "execute_result"
    }
   ],
   "source": [
    "from IPython.display import Markdown\n",
    "\n",
    "# Wystąpienia wartości w kolumnie 'embarked'\n",
    "common_ports = df_copy['embarked'].value_counts()\n",
    "\n",
    "# Najczęściej występujący port\n",
    "most_common_port = common_ports.idxmax()\n",
    "\n",
    "# Tworzymy tekst Markdown\n",
    "text = f\"\"\"\n",
    "### ⚓ Analiza portów zaokrętowania (wszyscy pasażerowie)\n",
    "\n",
    "Liczba pasażerów zaokrętowanych w poszczególnych portach:\n",
    "\n",
    "{common_ports.to_frame().to_markdown()}\n",
    "\n",
    "**Najczęściej występujący port:** `{most_common_port}`\n",
    "\"\"\"\n",
    "\n",
    "Markdown(text)\n"
   ]
  },
  {
   "cell_type": "markdown",
   "metadata": {},
   "source": [
    "Najwięcej pasażerów wsiadło w porcie Southampton, na tej podstawie można założyć że 2 brakujące wartoście w embarked można wypełnić nazwą portu S"
   ]
  },
  {
   "cell_type": "markdown",
   "metadata": {},
   "source": [
    "Obie pasażerki było posiadaczkami biletów 1 klasy. Co prowadzi nas do spwawdzenie w kórym portcie wsiadło najwięcej pasażerów z 1 klasy"
   ]
  },
  {
   "cell_type": "code",
   "execution_count": 31,
   "metadata": {},
   "outputs": [
    {
     "data": {
      "text/markdown": [
       "\n",
       "### 🚢 Analiza pasażerów 1 klasy według portu\n",
       "\n",
       "Liczba pasażerów 1 klasy w zależności od portu zaokrętowania:\n",
       "\n",
       "| embarked   |   count |\n",
       "|:-----------|--------:|\n",
       "| S          |     177 |\n",
       "| C          |     141 |\n",
       "| Q          |       3 |\n",
       "\n",
       "**Port z największą liczbą pasażerów 1 klasy:** `S`\n"
      ],
      "text/plain": [
       "<IPython.core.display.Markdown object>"
      ]
     },
     "execution_count": 31,
     "metadata": {},
     "output_type": "execute_result"
    }
   ],
   "source": [
    "from IPython.display import Markdown\n",
    "\n",
    "# Filtrujemy DataFrame, aby uzyskać tylko pasażerów z 1 klasy\n",
    "first_class_passengers = df_copy[df_copy['pclass'] == 1]\n",
    "\n",
    "# Grupujemy według kolumny 'embarked' i liczymy liczbę pasażerów\n",
    "passengers_per_port = first_class_passengers['embarked'].value_counts()\n",
    "\n",
    "# Najczęściej występujący port\n",
    "most_passengers_port = passengers_per_port.idxmax()\n",
    "\n",
    "# Tworzymy tekst Markdown\n",
    "text = f\"\"\"\n",
    "### 🚢 Analiza pasażerów 1 klasy według portu\n",
    "\n",
    "Liczba pasażerów 1 klasy w zależności od portu zaokrętowania:\n",
    "\n",
    "{passengers_per_port.to_frame().to_markdown()}\n",
    "\n",
    "**Port z największą liczbą pasażerów 1 klasy:** `{most_passengers_port}`\n",
    "\"\"\"\n",
    "\n",
    "Markdown(text)\n",
    "\n"
   ]
  },
  {
   "cell_type": "markdown",
   "metadata": {},
   "source": [
    "Najwięcej pasażerów 1 klasy wsiadło w porcie Southampton, na tej podstawie można założyć że 2 brakujące wartoście w embarked można wypełnić nazwą portu \"Southampton\""
   ]
  },
  {
   "cell_type": "code",
   "execution_count": 32,
   "metadata": {},
   "outputs": [],
   "source": [
    "df_copy['embarked'] = df_copy['embarked'].fillna('Southampton')\n",
    "# df_copy.isna().sum()"
   ]
  },
  {
   "cell_type": "markdown",
   "metadata": {},
   "source": [
    "### 🛶 Analiza brakujących danych w **boat** - numerze łodzi ratunkowej"
   ]
  },
  {
   "cell_type": "code",
   "execution_count": 33,
   "metadata": {},
   "outputs": [
    {
     "data": {
      "text/html": [
       "<div>\n",
       "<style scoped>\n",
       "    .dataframe tbody tr th:only-of-type {\n",
       "        vertical-align: middle;\n",
       "    }\n",
       "\n",
       "    .dataframe tbody tr th {\n",
       "        vertical-align: top;\n",
       "    }\n",
       "\n",
       "    .dataframe thead th {\n",
       "        text-align: right;\n",
       "    }\n",
       "</style>\n",
       "<table border=\"1\" class=\"dataframe\">\n",
       "  <thead>\n",
       "    <tr style=\"text-align: right;\">\n",
       "      <th></th>\n",
       "      <th>Column</th>\n",
       "      <th>Data Type</th>\n",
       "      <th>Total Rows</th>\n",
       "      <th>Non-Null</th>\n",
       "      <th>Nulls</th>\n",
       "      <th>Null %</th>\n",
       "    </tr>\n",
       "  </thead>\n",
       "  <tbody>\n",
       "    <tr>\n",
       "      <th>0</th>\n",
       "      <td>boat</td>\n",
       "      <td>object</td>\n",
       "      <td>1309</td>\n",
       "      <td>486</td>\n",
       "      <td>823</td>\n",
       "      <td>62.87</td>\n",
       "    </tr>\n",
       "  </tbody>\n",
       "</table>\n",
       "</div>"
      ],
      "text/plain": [
       "  Column Data Type  Total Rows  Non-Null  Nulls  Null %\n",
       "0   boat    object        1309       486    823   62.87"
      ]
     },
     "execution_count": 33,
     "metadata": {},
     "output_type": "execute_result"
    }
   ],
   "source": [
    "col = 'boat'\n",
    "total = len(df_copy)\n",
    "non_null = df_copy[col].notnull().sum()\n",
    "nulls = total - non_null\n",
    "dtype = df_copy[col].dtype\n",
    "\n",
    "pd.DataFrame({\n",
    "    'Column': [col],\n",
    "    'Data Type': [dtype],\n",
    "    'Total Rows': [total],\n",
    "    'Non-Null': [non_null],\n",
    "    'Nulls': [nulls],\n",
    "    'Null %': [round(nulls / total * 100, 2)],\n",
    "})"
   ]
  },
  {
   "cell_type": "markdown",
   "metadata": {},
   "source": [
    "#### Na podstawie informacji o kolumnie 'boat':\n",
    "- Widzimy że zawierają się w niej dane tekstowe.\n",
    "- Uważam że numer łodzi jest mało istotny.\n",
    "- najlepiej zastąpić je \"Unkown\"\n",
    "<!-- - nie mam pomysłu co z tym zrobić poza usunieciem lub zastąpieniem stringirm -->"
   ]
  },
  {
   "cell_type": "markdown",
   "metadata": {},
   "source": [
    "#### Zastąpienie NAN stringiem 'Unkown'"
   ]
  },
  {
   "cell_type": "code",
   "execution_count": 34,
   "metadata": {},
   "outputs": [],
   "source": [
    "df_copy['boat'] = df_copy['boat'].fillna('Unkonwn')"
   ]
  },
  {
   "cell_type": "markdown",
   "metadata": {},
   "source": [
    "### Analiza brakujących danych w **home.dest** - destynacji pasarzerów\n",
    "Analogicznie zastąpienie wartości brakujących tym razem \"Dest. unkonw\"."
   ]
  },
  {
   "cell_type": "code",
   "execution_count": 35,
   "metadata": {},
   "outputs": [],
   "source": [
    "df_copy['home.dest'] = df_copy['home.dest'].fillna('Dest. unkown')"
   ]
  },
  {
   "cell_type": "markdown",
   "metadata": {},
   "source": [
    "### Analiza kolumny **body** - numer odnalezionego ciała"
   ]
  },
  {
   "cell_type": "code",
   "execution_count": 36,
   "metadata": {},
   "outputs": [
    {
     "name": "stdout",
     "output_type": "stream",
     "text": [
      "<class 'pandas.core.series.Series'>\n",
      "Index: 1309 entries, 0 to 1308\n",
      "Series name: body\n",
      "Non-Null Count  Dtype  \n",
      "--------------  -----  \n",
      "121 non-null    float64\n",
      "dtypes: float64(1)\n",
      "memory usage: 20.5 KB\n"
     ]
    }
   ],
   "source": [
    "survive_pass = df_copy[df_copy['survived'] == 1]\n",
    "df_copy['body'].info()"
   ]
  },
  {
   "cell_type": "markdown",
   "metadata": {},
   "source": [
    "#### Wszyskie rzędy w kolumnie **body** są liczbami zmienno przecinkowymi"
   ]
  },
  {
   "cell_type": "code",
   "execution_count": 37,
   "metadata": {},
   "outputs": [
    {
     "data": {
      "text/markdown": [
       "✅ Nie ma wierszy, w których:\n",
       "\n",
       "- `survived` jest równy **1** (pasażer przeżył) oraz\n",
       "- kolumna `body` zawiera wartość inną niż NaN."
      ],
      "text/plain": [
       "<IPython.core.display.Markdown object>"
      ]
     },
     "execution_count": 37,
     "metadata": {},
     "output_type": "execute_result"
    }
   ],
   "source": [
    "from IPython.display import Markdown\n",
    "\n",
    "exists_conflict = df_copy[(df_copy['survived'] == 1) & (df_copy['body'].notna())].shape[0] > 0\n",
    "\n",
    "if exists_conflict:\n",
    "    text = (\n",
    "        \"**⚠️ Uwaga!**\\n\\n\"\n",
    "        \"Istnieje co najmniej jeden wiersz, w którym:\\n\\n\"\n",
    "        \"- `survived` jest równy **1** (pasażer przeżył) oraz\\n\"\n",
    "        \"- kolumna `body` zawiera **nie-NaN** wartość.\\n\\n\"\n",
    "        \"To może wskazywać na konflikt w danych.\"\n",
    "    )\n",
    "else:\n",
    "    text = (\n",
    "        \"✅ Nie ma wierszy, w których:\\n\\n\"\n",
    "        \"- `survived` jest równy **1** (pasażer przeżył) oraz\\n\"\n",
    "        \"- kolumna `body` zawiera wartość inną niż NaN.\"\n",
    "    )\n",
    "\n",
    "Markdown(text)\n"
   ]
  },
  {
   "cell_type": "markdown",
   "metadata": {},
   "source": [
    "Nie ma wiersza zawierającego konflikt logiczny że pasażer przeżył i jednocześnie posiada numer ciała"
   ]
  },
  {
   "cell_type": "markdown",
   "metadata": {},
   "source": [
    "Postanowiłem nadać każedmu nieodnalezionemu wartość liczbową \"0\".\n",
    "Są to wartości numeryczne. działając na liczbach moża wyciągnąć jakieś wnioski w przyszłości."
   ]
  },
  {
   "cell_type": "code",
   "execution_count": 38,
   "metadata": {},
   "outputs": [],
   "source": [
    "df_copy['body'] = df_copy['body'].fillna(0)\n",
    "# df_copy.isna().sum()"
   ]
  },
  {
   "cell_type": "code",
   "execution_count": 39,
   "metadata": {},
   "outputs": [
    {
     "data": {
      "text/html": [
       "<div>\n",
       "<style scoped>\n",
       "    .dataframe tbody tr th:only-of-type {\n",
       "        vertical-align: middle;\n",
       "    }\n",
       "\n",
       "    .dataframe tbody tr th {\n",
       "        vertical-align: top;\n",
       "    }\n",
       "\n",
       "    .dataframe thead th {\n",
       "        text-align: right;\n",
       "    }\n",
       "</style>\n",
       "<table border=\"1\" class=\"dataframe\">\n",
       "  <thead>\n",
       "    <tr style=\"text-align: right;\">\n",
       "      <th></th>\n",
       "      <th>Column</th>\n",
       "      <th>Missing Values</th>\n",
       "    </tr>\n",
       "  </thead>\n",
       "  <tbody>\n",
       "    <tr>\n",
       "      <th>0</th>\n",
       "      <td>pclass</td>\n",
       "      <td>0</td>\n",
       "    </tr>\n",
       "    <tr>\n",
       "      <th>1</th>\n",
       "      <td>survived</td>\n",
       "      <td>0</td>\n",
       "    </tr>\n",
       "    <tr>\n",
       "      <th>2</th>\n",
       "      <td>name</td>\n",
       "      <td>0</td>\n",
       "    </tr>\n",
       "    <tr>\n",
       "      <th>3</th>\n",
       "      <td>sex</td>\n",
       "      <td>0</td>\n",
       "    </tr>\n",
       "    <tr>\n",
       "      <th>4</th>\n",
       "      <td>age</td>\n",
       "      <td>0</td>\n",
       "    </tr>\n",
       "    <tr>\n",
       "      <th>5</th>\n",
       "      <td>sibsp</td>\n",
       "      <td>0</td>\n",
       "    </tr>\n",
       "    <tr>\n",
       "      <th>6</th>\n",
       "      <td>parch</td>\n",
       "      <td>0</td>\n",
       "    </tr>\n",
       "    <tr>\n",
       "      <th>7</th>\n",
       "      <td>ticket</td>\n",
       "      <td>0</td>\n",
       "    </tr>\n",
       "    <tr>\n",
       "      <th>8</th>\n",
       "      <td>fare</td>\n",
       "      <td>0</td>\n",
       "    </tr>\n",
       "    <tr>\n",
       "      <th>9</th>\n",
       "      <td>cabin</td>\n",
       "      <td>0</td>\n",
       "    </tr>\n",
       "    <tr>\n",
       "      <th>10</th>\n",
       "      <td>embarked</td>\n",
       "      <td>0</td>\n",
       "    </tr>\n",
       "    <tr>\n",
       "      <th>11</th>\n",
       "      <td>boat</td>\n",
       "      <td>0</td>\n",
       "    </tr>\n",
       "    <tr>\n",
       "      <th>12</th>\n",
       "      <td>body</td>\n",
       "      <td>0</td>\n",
       "    </tr>\n",
       "    <tr>\n",
       "      <th>13</th>\n",
       "      <td>home.dest</td>\n",
       "      <td>0</td>\n",
       "    </tr>\n",
       "  </tbody>\n",
       "</table>\n",
       "</div>"
      ],
      "text/plain": [
       "       Column  Missing Values\n",
       "0      pclass               0\n",
       "1    survived               0\n",
       "2        name               0\n",
       "3         sex               0\n",
       "4         age               0\n",
       "5       sibsp               0\n",
       "6       parch               0\n",
       "7      ticket               0\n",
       "8        fare               0\n",
       "9       cabin               0\n",
       "10   embarked               0\n",
       "11       boat               0\n",
       "12       body               0\n",
       "13  home.dest               0"
      ]
     },
     "execution_count": 39,
     "metadata": {},
     "output_type": "execute_result"
    }
   ],
   "source": [
    "missing_values_copy = df_copy.isnull().sum()\n",
    "\n",
    "missing_df_copy = pd.DataFrame({\n",
    "    'Column': missing_values_copy.index,\n",
    "    'Missing Values': missing_values_copy.values\n",
    "})\n",
    "\n",
    "missing_df_copy"
   ]
  },
  {
   "cell_type": "markdown",
   "metadata": {},
   "source": [
    "## ✅ Podumowanie Analizy brakujących wartości:\n",
    "1. Został usunięty wiersz, który nie posiadał żadnych wartości.\n",
    "2. Liczba wszystkich brakujących wartości wynosiła: **3869**\n",
    "3. Brakujące wartości w kolumnie **age** w liczbie: 263 - zostały zastąpione średnią\n",
    "4. Brakująca jedna dana w kolumnie **fare** (Cena biletu), dotyczyła 1 biletu z 3 klasy została zastąpiona średniąz biledów 3 klasy\n",
    "5. Brakujące numery kabin w kolumnie **cabin** w liczbie: 1014 - zostały zastąpione wartością \"Unknow\" ponieważ numery kabin były stringami.\n",
    "6. W klasie 2 i 3 nie było żadnych danych dotyczących numerów kabin\n",
    "7. Brakujące dane w ilości 2 w kolumnie **embarked** (Port, w którym pasażer wszedł na pokład) - została zastąpiona najczęściej używanym do tego celu porcie S, zarówno dla wszyskich pasażerów jak i dla posiadaczy 1 klasy, które posiadały osoby z brakującymi danymi.\n",
    "8. Brakujące dane w **boat** (numerze łodzi ratunkowej) - również zostały zastąpione warością \"Unkown\"\n",
    "9. Brakujące wartości w kolumnie **body** (numer odnalezionego ciała) - jako liczby float64 zostały zastąpione wartością liczbową \"0\"\n",
    "10. Brak duplikatów"
   ]
  },
  {
   "cell_type": "markdown",
   "metadata": {},
   "source": [
    "# KROK 📍 3: Analiza pojedyńczych zmiennych"
   ]
  },
  {
   "cell_type": "markdown",
   "metadata": {},
   "source": [
    "Kopiowanie **df_copy** pod nazwą **df_eda** dla analizy poszczególnych kolumn."
   ]
  },
  {
   "cell_type": "code",
   "execution_count": 40,
   "metadata": {},
   "outputs": [],
   "source": [
    "df_eda = df_copy.copy()\n",
    "# df_eda"
   ]
  },
  {
   "cell_type": "markdown",
   "metadata": {},
   "source": [
    "## ⚰️ Analiza zgonów"
   ]
  },
  {
   "cell_type": "code",
   "execution_count": 41,
   "metadata": {},
   "outputs": [
    {
     "data": {
      "text/markdown": [
       "#### Całkowita liczba pasażerów: 1309  \n",
       "#### Całkowita liczba zgonów: 809  \n",
       "#### Całkowity procent zgonów: 61.8%"
      ],
      "text/plain": [
       "<IPython.core.display.Markdown object>"
      ]
     },
     "execution_count": 41,
     "metadata": {},
     "output_type": "execute_result"
    }
   ],
   "source": [
    "# Liczba wszyskich pasażerów\n",
    "num_of_passengers = df_eda.shape[0]\n",
    "num_of_passengers_deaths = (df_eda['survived'] == 0 ).sum()\n",
    "percent_of_total_death = ((num_of_passengers_deaths*100)/num_of_passengers).round(2)\n",
    "\n",
    "Markdown(f'#### Całkowita liczba pasażerów: {num_of_passengers}  \\n#### Całkowita liczba zgonów: {num_of_passengers_deaths}  \\n#### Całkowity procent zgonów: {percent_of_total_death}%')\n"
   ]
  },
  {
   "cell_type": "code",
   "execution_count": 42,
   "metadata": {},
   "outputs": [
    {
     "data": {
      "image/png": "[encoded data removed]",
      "text/plain": [
       "<Figure size 640x480 with 1 Axes>"
      ]
     },
     "metadata": {},
     "output_type": "display_data"
    }
   ],
   "source": [
    "labels_t = ['Liczba pasażerów na pokładzie', 'Zgony pasażerów']\n",
    "values_t = [num_of_passengers, num_of_passengers_deaths]\n",
    "\n",
    "#procentowy udział zgonów Kobiet\n",
    "#percent_of_total_death = ((num_of_passengers_deaths*100)/num_of_passengers).round(2)\n",
    "\n",
    "fig, ax = plt.subplots()\n",
    "bars = ax.bar(labels_t, values_t, color=['white', 'white'], width=1)\n",
    "\n",
    "# Tworzenie wykresu słupkowego z szerokością słupków ustawioną na 1 (dotykające się słupki)\n",
    "for bar in bars:\n",
    "    yval = bar.get_height()  # wysokość słupka (wartość)\n",
    "    if bar.get_x() == bars[1].get_x():  # Sprawdzenie, czy to słupek ze zgonami\n",
    "        ax.text(bar.get_x() + bar.get_width()/2, yval/2, f'{int(yval)}\\n({percent_of_total_death:.2f}%)', \n",
    "                ha='center', va='center', color='white', fontsize=16)\n",
    "    else:  # Słupek dla ogólnej liczby Kobiet\n",
    "        ax.text(bar.get_x() + bar.get_width()/2, yval/2, f'{int(yval)}', ha='center', va='center', color='white', fontsize=16)\n",
    "\n",
    "\n",
    "# Tworzenie wykresu słupkowego\n",
    "plt.bar(labels_t, values_t, color=['blue', 'red'])\n",
    "#plt.xlabel('Category')\n",
    "plt.ylabel('Liczba')\n",
    "plt.title('Porównanie całkowitej liczby pasażeró do Ich zgonów')\n",
    "plt.show()"
   ]
  },
  {
   "cell_type": "markdown",
   "metadata": {},
   "source": [
    "## Analiza zgonów podług płci"
   ]
  },
  {
   "cell_type": "code",
   "execution_count": 43,
   "metadata": {},
   "outputs": [
    {
     "data": {
      "text/markdown": [
       "\n",
       "### 🚻 Ilość mężczyzn i kobiet na pokładzie\n",
       "\n",
       "| sex    |   count |\n",
       "|:-------|--------:|\n",
       "| male   |     843 |\n",
       "| female |     466 |\n"
      ],
      "text/plain": [
       "<IPython.core.display.Markdown object>"
      ]
     },
     "execution_count": 43,
     "metadata": {},
     "output_type": "execute_result"
    }
   ],
   "source": [
    "num_of_m_f = df_eda['sex'].value_counts()\n",
    "\n",
    "Markdown(f\"\"\"\n",
    "### 🚻 Ilość mężczyzn i kobiet na pokładzie\n",
    "\n",
    "{num_of_m_f.to_frame().to_markdown()}\n",
    "\"\"\")"
   ]
  },
  {
   "cell_type": "markdown",
   "metadata": {},
   "source": [
    "### Zgony  mężczyzn"
   ]
  },
  {
   "cell_type": "code",
   "execution_count": 44,
   "metadata": {},
   "outputs": [
    {
     "data": {
      "text/markdown": [
       "\n",
       "### 👨 Statystyki dotyczące mężczyzn na pokładzie\n",
       "\n",
       "- Procent mężczyzn w populacji pasażerów: **64.4%**  \n",
       "- Całkowita liczba mężczyzn na pokładzie: **843**  \n",
       "- Liczba zgonów mężczyzn: **682**  \n",
       "- Zginęło **80.9%** mężczyzn\n"
      ],
      "text/plain": [
       "<IPython.core.display.Markdown object>"
      ]
     },
     "execution_count": 44,
     "metadata": {},
     "output_type": "execute_result"
    }
   ],
   "source": [
    "#ilości mężczyzn i kobiet\n",
    "idxmax_num_of_m_f = num_of_m_f.idxmax()\n",
    "\n",
    "#liczba mężczyzn na pokładzie\n",
    "men_in_total = df_eda[(df_eda['sex'] == 'male')].value_counts().sum()\n",
    "#liczba % mężczyzn w populacji pasażerów\n",
    "percent_of_men = ((men_in_total*100) / num_of_passengers).round(2)\n",
    "#liczba śmierci mężczyzn\n",
    "death_of_men = df_eda[(df_eda['sex'] == 'male') & (df_eda['survived'] == 0)].value_counts().sum()\n",
    "#procent jaki stanową zmarli mężczyźni\n",
    "percent_of_men_death = ((death_of_men*100)/men_in_total).round(2)\n",
    "text = f\"\"\"\n",
    "### 👨 Statystyki dotyczące mężczyzn na pokładzie\n",
    "\n",
    "- Procent mężczyzn w populacji pasażerów: **{percent_of_men}%**  \n",
    "- Całkowita liczba mężczyzn na pokładzie: **{men_in_total}**  \n",
    "- Liczba zgonów mężczyzn: **{death_of_men}**  \n",
    "- Zginęło **{percent_of_men_death}%** mężczyzn\n",
    "\"\"\"\n",
    "\n",
    "Markdown(text)"
   ]
  },
  {
   "cell_type": "markdown",
   "metadata": {},
   "source": [
    "### Zgony kobiet"
   ]
  },
  {
   "cell_type": "code",
   "execution_count": 45,
   "metadata": {},
   "outputs": [
    {
     "data": {
      "text/markdown": [
       "\n",
       "### 👩 Statystyki dotyczące kobiet na pokładzie\n",
       "\n",
       "- Całkowita liczba kobiet na pokładzie: **466**  \n",
       "- Procent kobiet w populacji pasażerów: **35.6%**  \n",
       "- Liczba zgonów kobiet: **127**  \n",
       "- Zginęło: **27.25%** kobiet\n"
      ],
      "text/plain": [
       "<IPython.core.display.Markdown object>"
      ]
     },
     "execution_count": 45,
     "metadata": {},
     "output_type": "execute_result"
    }
   ],
   "source": [
    "women_in_total = df_eda[(df_eda['sex'] == 'female')].value_counts().sum()\n",
    "#liczba śmierci mężczyzn\n",
    "death_of_women = df_eda[(df_eda['sex'] == 'female') & (df_eda['survived'] == 0)].value_counts().sum()\n",
    "#liczba % mężczyzn w populacji pasażerów\n",
    "percent_of_women = ((women_in_total*100) / num_of_passengers).round(2)\n",
    "#procent jaki stanową zmarli mężczyźni\n",
    "percent_of_women_death = ((death_of_women*100)/women_in_total).round(2)\n",
    "text = f\"\"\"\n",
    "### 👩 Statystyki dotyczące kobiet na pokładzie\n",
    "\n",
    "- Całkowita liczba kobiet na pokładzie: **{women_in_total}**  \n",
    "- Procent kobiet w populacji pasażerów: **{percent_of_women}%**  \n",
    "- Liczba zgonów kobiet: **{death_of_women}**  \n",
    "- Zginęło: **{percent_of_women_death}%** kobiet\n",
    "\"\"\"\n",
    "\n",
    "Markdown(text)"
   ]
  },
  {
   "cell_type": "markdown",
   "metadata": {},
   "source": [
    "## Wykres liczby pasażerów i zgonów podług płci"
   ]
  },
  {
   "cell_type": "code",
   "execution_count": 46,
   "metadata": {},
   "outputs": [
    {
     "data": {
      "image/png": "[encoded data removed]",
      "text/plain": [
       "<Figure size 1000x600 with 2 Axes>"
      ]
     },
     "metadata": {},
     "output_type": "display_data"
    }
   ],
   "source": [
    "def plot_gender_bars(ax, gender_label, total, deaths, death_percent):\n",
    "    labels = [f'Liczba {gender_label}', f'Zgony {gender_label}']\n",
    "    values = [total, deaths]\n",
    "    colors = ['blue', 'red']\n",
    "\n",
    "    bars = ax.bar(labels, values, color=colors)\n",
    "    for i, bar in enumerate(bars):\n",
    "        yval = bar.get_height()\n",
    "        if i == 1:  # drugi słupek - zgony\n",
    "            ax.text(bar.get_x() + bar.get_width()/2, yval/2,\n",
    "                    f'{int(yval)}\\n({death_percent:.2f}%)',\n",
    "                    ha='center', va='center', color='white', fontsize=12)\n",
    "        else:\n",
    "            ax.text(bar.get_x() + bar.get_width()/2, yval/2,\n",
    "                    f'{int(yval)}',\n",
    "                    ha='center', va='center', color='white', fontsize=12)\n",
    "    ax.set_title(gender_label)\n",
    "    ax.set_ylabel('Liczba')\n",
    "\n",
    "# Dane\n",
    "percent_death_of_men = (death_of_men / men_in_total) * 100\n",
    "percent_of_women_death = (death_of_women / women_in_total) * 100\n",
    "\n",
    "fig, ax = plt.subplots(1, 2, figsize=(10, 6), sharey=True)\n",
    "\n",
    "plot_gender_bars(ax[0], 'Mężczyźni', men_in_total, death_of_men, percent_death_of_men)\n",
    "plot_gender_bars(ax[1], 'Kobiety', women_in_total, death_of_women, percent_of_women_death)\n",
    "\n",
    "plt.suptitle('Porównanie liczby pasażerów i zgonów (Mężczyźni vs Kobiety)')\n",
    "plt.tight_layout(rect=[0, 0, 1, 0.95])  # żeby tytuł się nie zlewał z wykresem\n",
    "plt.show()\n"
   ]
  },
  {
   "cell_type": "markdown",
   "metadata": {},
   "source": [
    "### Ocenianie najstarszego, najmłodszego oraz średniej wieku pasażerów Titanic-a w celu ustanowienia przedziałów histogramu"
   ]
  },
  {
   "cell_type": "code",
   "execution_count": 47,
   "metadata": {},
   "outputs": [
    {
     "data": {
      "text/markdown": [
       "Najmłodszy pasażer: 0.17lat  \n",
       "Najstarszy pasażer: 80.0 lat  \n",
       "Średnia wieku pasażerów: 29.88"
      ],
      "text/plain": [
       "<IPython.core.display.Markdown object>"
      ]
     },
     "execution_count": 47,
     "metadata": {},
     "output_type": "execute_result"
    }
   ],
   "source": [
    "age_estymate_min_max = df_eda['age'].agg(['min', 'max']).round(2)\n",
    "age_estymate_mean = df_eda['age'].mean().round(2)\n",
    "Markdown(f\"Najmłodszy pasażer: {age_estymate_min_max['min']}lat  \\nNajstarszy pasażer: {age_estymate_min_max['max']} lat  \\nŚrednia wieku pasażerów: {age_estymate_mean}\")"
   ]
  },
  {
   "cell_type": "markdown",
   "metadata": {},
   "source": [
    "### Histogram dla liczby ocalałych oraz osób, które zginęły względem wieku"
   ]
  },
  {
   "cell_type": "code",
   "execution_count": 48,
   "metadata": {},
   "outputs": [
    {
     "data": {
      "image/png": "[encoded data removed]",
      "text/plain": [
       "<Figure size 1400x600 with 2 Axes>"
      ]
     },
     "metadata": {},
     "output_type": "display_data"
    }
   ],
   "source": [
    "def plot_age_histogram(ax, data, title):\n",
    "    data_clean = data.dropna()\n",
    "    mean_age = data_clean.mean()\n",
    "    median_age = data_clean.median()\n",
    "    std_age = data_clean.std()\n",
    "\n",
    "    max_age = int(np.ceil(data_clean.max()))\n",
    "    bins = range(0, max_age + 5, 5)\n",
    "\n",
    "    # Histogram\n",
    "    ax.hist(data_clean, bins=bins, density=True, edgecolor='black', alpha=0.7, color='skyblue' if title == 'Osoby, które przeżyły' else 'lightcoral')\n",
    "\n",
    "    # Rozkład normalny\n",
    "    x = np.linspace(0, max_age + 5, 100)\n",
    "    p = norm.pdf(x, mean_age, std_age)\n",
    "    ax.plot(x, p, 'k', linewidth=2, label='Rozkład normalny')\n",
    "\n",
    "    # Linie średniej i mediany\n",
    "    ax.axvline(mean_age, color='red', linestyle='dashed', linewidth=2, label=f'Średnia: {mean_age:.2f}')\n",
    "    ax.axvline(median_age, color='green', linestyle='dashed', linewidth=2, label=f'Mediana: {median_age:.2f}')\n",
    "\n",
    "    ax.set_xlabel('Wiek')\n",
    "    ax.set_ylabel('Gęstość')\n",
    "    ax.set_title(title)\n",
    "    ax.legend()\n",
    "\n",
    "# Filtrujemy dane\n",
    "survived = df_eda[df_eda['survived'] == 1]['age']\n",
    "not_survived = df_eda[df_eda['survived'] == 0]['age']\n",
    "\n",
    "fig, ax = plt.subplots(1, 2, figsize=(14, 6), sharey=True)\n",
    "\n",
    "plot_age_histogram(ax[0], survived, 'Osoby, które przeżyły')\n",
    "plot_age_histogram(ax[1], not_survived, 'Osoby, które nie przeżyły')\n",
    "\n",
    "plt.suptitle('Histogram wieku z rozkładem normalnym dla osób, które przeżyły i nie przeżyły')\n",
    "plt.tight_layout(rect=[0, 0, 1, 0.95])\n",
    "plt.show()\n"
   ]
  },
  {
   "cell_type": "code",
   "execution_count": 49,
   "metadata": {
    "scrolled": true
   },
   "outputs": [
    {
     "data": {
      "text/markdown": [
       "Odchylenie standardowe dla osób, które przeżyły: 13.92  \n",
       "Odchylenie standardowe dla osób, któe nie przeżyły: 12.18"
      ],
      "text/plain": [
       "<IPython.core.display.Markdown object>"
      ]
     },
     "execution_count": 49,
     "metadata": {},
     "output_type": "execute_result"
    }
   ],
   "source": [
    "std_age_survived = df_eda[df_eda['survived'] == 1]['age'].std()\n",
    "std_age_survived_rounded = round(std_age_survived, 2)\n",
    "std_age_not_survived = df_eda[df_eda['survived'] == 0]['age'].std()\n",
    "std_age_not_survived_rounded = round(std_age_not_survived, 2)\n",
    "Markdown(f'Odchylenie standardowe dla osób, które przeżyły: {std_age_survived_rounded}  \\nOdchylenie standardowe dla osób, któe nie przeżyły: {std_age_not_survived_rounded}')"
   ]
  },
  {
   "cell_type": "code",
   "execution_count": 50,
   "metadata": {},
   "outputs": [
    {
     "data": {
      "text/markdown": [
       "\n",
       "**Liczba dzieci poniżej 10 roku życia:** 82  \n",
       "**Liczba dzieci poniżej 10 które przeżyły:** 50.0  \n",
       "**Procent dzieci poniżej 10 które przeżyły:** 60.98%\n"
      ],
      "text/plain": [
       "<IPython.core.display.Markdown object>"
      ]
     },
     "execution_count": 50,
     "metadata": {},
     "output_type": "execute_result"
    }
   ],
   "source": [
    "# Filtrowanie dzieci, które mają mniej niż 10 lat\n",
    "children = df_eda[df_eda['age'] < 10]\n",
    "\n",
    "# Liczba dzieci poniżej 10 roku życia\n",
    "total_children = len(children)\n",
    "\n",
    "# Liczba dzieci, które przeżyły\n",
    "survived_children = children['survived'].sum()  # Suma wartości 1 w kolumnie 'survived'\n",
    "\n",
    "# Obliczenie procentu dzieci, które przeżyły\n",
    "if total_children > 0:  # Sprawdzenie, czy są jakiekolwiek dzieci w tym wieku\n",
    "    survival_rate = (survived_children / total_children) * 100  # Obliczanie procentu\n",
    "else:\n",
    "    survival_rate = 0  # Jeśli nie ma dzieci, procent przeżycia wynosi 0%\n",
    "\n",
    "# Wyświetlenie wyników\n",
    "Markdown(f\"\"\"\n",
    "**Liczba dzieci poniżej 10 roku życia:** {total_children}  \n",
    "**Liczba dzieci poniżej 10 które przeżyły:** {survived_children}  \n",
    "**Procent dzieci poniżej 10 które przeżyły:** {survival_rate:.2f}%\n",
    "\"\"\")\n"
   ]
  },
  {
   "cell_type": "markdown",
   "metadata": {},
   "source": [
    "### Widzimy że wykresy są do siebie dość podobne, również odchylenia standardowe nie są zbyt różniące się od siebie.\n",
    "- Może to oznaczać że katastrofa dotykała wszystkich równomiernie niezależnie od wieku\n",
    "- Rzucającą się różnicą jest oczywiście liczba najmądszych pasażerów do 10 lat, która jest znacząco większa po stronie osób, które przeżyły. Oraz przedział wiekowy 25 - 30 lat. Po obu stronach najwięszy.\n",
    "- W obu przypadkach można zauważyć tendencję spadkową obu wykresów dla zakresu wiekowego od 30 lat.\n",
    "- Wykres dla osób, które przeżyły posiada **asymetrię lewostronnę** (kilka mniejszych wartości ściąga średnią w dół) - duży odsetek dzieci, które zostały uratowa oraz słupek wiekowy 40-45, wyraźnie niższy\n",
    "- Wykres dla osób, które nie przezyły posiada **asymetrię prawostronnę** - słupek wiekowy 40-45 dużo wyższy przez słupki na prawo od meidany układają się bardziej głatko.\n",
    "- Procent dzieci do 10 roku życia, które przeżyły wynisł 58.14%"
   ]
  },
  {
   "cell_type": "markdown",
   "metadata": {},
   "source": [
    "### Histogram dla liczby ocalałych oraz osób, które zginęły względem wieku Do 20 lat"
   ]
  },
  {
   "cell_type": "code",
   "execution_count": 51,
   "metadata": {},
   "outputs": [
    {
     "data": {
      "image/png": "[encoded data removed]",
      "text/plain": [
       "<Figure size 1200x500 with 2 Axes>"
      ]
     },
     "metadata": {},
     "output_type": "display_data"
    },
    {
     "data": {
      "text/markdown": [
       "\n",
       "### Statystyki wieku pasażerów do 20 lat\n",
       "\n",
       "#### Osoby, które przeżyły:\n",
       "- Średnia wieku: **11.14**\n",
       "- Mediana wieku: **13.50**\n",
       "\n",
       "#### Osoby, które nie przeżyły:\n",
       "- Średnia wieku: **14.18**\n",
       "- Mediana wieku: **17.00**\n"
      ],
      "text/plain": [
       "<IPython.core.display.Markdown object>"
      ]
     },
     "execution_count": 51,
     "metadata": {},
     "output_type": "execute_result"
    }
   ],
   "source": [
    "# Filtracja dla osób do 20 lat\n",
    "df_under_20 = df_eda[df_eda['age'] <= 20]\n",
    "\n",
    "# Podział na przeżyli / nie przeżyli\n",
    "survived_u20 = df_under_20[df_under_20['survived'] == 1]\n",
    "not_survived_u20 = df_under_20[df_under_20['survived'] == 0]\n",
    "\n",
    "# Statystyki dla przeżyłych\n",
    "mean_survived = survived_u20['age'].mean()\n",
    "median_survived = survived_u20['age'].median()\n",
    "\n",
    "# Statystyki dla nieprzeżyłych\n",
    "mean_not_survived = not_survived_u20['age'].mean()\n",
    "median_not_survived = not_survived_u20['age'].median()\n",
    "\n",
    "# Tworzenie wykresów\n",
    "plt.figure(figsize=(12\n",
    "                , 5))\n",
    "\n",
    "# Wykres: przeżyli\n",
    "plt.subplot(1, 2, 1)\n",
    "plt.hist(survived_u20['age'], bins=range(0, 21, 2), color='blue', alpha=0.7, edgecolor='black')\n",
    "plt.axvline(mean_survived, color='red', linestyle='dashed', linewidth=1, label=f'Średnia: {mean_survived:.2f}')\n",
    "plt.axvline(median_survived, color='green', linestyle='dashed', linewidth=1, label=f'Mediana: {median_survived:.2f}')\n",
    "plt.title('Histogram wieku (przeżyli)')\n",
    "plt.xlabel('Wiek')\n",
    "plt.ylabel('Liczba osób')\n",
    "plt.legend()\n",
    "\n",
    "# Wykres: nie przeżyli\n",
    "plt.subplot(1, 2, 2)\n",
    "plt.hist(not_survived_u20['age'], bins=range(0, 21, 2), color='orange', alpha=0.7, edgecolor='black')\n",
    "plt.axvline(mean_not_survived, color='red', linestyle='dashed', linewidth=1, label=f'Średnia: {mean_not_survived:.2f}')\n",
    "plt.axvline(median_not_survived, color='green', linestyle='dashed', linewidth=1, label=f'Mediana: {median_not_survived:.2f}')\n",
    "plt.title('Histogram wieku (nie przeżyli)')\n",
    "plt.xlabel('Wiek')\n",
    "plt.ylabel('Liczba osób')\n",
    "plt.legend()\n",
    "\n",
    "plt.tight_layout()\n",
    "plt.show()\n",
    "\n",
    "# Markdown podsumowujący\n",
    "Markdown(f\"\"\"\n",
    "### Statystyki wieku pasażerów do 20 lat\n",
    "\n",
    "#### Osoby, które przeżyły:\n",
    "- Średnia wieku: **{mean_survived:.2f}**\n",
    "- Mediana wieku: **{median_survived:.2f}**\n",
    "\n",
    "#### Osoby, które nie przeżyły:\n",
    "- Średnia wieku: **{mean_not_survived:.2f}**\n",
    "- Mediana wieku: **{median_not_survived:.2f}**\n",
    "\"\"\")\n"
   ]
  },
  {
   "cell_type": "markdown",
   "metadata": {},
   "source": [
    "- Wykres dla osób, które przeżyły posiada dla wieku do 20 lat **asymetrię lewostronnę**\n",
    "- Widać ewidętną różnicę."
   ]
  },
  {
   "cell_type": "markdown",
   "metadata": {},
   "source": [
    "### Wykres dla liczby ocalałych oraz osób, które zginęły pod względem klasy biletu"
   ]
  },
  {
   "cell_type": "code",
   "execution_count": 52,
   "metadata": {},
   "outputs": [
    {
     "data": {
      "image/png": "[encoded data removed]",
      "text/plain": [
       "<Figure size 1800x600 with 3 Axes>"
      ]
     },
     "metadata": {},
     "output_type": "display_data"
    }
   ],
   "source": [
    "fig, ax = plt.subplots(1, 3, figsize=(18, 6), sharey=True)\n",
    "\n",
    "# Iteracja przez klasy pclass\n",
    "for i, pclass in enumerate([1, 2, 3]):\n",
    "    # Filtrujemy dane dla danej klasy\n",
    "    class_data = df_eda[df_eda['pclass'] == pclass]\n",
    "    \n",
    "    # Obliczanie liczby ocalałych i zmarłych\n",
    "    survived_count = class_data[class_data['survived'] == 1].shape[0]\n",
    "    not_survived_count = class_data[class_data['survived'] == 0].shape[0]\n",
    "    total_passengers = class_data.shape[0]\n",
    "\n",
    "    # Przygotowanie danych do wykresu\n",
    "    labels = ['Ocaleni', 'Zmarli']\n",
    "    values = [survived_count, not_survived_count]\n",
    "    \n",
    "    # Tworzenie wykresu słupkowego\n",
    "    bars = ax[i].bar(labels, values, color=['blue', 'red'], edgecolor='black')\n",
    "    \n",
    "    # Dodanie tekstu na słupkach oraz procenty\n",
    "    for bar in bars:\n",
    "        yval = bar.get_height()\n",
    "        percentage = (yval / total_passengers) * 100  # Obliczanie procentu\n",
    "        ax[i].text(bar.get_x() + bar.get_width()/2, yval / 2, f'{percentage:.1f}%\\n populacji klasy', \n",
    "                    ha='center', va='center', color='white', fontsize=12, fontweight='bold')  # Ustawienie tekstu na środku słupka\n",
    "    \n",
    "    # Ustawienia wykresu\n",
    "    ax[i].set_title(f'Pclass {pclass}')\n",
    "    ax[i].set_ylabel('Liczba osób')\n",
    "    ax[i].set_ylim(0, total_passengers + 1)  # Ustawiamy oś Y\n",
    "    \n",
    "# Ustawienie tytułu ogólnego\n",
    "plt.suptitle('Porównanie liczby ocalałych i zmarłych w zależności od klasy biletu', fontsize=16)\n",
    "plt.tight_layout(rect=[0, 0, 1, 0.96])  # Dostosowujemy układ\n",
    "plt.show()"
   ]
  },
  {
   "cell_type": "markdown",
   "metadata": {},
   "source": [
    "### Analiza odnalezionych ciał"
   ]
  },
  {
   "cell_type": "code",
   "execution_count": 53,
   "metadata": {},
   "outputs": [
    {
     "data": {
      "text/markdown": [
       "\n",
       "### Statystyki dotyczące odnalezionych ciał\n",
       "\n",
       "- **Suma odnalezionych ciał:** 121\n",
       "- **Suma zaginionych ciał:** 1188\n",
       "\n",
       "#### Podział wg klasy biletu:\n",
       "- **I klasa:** 35\n",
       "- **II klasa:** 31\n",
       "- **III klasa:** 55\n",
       "\n",
       "#### Podział wg płci:\n",
       "- **Mężczyźni:** 113\n",
       "- **Kobiety:** 8\n",
       "\n",
       "#### Podział wg wieku:\n",
       "- **Poniżej 20 roku życia:** 13\n"
      ],
      "text/plain": [
       "<IPython.core.display.Markdown object>"
      ]
     },
     "execution_count": 53,
     "metadata": {},
     "output_type": "execute_result"
    }
   ],
   "source": [
    "#liczba odnalezionych wszyskich ciał\n",
    "sum_of_body = df_eda[df_eda['body'] != 0]['body'].count()\n",
    "#liczba nieodnalezionych ciał\n",
    "sum_of_body_missing = df_eda[df_eda['body'] ==0]['body'].count()\n",
    "#liczba odnalezionych ciał z 1 klasy\n",
    "sum_of_body_first_pclass = df_eda[(df_eda['body'] != 0) & (df_eda['pclass'] == 1)]['body'].count()\n",
    "#liczba odnalezionych ciał z 2 klasy\n",
    "sum_of_body_second_pclass = df_eda[(df_eda['body'] != 0) & (df_eda['pclass'] == 2)]['body'].count()\n",
    "#liczba odnalezionych ciał z 3 klasy\n",
    "sum_of_body_third_pclass = df_eda[(df_eda['body'] != 0) & (df_eda['pclass'] == 3)]['body'].count()\n",
    "#liczba odnalezionych ciał mężczyzn\n",
    "sum_of_body_male = df_eda[(df_eda['body'] != 0) & (df_eda['sex'] == 'male')]['body'].count()\n",
    "sum_of_body_female = df_eda[(df_eda['body'] != 0) & (df_eda['sex'] == 'female')]['body'].count()\n",
    "sum_of_body_children = df_eda[(df_eda['body'] != 0) & (df_eda['age'] < 20)]['body'].count()\n",
    "Markdown(f\"\"\"\n",
    "### Statystyki dotyczące odnalezionych ciał\n",
    "\n",
    "- **Suma odnalezionych ciał:** {sum_of_body}\n",
    "- **Suma zaginionych ciał:** {sum_of_body_missing}\n",
    "\n",
    "#### Podział wg klasy biletu:\n",
    "- **I klasa:** {sum_of_body_first_pclass}\n",
    "- **II klasa:** {sum_of_body_second_pclass}\n",
    "- **III klasa:** {sum_of_body_third_pclass}\n",
    "\n",
    "#### Podział wg płci:\n",
    "- **Mężczyźni:** {sum_of_body_male}\n",
    "- **Kobiety:** {sum_of_body_female}\n",
    "\n",
    "#### Podział wg wieku:\n",
    "- **Poniżej 20 roku życia:** {sum_of_body_children}\n",
    "\"\"\")"
   ]
  },
  {
   "cell_type": "markdown",
   "metadata": {},
   "source": [
    "## Odnalezione ciała względem klasy i płci (z wartościami procentowymi)"
   ]
  },
  {
   "cell_type": "code",
   "execution_count": 54,
   "metadata": {},
   "outputs": [
    {
     "data": {
      "image/png": "[encoded data removed]",
      "text/plain": [
       "<Figure size 1000x500 with 2 Axes>"
      ]
     },
     "metadata": {},
     "output_type": "display_data"
    }
   ],
   "source": [
    "# Dane dotyczące odnalezionych ciał względem klasy\n",
    "labels_class = ['1 klasa', '2 klasa', '3 klasa']\n",
    "values_class = [sum_of_body_first_pclass, sum_of_body_second_pclass, sum_of_body_third_pclass]\n",
    "\n",
    "# Dane dotyczące odnalezionych ciał względem płci\n",
    "labels_sex = ['Mężczyźni', 'Kobiety']\n",
    "values_sex = [sum_of_body_male, sum_of_body_female]\n",
    "\n",
    "# Łączna liczba odnalezionych ciał dla klas i płci\n",
    "total_bodies_class = sum_of_body_first_pclass + sum_of_body_second_pclass + sum_of_body_third_pclass\n",
    "total_bodies_sex = sum_of_body_male + sum_of_body_female\n",
    "\n",
    "# Tworzenie figure z dwoma wykresami obok siebie\n",
    "fig, ax = plt.subplots(1, 2, figsize=(10, 5))\n",
    "\n",
    "# Wykres 1: Odnalezione ciała względem klasy\n",
    "bars_class = ax[0].bar(labels_class, values_class, color=['blue', 'green', 'coral'])\n",
    "for bar in bars_class:\n",
    "    yval = bar.get_height()  # wysokość słupka\n",
    "    percent = (yval / total_bodies_class) * 100  # procent\n",
    "    ax[0].text(bar.get_x() + bar.get_width()/2, yval/2, f'{int(yval)}\\n({percent:.2f}%)', \n",
    "               ha='center', va='center', color='white', fontsize=12)\n",
    "\n",
    "ax[0].set_xlabel('Klasa')\n",
    "ax[0].set_ylabel('Liczba odnalezionych ciał')\n",
    "ax[0].set_title('Odnalezione ciała względem klasy')\n",
    "\n",
    "# Wykres 2: Odnalezione ciała względem płci\n",
    "bars_sex = ax[1].bar(labels_sex, values_sex, color=['blue', 'red'])\n",
    "for bar in bars_sex:\n",
    "    yval = bar.get_height()  # wysokość słupka\n",
    "    percent = (yval / total_bodies_sex) * 100  # procent\n",
    "    if bar.get_x() == bars_sex[1].get_x():  # Jeśli to słupek dla kobiet\n",
    "        # Umieszczamy tekst nad słupkiem\n",
    "        ax[1].text(bar.get_x() + bar.get_width()/2, yval + 5, f'{int(yval)}\\n({percent:.2f}%)', \n",
    "                   ha='center', va='bottom', color='black', fontsize=12)\n",
    "    else:  # Słupek dla mężczyzn\n",
    "        # Umieszczamy tekst na środku słupka\n",
    "        ax[1].text(bar.get_x() + bar.get_width()/2, yval/2, f'{int(yval)}\\n({percent:.2f}%)', \n",
    "                   ha='center', va='center', color='white', fontsize=12)\n",
    "\n",
    "ax[1].set_xlabel('Płeć')\n",
    "ax[1].set_title('Odnalezione ciała względem płci')\n",
    "\n",
    "# Ustawienie wspólnego tytułu i dopasowanie układu\n",
    "plt.suptitle('Odnalezione ciała względem klasy i płci (z wartościami procentowymi)')\n",
    "plt.tight_layout()\n",
    "plt.show()"
   ]
  },
  {
   "cell_type": "markdown",
   "metadata": {},
   "source": [
    "### Wnioski\n",
    "- Widzimy że odnalezione ciała w największej ilości należały do pasażerów klasy 3. Tyła to najliczniejsza grupa osób, które poniosły śmierć.\n",
    "- Odnaleziono najwięcej ciał mężczyzn. Prawdopodobnie ze względu na mniejszą tężyznę fizyczną oraz mniejszą odporność na lodowate zimno kobiety szybciej tonęły"
   ]
  },
  {
   "cell_type": "markdown",
   "metadata": {},
   "source": [
    "### 👨‍👩‍👧‍👦 Analiza pokrewieństwa pod kontem rodzeństwa, małżonków"
   ]
  },
  {
   "cell_type": "code",
   "execution_count": 55,
   "metadata": {},
   "outputs": [
    {
     "data": {
      "text/markdown": [
       "\n",
       "### Statystyki dotyczące więzów rodzinnych pasażerów\n",
       "\n",
       "- **Ogólna liczba małżonków lub rodzeństwa:** 418  \n",
       "- **Liczba małżonków lub rodzeństwa, którzy ponieśli śmierć:** 227  \n",
       "\n",
       "- **Ogólna liczba rodziców lub potomków:** 307  \n",
       "- **Liczba rodziców lub potomków, którzy ponieśli śmierć:** 143\n"
      ],
      "text/plain": [
       "<IPython.core.display.Markdown object>"
      ]
     },
     "execution_count": 55,
     "metadata": {},
     "output_type": "execute_result"
    }
   ],
   "source": [
    "#suma rodzeństwa lub małżonków na pokładzie\n",
    "sum_of_sibsp = df_eda[df_eda['sibsp'] != 0]['sibsp'].count()\n",
    "#suma rodziców lub potomków na pokładzie\n",
    "sum_of_parch = df_eda[df_eda['parch'] != 0]['parch'].count()\n",
    "\n",
    "#liczba małżonków lub rodzeństwa, która poniosła śmierć\n",
    "sum_of_sibsp_death = df_eda[    (df_eda['sibsp'] != 0) & (df_eda['survived'] == 0)]['sibsp'].count()\n",
    "#suma rodziców lub potomków na pokładzie\n",
    "sum_of_sibsp_parach = df_eda[    (df_eda['parch'] != 0) & (df_eda['survived'] == 0)]['parch'].count()\n",
    "\n",
    "Markdown(f\"\"\"\n",
    "### Statystyki dotyczące więzów rodzinnych pasażerów\n",
    "\n",
    "- **Ogólna liczba małżonków lub rodzeństwa:** {sum_of_sibsp}  \n",
    "- **Liczba małżonków lub rodzeństwa, którzy ponieśli śmierć:** {sum_of_sibsp_death}  \n",
    "\n",
    "- **Ogólna liczba rodziców lub potomków:** {sum_of_parch}  \n",
    "- **Liczba rodziców lub potomków, którzy ponieśli śmierć:** {sum_of_sibsp_parach}\n",
    "\"\"\")"
   ]
  },
  {
   "cell_type": "code",
   "execution_count": 56,
   "metadata": {},
   "outputs": [
    {
     "data": {
      "text/markdown": [
       "\n",
       "### Przeżywalność w zależności od posiadania rodziny na pokładzie\n",
       "\n",
       "- **Liczba osób, które przeżyły i miały rodzinę:** 261.0  \n",
       "- **Liczba osób, które przeżyły i nie miały rodziny:** 239.0  \n",
       "\n",
       "#### Współczynniki przeżycia:\n",
       "- **Grupy z rodziną:** 50.29%  \n",
       "- **Grupy bez rodziny:** 30.25%\n"
      ],
      "text/plain": [
       "<IPython.core.display.Markdown object>"
      ]
     },
     "execution_count": 56,
     "metadata": {},
     "output_type": "execute_result"
    }
   ],
   "source": [
    "#Grupa z rodziną:\n",
    "\n",
    "# liczba osób, które przeżyły oraz liczbę osób, które zmarły.\n",
    "\n",
    "survived_with_family = df_eda[(df_eda['sibsp'] > 0) | (df_eda['parch'] > 0)]['survived'].sum()\n",
    "total_with_family = df_eda[(df_eda['sibsp'] > 0) | (df_eda['parch'] > 0)].shape[0]\n",
    "\n",
    "\n",
    "#Grupa bez rodziny:\n",
    "survived_without_family = df_eda[(df_eda['sibsp'] == 0) & (df_eda['parch'] == 0)]['survived'].sum()\n",
    "total_without_family = df_eda[(df_eda['sibsp'] == 0) & (df_eda['parch'] == 0)].shape[0]\n",
    "\n",
    "#Obliczanie współczynników przeżycia:\n",
    "survival_rate_with_family = (survived_with_family / total_with_family * 100).round(2)\n",
    "survival_rate_without_family = (survived_without_family / total_without_family * 100).round(2)\n",
    "\n",
    "Markdown(f\"\"\"\n",
    "### Przeżywalność w zależności od posiadania rodziny na pokładzie\n",
    "\n",
    "- **Liczba osób, które przeżyły i miały rodzinę:** {survived_with_family}  \n",
    "- **Liczba osób, które przeżyły i nie miały rodziny:** {survived_without_family}  \n",
    "\n",
    "#### Współczynniki przeżycia:\n",
    "- **Grupy z rodziną:** {survival_rate_with_family}%  \n",
    "- **Grupy bez rodziny:** {survival_rate_without_family}%\n",
    "\"\"\")\n"
   ]
  },
  {
   "cell_type": "markdown",
   "metadata": {},
   "source": [
    "## Współczynniki przeżycia pasażerów z rodziną i bez rodziny"
   ]
  },
  {
   "cell_type": "code",
   "execution_count": 57,
   "metadata": {},
   "outputs": [
    {
     "data": {
      "image/png": "[encoded data removed]",
      "text/plain": [
       "<Figure size 800x500 with 1 Axes>"
      ]
     },
     "metadata": {},
     "output_type": "display_data"
    }
   ],
   "source": [
    "labels = ['Z rodziną', 'Bez rodziny']\n",
    "survival_rates = [survival_rate_with_family, survival_rate_without_family]\n",
    "\n",
    "# Ustawienia wykresu\n",
    "plt.figure(figsize=(8, 5))\n",
    "\n",
    "# Stworzenie wykresu słupkowego\n",
    "bars = plt.bar(labels, survival_rates, color=['green', 'red'])  # Ustawienie kolorów bezpośrednio\n",
    "\n",
    "# Dodanie tytułu i etykiet\n",
    "plt.title('Współczynniki przeżycia pasażerów z rodziną i bez rodziny')\n",
    "plt.ylabel('Współczynnik przeżycia (%)')\n",
    "plt.ylim(0, 100)  # Ustawienie limitu na osi Y\n",
    "\n",
    "# Wyświetlenie wartości na słupkach\n",
    "for i, v in enumerate(survival_rates):\n",
    "    plt.text(i, v + 2, f\"{v:.2f}%\", ha='center')\n",
    "\n",
    "# Pokaż wykres\n",
    "plt.show()"
   ]
  },
  {
   "cell_type": "markdown",
   "metadata": {},
   "source": [
    "### Wykres szansy na przeżycie pasażerów pod względem posiadania członków rodziny (sibsp + parch)"
   ]
  },
  {
   "cell_type": "markdown",
   "metadata": {},
   "source": [
    "#### Została dodana nowa kolumna **\"family_members\"** - wszyscy członkowie rodziny"
   ]
  },
  {
   "cell_type": "markdown",
   "metadata": {},
   "source": [
    "### Wnioski:\n",
    "- Osoby z rodziną posiadały większą szansę na przetrwanie - 50.29%\n",
    "- Osoby bez rodziny - 30.25%\n",
    "- Największe szanse na przeżycie pośród ocalałych miały osoby posiadające 1 do 3 członków rodziny."
   ]
  },
  {
   "cell_type": "markdown",
   "metadata": {},
   "source": [
    "### Analiza kolumny **boat**"
   ]
  },
  {
   "cell_type": "code",
   "execution_count": 58,
   "metadata": {},
   "outputs": [
    {
     "data": {
      "text/markdown": [
       "Łączna liczba ocalałych na łodziach: 500"
      ],
      "text/plain": [
       "<IPython.core.display.Markdown object>"
      ]
     },
     "execution_count": 58,
     "metadata": {},
     "output_type": "execute_result"
    }
   ],
   "source": [
    "total_survivors_on_boats = df_eda[df_eda['survived'] == 1]['boat'].notnull().sum()\n",
    "\n",
    "# Wyświetlenie wyniku\n",
    "Markdown(f'Łączna liczba ocalałych na łodziach: {total_survivors_on_boats}')"
   ]
  },
  {
   "cell_type": "code",
   "execution_count": 59,
   "metadata": {},
   "outputs": [
    {
     "data": {
      "text/markdown": [
       "Średnia liczba osób przypadająca na jedną łódź: 46.75"
      ],
      "text/plain": [
       "<IPython.core.display.Markdown object>"
      ]
     },
     "execution_count": 59,
     "metadata": {},
     "output_type": "execute_result"
    }
   ],
   "source": [
    "# Filtrowanie danych, aby wykluczyć łodzie oznaczone jako \"Unknown\"\n",
    "filtered_df = df_eda[df_eda['boat'] != 'Unknown']\n",
    "\n",
    "# Zliczanie liczby osób w każdej łodzi ratunkowej\n",
    "people_per_boat = filtered_df.groupby('boat').size()\n",
    "\n",
    "# Obliczenie średniej liczby osób na łódź\n",
    "average_people_per_boat = people_per_boat.mean()\n",
    "\n",
    "Markdown(f'Średnia liczba osób przypadająca na jedną łódź: {average_people_per_boat:.2f}')"
   ]
  },
  {
   "cell_type": "markdown",
   "metadata": {},
   "source": [
    "# 🔗 KROK 4: Analiza korelacji."
   ]
  },
  {
   "cell_type": "markdown",
   "metadata": {},
   "source": [
    "### Macierz korelacji"
   ]
  },
  {
   "cell_type": "code",
   "execution_count": 60,
   "metadata": {},
   "outputs": [],
   "source": [
    "correlation_matrix = df_eda.select_dtypes(include=['float64', 'int64']).corr()\n",
    "\n",
    "# correlation_matrix"
   ]
  },
  {
   "cell_type": "code",
   "execution_count": 61,
   "metadata": {},
   "outputs": [],
   "source": [
    "# # Ustawienie rozmiaru wykresu\n",
    "# plt.figure(figsize=(8, 6))\n",
    "\n",
    "# # Tworzenie wykresu heatmap z macierzy korelacji\n",
    "# sns.heatmap(correlation_matrix, annot=True, cmap='coolwarm', linewidths=0.5)\n",
    "\n",
    "# # Dodanie tytułu\n",
    "# plt.title('Macierz korelacji', size=16)\n",
    "\n",
    "# # Wyświetlenie wykresu\n",
    "# plt.show()"
   ]
  },
  {
   "cell_type": "code",
   "execution_count": 62,
   "metadata": {},
   "outputs": [],
   "source": [
    "# # Obliczenie macierzy korelacji\n",
    "# correlation_matrix = df_eda.select_dtypes(include=['float64', 'int64']).corr()\n",
    "\n",
    "# # Utworzenie wizualizacji macierzy korelacji\n",
    "# plt.figure(figsize=(8, 6))\n",
    "# sns.heatmap(correlation_matrix, \n",
    "#             annot=True, \n",
    "#             cmap='coolwarm', \n",
    "#             center=0,\n",
    "#             square=True,\n",
    "#             # fmt='.2f',\n",
    "#             cbar_kws={'shrink': 0.5}\n",
    "#            )\n",
    "# plt.title('Macierz korelacji zmiennych numerycznych', fontsize=16, pad=20)\n",
    "# plt.tight_layout()\n",
    "# plt.show()"
   ]
  },
  {
   "cell_type": "code",
   "execution_count": 63,
   "metadata": {},
   "outputs": [
    {
     "name": "stdout",
     "output_type": "stream",
     "text": [
      "pclass ↔ fare: -0.559\n"
     ]
    },
    {
     "data": {
      "image/png": "[encoded data removed]",
      "text/plain": [
       "<Figure size 800x600 with 2 Axes>"
      ]
     },
     "metadata": {},
     "output_type": "display_data"
    }
   ],
   "source": [
    "# Znajdowanie najsilniejszych korelacji\n",
    "strong_correlations = []\n",
    "for i in range(len(correlation_matrix.columns)):\n",
    "    for j in range(i+1, len(correlation_matrix.columns)): # unikamy duplikacji kolumn (zeby zawsze badac rozne kolumny)\n",
    "        corr_value = correlation_matrix.iloc[i, j]\n",
    "        if abs(corr_value) > 0.5: # abs -> wartosc bezwzgledna\n",
    "            strong_correlations.append({\n",
    "                'var1': correlation_matrix.columns[i],\n",
    "                'var2': correlation_matrix.columns[j],\n",
    "                'correlation': corr_value\n",
    "            })\n",
    "\n",
    "strong_correlations = sorted(strong_correlations, key=lambda x: abs(x['correlation']), reverse=True)\n",
    "for corr in strong_correlations[:10]:\n",
    "    print(f\"{corr['var1']} ↔ {corr['var2']}: {corr['correlation']:.3f}\")\n",
    "\n",
    "# Wizualizacja macierzy korelacji\n",
    "plt.figure(figsize=(8, 6))\n",
    "mask = np.triu(correlation_matrix)  # Maska dla górnego trójkąta\n",
    "sns.heatmap(correlation_matrix, \n",
    "           annot=True, \n",
    "           cmap='RdBu_r', \n",
    "           center=0,\n",
    "           square=True,\n",
    "           mask=mask,\n",
    "           cbar_kws={\"shrink\": .8})\n",
    "plt.title('Macierz korelacji - zmienne numeryczne')\n",
    "plt.tight_layout()\n",
    "plt.show()"
   ]
  },
  {
   "cell_type": "markdown",
   "metadata": {},
   "source": [
    "### Wnioski z analiza korelacji."
   ]
  },
  {
   "cell_type": "markdown",
   "metadata": {},
   "source": [
    "- Większośc korelacji jest ujemna.\n",
    "1. Korelacje ujemne:\n",
    "- Największa korelacja ujemna silna: -0,56 występuje mniędzy **fare**(ceną bileu) a **pclass**(klasą pasażerską)\n",
    "- Korelacja ujemna średnia między **age**(wiekiem) a **pclass**(klasą psażerską): -0,31\n",
    "- Korelacja ujemna średnia między **survived**(przeżyli/nieprzeżyli) a **pclass**(klasą pasażerską): -0,37\n",
    "- Korelacja ujemna słaba między **survived**(przeżyli/nieprzeżyli) a **body**(odnalezionym ciałem): -0,21\n",
    "- Inne korelacje ujemne są jeszcze słabsze\n",
    "2. Korelacje dodatnie:\n",
    "- średnia między **sibsp**(rodzeństwem lub małżonkami) **parch**(relacja dzieci rodzice): 0,37\n",
    "- słaba korelacje między **survived**(przeżyli/nieprzeżyli) a **fare**(ceną bileu): 0,24 - najwięcej osób przezyło z najdroszej 1 klasy."
   ]
  },
  {
   "cell_type": "markdown",
   "metadata": {},
   "source": [
    "# 🤔 KROK 5: Alaliza wartości odstających"
   ]
  },
  {
   "cell_type": "markdown",
   "metadata": {},
   "source": [
    "wartości odstające dla **fare** opłata za bilet"
   ]
  },
  {
   "cell_type": "code",
   "execution_count": 64,
   "metadata": {},
   "outputs": [
    {
     "data": {
      "image/png": "[encoded data removed]",
      "text/plain": [
       "<Figure size 640x480 with 1 Axes>"
      ]
     },
     "metadata": {},
     "output_type": "display_data"
    }
   ],
   "source": [
    "# Tworzenie boxplotu z zamienionymi osiami\n",
    "sns.boxplot(x=df_eda['fare'])  # Użyj 'x' zamiast 'data'\n",
    "\n",
    "# Wyświetlenie wykresu\n",
    "plt.show()"
   ]
  },
  {
   "cell_type": "code",
   "execution_count": 65,
   "metadata": {},
   "outputs": [
    {
     "data": {
      "text/markdown": [
       "Liczba wartości odstających w kolumnie \"fare\": 171"
      ],
      "text/plain": [
       "<IPython.core.display.Markdown object>"
      ]
     },
     "execution_count": 65,
     "metadata": {},
     "output_type": "execute_result"
    }
   ],
   "source": [
    "# Oblicz kwartyle\n",
    "Q1 = df_eda['fare'].quantile(0.25)\n",
    "Q3 = df_eda['fare'].quantile(0.75)\n",
    "IQR = Q3 - Q1\n",
    "\n",
    "# Oblicz dolny i górny limit\n",
    "lower_bound = Q1 - 1.5 * IQR\n",
    "upper_bound = Q3 + 1.5 * IQR\n",
    "\n",
    "# Liczenie wartości odstających\n",
    "num_outliers = df_eda[(df_eda['fare'] < lower_bound) | (df_eda['fare'] > upper_bound)].shape[0]\n",
    "\n",
    "# Wyświetlenie liczby wartości odstających\n",
    "Markdown(f'Liczba wartości odstających w kolumnie \"fare\": {num_outliers}')\n"
   ]
  },
  {
   "cell_type": "code",
   "execution_count": 66,
   "metadata": {},
   "outputs": [
    {
     "data": {
      "text/markdown": [
       "\n",
       "### Analiza wartości odstających w kolumnie 'fare'\n",
       "- **Średnia cena biletu dla klasy 1 (bez wartości odstających): 37.75**\n",
       "- **Najmniejsza wartość odstająca:** 66.60  \n",
       "- **Najwyższa wartość odstająca (poza absurdalną):** 263.00  \n",
       "- **Zakres cenowy wartości odstających:** 196.40  \n",
       "- **Najwyższa wartość odstająca:** 512.33\n"
      ],
      "text/plain": [
       "<IPython.core.display.Markdown object>"
      ]
     },
     "execution_count": 66,
     "metadata": {},
     "output_type": "execute_result"
    }
   ],
   "source": [
    "# 1. Obliczenie kwartylów dla kolumny 'fare'\n",
    "Q1 = df_eda['fare'].quantile(0.25)\n",
    "Q3 = df_eda['fare'].quantile(0.75)\n",
    "IQR = Q3 - Q1\n",
    "\n",
    "# Oblicz dolny i górny limit wartości odstających\n",
    "lower_bound = Q1 - 1.5 * IQR\n",
    "upper_bound = Q3 + 1.5 * IQR\n",
    "\n",
    "# 2. Filtrowanie wartości nieodstających w kolumnie 'fare'\n",
    "df_no_outliers = df_eda[(df_eda['fare'] >= lower_bound) & (df_eda['fare'] <= upper_bound)]\n",
    "\n",
    "# 3. Średnia cena biletu dla pasażerów klasy 1 (pclass = 1) bez wartości odstających\n",
    "mean_fare_class1_no_outliers = df_no_outliers[df_no_outliers['pclass'] == 1]['fare'].mean()\n",
    "\n",
    "# 4. Filtrowanie wartości odstających w kolumnie 'fare'\n",
    "outliers_fare = df_eda[(df_eda['fare'] < lower_bound) | (df_eda['fare'] > upper_bound)]\n",
    "\n",
    "# 5. Wykluczenie jednej absurdalnie wysokiej wartości (najwyższej wartości odstającej)\n",
    "max_fare = outliers_fare['fare'].max()\n",
    "outliers_fare_excl_max = outliers_fare[outliers_fare['fare'] != max_fare]\n",
    "max_outlier_fareX = outliers_fare['fare'].max()\n",
    "\n",
    "# 6. Znalezienie najniższej i najwyższej wartości odstającej (poza najwyższą absurdalną wartością)\n",
    "min_outlier_fare = outliers_fare_excl_max['fare'].min()\n",
    "max_outlier_fare = outliers_fare_excl_max['fare'].max()\n",
    "\n",
    "outlier_fare_scope = max_outlier_fare - min_outlier_fare\n",
    "\n",
    "Markdown(f\"\"\"\n",
    "### Analiza wartości odstających w kolumnie 'fare'\n",
    "- **Średnia cena biletu dla klasy 1 (bez wartości odstających): {mean_fare_class1_no_outliers:.2f}**\n",
    "- **Najmniejsza wartość odstająca:** {min_outlier_fare:.2f}  \n",
    "- **Najwyższa wartość odstająca (poza absurdalną):** {max_outlier_fare:.2f}  \n",
    "- **Zakres cenowy wartości odstających:** {outlier_fare_scope:.2f}  \n",
    "- **Najwyższa wartość odstająca:** {max_outlier_fareX:.2f}\n",
    "\"\"\")\n"
   ]
  },
  {
   "cell_type": "markdown",
   "metadata": {},
   "source": [
    "### Wnioski dotyczące can biletów:\n",
    "- ostanią wartość 512.33 można odrzucić jako błąd - cena wydaje się absurdalna jako jedna\n",
    "- Zakrs cenowy wartości odstających: 196.40\n",
    "- Wartości odstające mogą się wydawać dodatkową opłatą za luksusowe usługi bądź udogodnienia materialne: szampan, kawior etc."
   ]
  },
  {
   "cell_type": "markdown",
   "metadata": {},
   "source": [
    "### Wartości odstające dla **age** - wiek pasażerów"
   ]
  },
  {
   "cell_type": "code",
   "execution_count": 67,
   "metadata": {},
   "outputs": [
    {
     "data": {
      "image/png": "[encoded data removed]",
      "text/plain": [
       "<Figure size 640x480 with 1 Axes>"
      ]
     },
     "metadata": {},
     "output_type": "display_data"
    }
   ],
   "source": [
    "# Tworzenie boxplotu z zamienionymi osiami\n",
    "sns.boxplot(x=df_eda['age'])  # Użyj 'x' zamiast 'data'\n",
    "\n",
    "# Wyświetlenie wykresu\n",
    "plt.show()"
   ]
  },
  {
   "cell_type": "markdown",
   "metadata": {},
   "source": [
    "### Liczba wartości odstających minimalnych i  maksymalnych w kolumnie 'age"
   ]
  },
  {
   "cell_type": "code",
   "execution_count": 68,
   "metadata": {},
   "outputs": [
    {
     "data": {
      "text/markdown": [
       "\n",
       "### Analiza wartości odstających w kolumnie `age`\n",
       "\n",
       "- **Liczba wartości odstających minimalnych:** 34  \n",
       "- **Liczba wartości odstających maksymalnych:** 67  \n",
       "- **Liczba osobników z wiekiem 0:** 0  \n",
       "- **Największa wartość z minimalnych odstających:** 2.0  \n",
       "- **Najmniejsza wartość z maksymalnych odstających:** 55.0\n"
      ],
      "text/plain": [
       "<IPython.core.display.Markdown object>"
      ]
     },
     "execution_count": 68,
     "metadata": {},
     "output_type": "execute_result"
    }
   ],
   "source": [
    "# Oblicz kwartyle\n",
    "Q1 = df_eda['age'].quantile(0.25)\n",
    "Q3 = df_eda['age'].quantile(0.75)\n",
    "IQR = Q3 - Q1\n",
    "\n",
    "# Oblicz dolny i górny limit\n",
    "lower_bound = Q1 - 1.5 * IQR\n",
    "upper_bound = Q3 + 1.5 * IQR\n",
    "\n",
    "# Zliczanie wartości odstających minimalnych (poniżej dolnego limitu)\n",
    "outliers_min = df_eda[df_eda['age'] < lower_bound]\n",
    "num_outliers_min = outliers_min.shape[0]\n",
    "\n",
    "# Zliczanie wartości odstających maksymalnych (powyżej górnego limitu)\n",
    "outliers_max = df_eda[df_eda['age'] > upper_bound]\n",
    "num_outliers_max = outliers_max.shape[0]\n",
    "\n",
    "# Zliczanie osobników z wiekiem 0\n",
    "num_age_zero = df_eda[df_eda['age'] == 0].shape[0]\n",
    "\n",
    "# Największa wartość z minimalnych wartości odstających\n",
    "max_outlier_min = outliers_min['age'].max() if num_outliers_min > 0 else None\n",
    "\n",
    "# Najmniejsza wartość z maksymalnych wartości odstających\n",
    "min_outlier_max = outliers_max['age'].min() if num_outliers_max > 0 else None\n",
    "\n",
    "# Wyświetlenie wyników\n",
    "Markdown(f\"\"\"\n",
    "### Analiza wartości odstających w kolumnie `age`\n",
    "\n",
    "- **Liczba wartości odstających minimalnych:** {num_outliers_min}  \n",
    "- **Liczba wartości odstających maksymalnych:** {num_outliers_max}  \n",
    "- **Liczba osobników z wiekiem 0:** {num_age_zero}  \n",
    "- **Największa wartość z minimalnych odstających:** {max_outlier_min}  \n",
    "- **Najmniejsza wartość z maksymalnych odstających:** {min_outlier_max}\n",
    "\"\"\")\n"
   ]
  },
  {
   "cell_type": "markdown",
   "metadata": {},
   "source": [
    "Wartości odstające względem wieku świadczą o tym że prawdopodobnie istaniało 34 osób w wiku niemowlęcym poniżej 2 lat oraz 67 osób powyżej 55 roku życia."
   ]
  },
  {
   "cell_type": "markdown",
   "metadata": {},
   "source": [
    "### Wartości odstające dla **sibsp** - rodzeństwo lub małżeństwo"
   ]
  },
  {
   "cell_type": "code",
   "execution_count": 69,
   "metadata": {},
   "outputs": [
    {
     "data": {
      "image/png": "[encoded data removed]",
      "text/plain": [
       "<Figure size 640x480 with 1 Axes>"
      ]
     },
     "metadata": {},
     "output_type": "display_data"
    }
   ],
   "source": [
    "sns.boxplot(x=df_eda['sibsp']) \n",
    "\n",
    "# Wyświetlenie wykresu\n",
    "plt.show()"
   ]
  },
  {
   "cell_type": "code",
   "execution_count": 70,
   "metadata": {},
   "outputs": [
    {
     "data": {
      "text/markdown": [
       "\n",
       "### Liczba przypadków dla poszczególnych wartości w kolumnie `sibsp`\n",
       "\n",
       "|   sibsp |   count |\n",
       "|--------:|--------:|\n",
       "|       0 |     891 |\n",
       "|       1 |     319 |\n",
       "|       2 |      42 |\n",
       "|       3 |      20 |\n",
       "|       4 |      22 |\n",
       "|       5 |       6 |\n",
       "|       8 |       9 |\n"
      ],
      "text/plain": [
       "<IPython.core.display.Markdown object>"
      ]
     },
     "execution_count": 70,
     "metadata": {},
     "output_type": "execute_result"
    }
   ],
   "source": [
    "sibsp_counts = df['sibsp'].value_counts().sort_index()\n",
    "\n",
    "Markdown(f\"\"\"\n",
    "### Liczba przypadków dla poszczególnych wartości w kolumnie `sibsp`\n",
    "\n",
    "{sibsp_counts.to_frame().to_markdown()}\n",
    "\"\"\")"
   ]
  },
  {
   "cell_type": "markdown",
   "metadata": {},
   "source": [
    "### Bardzo ciekawy wykres wskazujący że 75% popilacji nieposiadało lub posiadało 1 rodzeństwo."
   ]
  },
  {
   "cell_type": "code",
   "execution_count": 71,
   "metadata": {},
   "outputs": [
    {
     "data": {
      "text/markdown": [
       "Istniało 57 osób, któe posiadały wiecej niż 2 rodzeństa"
      ],
      "text/plain": [
       "<IPython.core.display.Markdown object>"
      ]
     },
     "execution_count": 71,
     "metadata": {},
     "output_type": "execute_result"
    }
   ],
   "source": [
    "# Oblicz kwartyle\n",
    "Q1_s = df_eda['sibsp'].quantile(0.25)\n",
    "Q3_s = df_eda['sibsp'].quantile(0.75)\n",
    "IQR_s = Q3_s - Q1_s\n",
    "\n",
    "# Oblicz dolny i górny limit\n",
    "lower_bound = Q1_s - 1.5 * IQR_s\n",
    "upper_bound = Q3_s + 1.5 * IQR_s\n",
    "\n",
    "# Zliczanie wartości odstających\n",
    "outliers_sibsp_s = df_eda[(df_eda['sibsp'] < lower_bound) | (df_eda['sibsp'] > upper_bound)]\n",
    "\n",
    "# Liczenie wartości odstających\n",
    "num_outliers_sibsp = outliers_sibsp_s.shape[0]\n",
    "Markdown(f'Istniało {num_outliers_sibsp} osób, któe posiadały wiecej niż 2 rodzeństa')"
   ]
  },
  {
   "cell_type": "markdown",
   "metadata": {},
   "source": [
    "### Konkretne wartości i ich liczba"
   ]
  },
  {
   "cell_type": "code",
   "execution_count": 72,
   "metadata": {},
   "outputs": [
    {
     "data": {
      "text/markdown": [
       "\n",
       "### Wartości odstające w kolumnie `sibsp`\n",
       "\n",
       "- Liczba wartości odstających: **57**\n",
       "\n",
       "#### Szczegóły wartości odstających i ich liczba wystąpień:\n",
       "|   sibsp |   count |\n",
       "|--------:|--------:|\n",
       "|       4 |      22 |\n",
       "|       3 |      20 |\n",
       "|       8 |       9 |\n",
       "|       5 |       6 |\n"
      ],
      "text/plain": [
       "<IPython.core.display.Markdown object>"
      ]
     },
     "execution_count": 72,
     "metadata": {},
     "output_type": "execute_result"
    }
   ],
   "source": [
    "# Oblicz kwartyle\n",
    "Q1_s_value_counts = df_eda['sibsp'].quantile(0.25)\n",
    "Q3_s_value_counts = df_eda['sibsp'].quantile(0.75)\n",
    "IQR_s_value_counts = Q3_s_value_counts - Q1_s_value_counts\n",
    "\n",
    "# Oblicz dolny i górny limit\n",
    "lower_bound = Q1_s_value_counts - 1.5 * IQR_s_value_counts\n",
    "upper_bound = Q3_s_value_counts + 1.5 * IQR_s_value_counts\n",
    "\n",
    "# Zliczanie wartości odstających\n",
    "outliers_sibsp_value_counts = df_eda[(df_eda['sibsp'] < lower_bound) | (df_eda['sibsp'] > upper_bound)]\n",
    "\n",
    "# Liczenie wartości odstających\n",
    "num_outliers_sibsp_value_counts = outliers_sibsp_value_counts.shape[0]\n",
    "\n",
    "# Liczenie unikalnych wartości odstających i ich liczby wystąpień\n",
    "outlier_counts__sibsp_value_counts = outliers_sibsp_value_counts['sibsp'].value_counts()\n",
    "\n",
    "# Wyświetlenie wyników\n",
    "Markdown(f\"\"\"\n",
    "### Wartości odstające w kolumnie `sibsp`\n",
    "\n",
    "- Liczba wartości odstających: **{num_outliers_sibsp_value_counts}**\n",
    "\n",
    "#### Szczegóły wartości odstających i ich liczba wystąpień:\n",
    "{outlier_counts__sibsp_value_counts.to_frame().to_markdown()}\n",
    "\"\"\")\n",
    "\n"
   ]
  },
  {
   "cell_type": "markdown",
   "metadata": {},
   "source": [
    "### Wartości odstające dla **parch** - rodzeństwo lub małżeństwo"
   ]
  },
  {
   "cell_type": "code",
   "execution_count": 73,
   "metadata": {},
   "outputs": [
    {
     "data": {
      "image/png": "[encoded data removed]",
      "text/plain": [
       "<Figure size 640x480 with 1 Axes>"
      ]
     },
     "metadata": {},
     "output_type": "display_data"
    }
   ],
   "source": [
    "sns.boxplot(x=df_eda['parch'])  # Użyj 'x' zamiast 'data'\n",
    "\n",
    "# Wyświetlenie wykresu\n",
    "plt.show()"
   ]
  },
  {
   "cell_type": "code",
   "execution_count": 74,
   "metadata": {},
   "outputs": [
    {
     "data": {
      "text/markdown": [
       "Istniało 24 osób, któe posiadały wiecej niż 2 konotacji rodzic - potomek"
      ],
      "text/plain": [
       "<IPython.core.display.Markdown object>"
      ]
     },
     "execution_count": 74,
     "metadata": {},
     "output_type": "execute_result"
    }
   ],
   "source": [
    "Q1_p = df_eda['sibsp'].quantile(0.25)\n",
    "Q3_p = df_eda['sibsp'].quantile(0.75)\n",
    "IQR_p = Q3_p - Q1_p\n",
    "\n",
    "# Oblicz dolny i górny limit\n",
    "lower_bound = Q1_p - 1.5 * IQR_p\n",
    "upper_bound = Q3_p + 1.5 * IQR_p\n",
    "\n",
    "# Zliczanie wartości odstających\n",
    "outliers_parch = df_eda[(df_eda['parch'] < lower_bound) | (df_eda['parch'] > upper_bound)]\n",
    "\n",
    "# Liczenie wartości odstających\n",
    "num_outliers_parch = outliers_parch.shape[0]\n",
    "Markdown(f'Istniało {num_outliers_parch} osób, któe posiadały wiecej niż 2 konotacji rodzic - potomek')"
   ]
  },
  {
   "cell_type": "code",
   "execution_count": 75,
   "metadata": {},
   "outputs": [
    {
     "data": {
      "text/markdown": [
       "\n",
       "### Wartości odstające w kolumnie `parch`\n",
       "\n",
       "- Liczba wartości odstających: **24**\n",
       "\n",
       "#### Szczegóły wartości odstających i ich liczba wystąpień:\n",
       "|   parch |   count |\n",
       "|--------:|--------:|\n",
       "|       3 |       8 |\n",
       "|       4 |       6 |\n",
       "|       5 |       6 |\n",
       "|       6 |       2 |\n",
       "|       9 |       2 |\n"
      ],
      "text/plain": [
       "<IPython.core.display.Markdown object>"
      ]
     },
     "execution_count": 75,
     "metadata": {},
     "output_type": "execute_result"
    }
   ],
   "source": [
    "# Oblicz kwartyle\n",
    "Q1_p_value_counts = df_eda['sibsp'].quantile(0.25)\n",
    "Q3_p_value_counts = df_eda['sibsp'].quantile(0.75)\n",
    "IQR_p_value_counts = Q3_p_value_counts - Q1_p_value_counts\n",
    "\n",
    "# Oblicz dolny i górny limit\n",
    "lower_bound = Q1_p_value_counts - 1.5 * IQR_p_value_counts\n",
    "upper_bound = Q3_p_value_counts + 1.5 * IQR_p_value_counts\n",
    "\n",
    "# Zliczanie wartości odstających\n",
    "outliers_parch_value_counts = df_eda[(df_eda['parch'] < lower_bound) | (df_eda['parch'] > upper_bound)]\n",
    "\n",
    "# Liczenie wartości odstających\n",
    "num_outliers_parch_value_counts = outliers_parch_value_counts.shape[0]\n",
    "\n",
    "# Liczenie unikalnych wartości odstających i ich liczby wystąpień\n",
    "outlier_counts__parch_value_counts = outliers_parch_value_counts['parch'].value_counts()\n",
    "\n",
    "# Wyświetlenie wyników\n",
    "Markdown(f\"\"\"\n",
    "### Wartości odstające w kolumnie `parch`\n",
    "\n",
    "- Liczba wartości odstających: **{num_outliers_parch_value_counts}**\n",
    "\n",
    "#### Szczegóły wartości odstających i ich liczba wystąpień:\n",
    "{outlier_counts__parch_value_counts.to_frame().to_markdown()}\n",
    "\"\"\")"
   ]
  },
  {
   "cell_type": "markdown",
   "metadata": {},
   "source": [
    "# 🧠 Podsumowanie analizy"
   ]
  },
  {
   "cell_type": "markdown",
   "metadata": {},
   "source": [
    "## KROK 1: Ogólny przegląd danych:"
   ]
  },
  {
   "cell_type": "markdown",
   "metadata": {},
   "source": [
    "- Liczba kolumn: 14\n",
    "- Liczba wierszy (indexów): 1310\n",
    "- Typy poszczególnych wierszy to zmienno przecinkowy: float64(7), oraz tekstowy: object(7)\n",
    "- Liczba wartości unkatowe :3343\n",
    "- Już na wczesnym etapie można było zauważyć barakujące dane\n",
    "- Liczba wszystkich brakujących wartości: 3869\n",
    "- Wśród klasy biletu przeważa 3 klasa biletu.\n",
    "- Większość osób jest tóż przed 30 rokiem zycia."
   ]
  },
  {
   "cell_type": "markdown",
   "metadata": {},
   "source": [
    "## KROK 2: Analiza brakujących wartości.\n",
    "#### Krok został scalony z jednoczesną **Transformacją danych**\n",
    "- Liczba wszystkich brakujących wartości: 3869\n",
    "- Brak duplikatów\n",
    "- Każda kolumna zawierała przynajmniej jedną brakującą wartość.\n",
    "- Usunięto 1 wiesz, który nie posiadał żadnej wartości poza NAN\n",
    "- W każdej kolumnie wartości NAN zostały zastąpione tym samym rodzajem wartości."
   ]
  },
  {
   "cell_type": "markdown",
   "metadata": {},
   "source": [
    "### Podjęte działania\n",
    "- **Wartości zostały naprawione znanymi mi metodami naprawy:**\n",
    "- Kolumna **\"age\"** - wypełnienie brakujących wartości **śrdnią wartością**\n",
    "- Kolumna **fare** (cena biletu) - brak 1 wartości w 3 klasie wypełnione **śrdnią wartością ceny biletu z 3 klasy**\n",
    "- Kolumna **cabin** (numer kabiny) - 1014 brakujących wartości zostało zastąpionych wartością **\"Unknown\"** - ta kolumna nie została przeze mnie do końca przeanalizowana\n",
    "- Kolumna **embarked** (Port, w którym pasażer wszedł na pokład) - zostały zastąpione najbardziej możliwością **S - Southampton**\n",
    "- Kolumna **boat** (numerze łodzi ratunkowej) - Zastąpienie NaN stringiem **'Unkown'** jako że typ kolumny to **<object>** a jednocześnie widzimy że numery łodzi zawierały litery\n",
    "- Kolumna **home.dest** (destynacji pasażerów) - zastąpienie wartości brakujących tym razem **\"Dest. unkonw\"**.\n",
    "- Kolumna **body** (numer odnalezionego ciała) - Postanowiłem nadać każedmu nieodnalezionemu wartość liczbową **\"0\"**."
   ]
  },
  {
   "cell_type": "markdown",
   "metadata": {},
   "source": [
    "# KROK 3: Analiza pojedyńczych zmiennych"
   ]
  },
  {
   "cell_type": "markdown",
   "metadata": {},
   "source": [
    "Analiza kolumny **home.dest** została przemnie pominięta. Uznałem ją za niepotrzebną"
   ]
  },
  {
   "cell_type": "markdown",
   "metadata": {},
   "source": [
    "**Została utworzona kopia dataframu o nazwie df_eda w celu ochrony surówki danych**\n",
    "## Analiza zgonów:\n",
    "- Całkowita liczba pasażerów: 1309\n",
    "- Całkowita liczba zgonów: 809\n",
    "- Całkowita Całkowity procent zgonów: 61.8%"
   ]
  },
  {
   "cell_type": "markdown",
   "metadata": {},
   "source": [
    "## Analiza zgonów podług płci:"
   ]
  },
  {
   "cell_type": "markdown",
   "metadata": {},
   "source": [
    "**Mężczyźni:**\n",
    "- Całkowita liczba mężczyzn na pokładzie: 843\n",
    "- Liczba zgonów mężczyzn: 682\n",
    "- Odsetek populacji męskiej, która zginęła wyniósł 80.9%"
   ]
  },
  {
   "cell_type": "markdown",
   "metadata": {},
   "source": [
    "**Kobiety:**\n",
    "- Całkowita liczba kobiet na pokładzie: 466\n",
    "- Liczba zgonów kobiet: 127\n",
    "- Odsetek populacji żeńskiej która zginęła wyniósł 27.25%."
   ]
  },
  {
   "cell_type": "markdown",
   "metadata": {},
   "source": [
    "Widzimy że odsetek kobiet, które zginęły jest mniejszy niż w przypadku mężczyzn, mimo że ich mniejsze liczby. Prawdopodobnie były chronione przez mężczyzn przed śmiercią mimo iż stanowiły 35,6% całkowitej liczby pasażerów\n",
    "\n",
    "Katastrofa dotykała wszystkich równomiernie niezależnie od wieku."
   ]
  },
  {
   "cell_type": "markdown",
   "metadata": {},
   "source": [
    "### Przeżywalnośc dzieci do 10 roku życia."
   ]
  },
  {
   "cell_type": "markdown",
   "metadata": {},
   "source": [
    "- Mimo iż rokzkład śmiertelońci rozkładał się równomiernie odsetek przeżywalności dla dzieci poniżej 10 roku życia wyniósł 58,14%. Może świadczyć to o tym że dzieci podczas katastrofy były chronione i ułatwiano im przeżywalność\n"
   ]
  },
  {
   "cell_type": "markdown",
   "metadata": {},
   "source": [
    "### Największy odsetek przeżywalności pod względem klasy biletu"
   ]
  },
  {
   "cell_type": "markdown",
   "metadata": {},
   "source": [
    "Największy odsetek przeżywalności pod względem klasy biletu posiadała klasa 1 - 61,9%.\n",
    "Następnie 2 klasa - 43%\n",
    "Oraz najmniejszy odsetek posiadała klasa 3 - 25.5%."
   ]
  },
  {
   "cell_type": "markdown",
   "metadata": {},
   "source": [
    "### Odnalezione ciała:\n",
    "Suma zaginionych ciał: 1188\n",
    "Łączna liczba ciał 121\n",
    "Odnaleziono zaledwie 8 ciał kobiet co stanowi 6,61% wszystkich ciał. Może świadczyć to o tym że kobiety, topiły się szybciej ze względu na mniejszą tężyznę fizyczną.\n",
    "\n",
    "### Pokrewieństwo pasażerów:\n",
    "Ogólna liczba małżonków lub rodzeństwa: 418\n",
    "Ogólna liczba małżonków lub rodzeństwa, która poniosła śmierć: 227\n",
    "Ogólna liczba rodziców lub potomków: 307\n",
    "Ogólna liczba rodziców lub potomkówa, która poniosła śmierć: 143\n",
    "\n",
    "Szansa na przeżycie wzrastała wraz z posiadaniem członków rodziny. Osoby z rodziną posiadały: 50.29% szansy na przeżycie. Osoby samotne zaledwie: 30,25%.\n",
    "Największe szanse na przeżycie pośród ocalałych miały osoby posiadające 1 do 3 członków rodziny.\n",
    "\n",
    "W łodziach ratunkowych znajdowało się średnio 46.75 osoby"
   ]
  },
  {
   "cell_type": "markdown",
   "metadata": {},
   "source": [
    "### KROK 4: Analiza korelacji.\n",
    "\n",
    "Poza ujemną korelacją między **fare**(opłatą) a **pclass**(klasą biletu) wynoszącą -0,56, nie można stwierdzić jakichkolwiek znaczących kolrelacj."
   ]
  },
  {
   "cell_type": "markdown",
   "metadata": {},
   "source": [
    "### KROK 5: Alaliza wartości odstających"
   ]
  },
  {
   "cell_type": "markdown",
   "metadata": {},
   "source": [
    "Istniało przynajmniej 170 osób, które zapłaciły dużo więcej niż średnia cana biletu 1 klasy. Jeat prawdopodobne że ktoś dopłacił za dodatkowe usługi"
   ]
  },
  {
   "cell_type": "markdown",
   "metadata": {},
   "source": [
    "Istniało 101 osób, których wiek odstawał od wieku reszty pasażerów w tym: 34 dzieci i niemowląt oraz 67 osób starszych.7"
   ]
  },
  {
   "cell_type": "markdown",
   "metadata": {},
   "source": [
    "Istniało 57 osób, które miało 3 rodzeństwa bądz więcej"
   ]
  }
 ],
 "metadata": {
  "kernelspec": {
   "display_name": "final",
   "language": "python",
   "name": "python3"
  },
  "language_info": {
   "codemirror_mode": {
    "name": "ipython",
    "version": 3
   },
   "file_extension": ".py",
   "mimetype": "text/x-python",
   "name": "python",
   "nbconvert_exporter": "python",
   "pygments_lexer": "ipython3",
   "version": "3.11.11"
  }
 },
 "nbformat": 4,
 "nbformat_minor": 4
}
